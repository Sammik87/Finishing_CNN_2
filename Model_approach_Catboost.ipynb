{
 "cells": [
  {
   "cell_type": "code",
   "execution_count": 2,
   "id": "315c8945",
   "metadata": {},
   "outputs": [],
   "source": [
    "import csv\n",
    "import pandas as pd \n",
    "import numpy as np\n",
    "import matplotlib.pyplot as plt\n",
    "import seaborn as sns\n",
    "import os\n",
    "from tqdm import tqdm_notebook as tqdm\n",
    "import random\n",
    "\n",
    "from skimage.transform import resize \n",
    "from skimage.io import imread\n",
    "from sklearn.metrics import accuracy_score\n",
    "\n",
    "import keras\n",
    "import tensorflow\n",
    "from tensorflow.keras.applications import ResNet152V2\n",
    "from tensorflow.keras.applications import VGG19\n",
    "from tensorflow.keras.applications import DenseNet201\n",
    "from tensorflow.keras.applications.resnet_v2 import preprocess_input as pi_rnv2\n",
    "from tensorflow.keras.applications.vgg19 import preprocess_input as pi_vgg19\n",
    "from tensorflow.keras.applications.mobilenet_v2 import preprocess_input as pi_mobv2\n",
    "from tensorflow.keras.applications.xception import preprocess_input as pi_xcep\n",
    "\n",
    "from tensorflow.keras.preprocessing.image import ImageDataGenerator\n",
    "from tensorflow.keras.models import Sequential\n",
    "from tensorflow.keras.layers import Conv2D, MaxPooling2D, GlobalAveragePooling2D\n",
    "from tensorflow.keras.layers import Activation, Dropout, Flatten, Dense\n",
    "from keras import callbacks\n",
    "\n",
    "from keras.models import load_model\n",
    "import keras.utils as image\n",
    "\n",
    "from sklearn.model_selection import train_test_split\n",
    "from sklearn.metrics import accuracy_score\n",
    "from sklearn.metrics import classification_report\n",
    "from sklearn.metrics import confusion_matrix, ConfusionMatrixDisplay\n",
    "\n",
    "from catboost import CatBoostClassifier, Pool, sum_models\n",
    "from sklearn.linear_model import SGDClassifier\n",
    "from sklearn.neural_network import MLPClassifier\n",
    "\n",
    "%matplotlib inline\n",
    "sns.set()\n",
    "\n",
    "from PIL import ImageFile\n",
    "ImageFile.LOAD_TRUNCATED_IMAGES = True"
   ]
  },
  {
   "cell_type": "markdown",
   "id": "5847e599",
   "metadata": {},
   "source": [
    "# VGG_19 + CatBoost + Flatten"
   ]
  },
  {
   "cell_type": "code",
   "execution_count": 3,
   "id": "2d660cea",
   "metadata": {},
   "outputs": [
    {
     "name": "stderr",
     "output_type": "stream",
     "text": [
      "<timed exec>:31: TqdmDeprecationWarning: This function will be removed in tqdm==5.0.0\n",
      "Please use `tqdm.notebook.tqdm` instead of `tqdm.tqdm_notebook`\n"
     ]
    },
    {
     "data": {
      "application/vnd.jupyter.widget-view+json": {
       "model_id": "2060cd5e445342c0a5b7170b1b74e194",
       "version_major": 2,
       "version_minor": 0
      },
      "text/plain": [
       "Обработано: 0it [00:00, ?it/s]"
      ]
     },
     "metadata": {},
     "output_type": "display_data"
    },
    {
     "name": "stdout",
     "output_type": "stream",
     "text": [
      "Predict VGG19 № 1\n",
      "Данные для валидации готовы!\n",
      "CPU times: total: 22min 43s\n",
      "Wall time: 12min 2s\n"
     ]
    }
   ],
   "source": [
    "%%time\n",
    "#Валидация\n",
    "\n",
    "model_vgg_19 = VGG19(\n",
    "                     weights = 'imagenet', \n",
    "                     include_top = False\n",
    "                     )\n",
    "\n",
    "classes = [\n",
    "           'мусор',\n",
    "           'без_отделки', \n",
    "           'предчистовая', \n",
    "           #'экономный', \n",
    "           'стандартный', \n",
    "           #'улучшенный', \n",
    "           'план', \n",
    "           'улица', \n",
    "           'балкон', \n",
    "           'моп'\n",
    "          ]\n",
    "\n",
    "val_path = \"D:\\\\Стас\\\\Ученье - Свет\\\\Оценка\\\\Аспирантура\\\\Видео по NN, Data mining, ABC и т.д\\\\Распределение Гаусса, регрессия\\\\Python\\\\!Наработки\\\\Отделка_2\\\\NN\\\\split_NN_8\\\\val\"\n",
    "val_names = os.listdir(val_path)\n",
    "\n",
    "class_weights = [0.08, 0.13, 0.16, 0.13, 0.14, 0.13, 0.10, 0.13] #веса для классов\n",
    "\n",
    "fotos = 2000 #количество фото на все классы\n",
    "\n",
    "data = []        #input array \n",
    "target_arr = []  #output array \n",
    "\n",
    "for i, name in tqdm(enumerate(val_names), 'Обработано', position = 0):\n",
    "    class_path = val_path + '\\\\' + name\n",
    "    img_names = os.listdir(class_path)\n",
    "    \n",
    "    foto = int(fotos * class_weights[i])            #количесто фото на класс в зависимости от веса (баланса)\n",
    "    img_names = random.sample(img_names, k = foto)  #случайный набор фото из папки класса name в размере доли k\n",
    "    \n",
    "    for img_name in img_names:\n",
    "    #for img_name in tqdm(img_names, 'Обработано', position = 0):\n",
    "    #for i in range(0, foto, 1):\n",
    "        img_i = image.load_img(class_path + '\\\\' + img_name, target_size = (224, 224))\n",
    "        x = image.img_to_array(img_i)\n",
    "        #x = np.expand_dims(x, axis = 0)\n",
    "        x = pi_vgg19(x) / 255\n",
    "\n",
    "        data.append(x)\n",
    "        target_arr.append(i)\n",
    "\n",
    "print(f'Predict VGG19')\n",
    "arrays = model_vgg_19.predict(np.array(data), verbose = None) #делаем предсказания по всему массиву data\n",
    "\n",
    "data_arr = []\n",
    "\n",
    "for arr in arrays:\n",
    "    data_arr.append(arr.flatten()) #вытягиваем каждый прогноз VGG19 (arrays) в длину 25088 значений\n",
    "\n",
    "df_1 = pd.DataFrame(target_arr, columns = ['Y_val'])\n",
    "df_2 = pd.DataFrame(data_arr)\n",
    "df = pd.concat([df_1, df_2], axis = 1)\n",
    "Y_val = df['Y_val']\n",
    "X_val = df.drop(['Y_val'], axis = 1)\n",
    "\n",
    "print(f'Данные для валидации готовы!')"
   ]
  },
  {
   "cell_type": "code",
   "execution_count": 42,
   "id": "457dc1f7",
   "metadata": {},
   "outputs": [
    {
     "name": "stdout",
     "output_type": "stream",
     "text": [
      "(1, 7, 7, 512)\n",
      "25088\n"
     ]
    }
   ],
   "source": [
    "#Смотрим размер выходного (последнего) тензора\n",
    "from tensorflow.keras.applications import VGG19\n",
    "\n",
    "model = VGG19(weights = 'imagenet', include_top = False, input_shape = (224, 224, 3))\n",
    "\n",
    "input_image = tensorflow.random.normal((1, 224, 224, 3))\n",
    "output = model(input_image)\n",
    "\n",
    "print(output.shape)\n",
    "print(output.shape[1] * output.shape[2] * output.shape[3])"
   ]
  },
  {
   "cell_type": "code",
   "execution_count": 4,
   "id": "ea035a05-563b-4088-be0f-c04cd429a4ee",
   "metadata": {},
   "outputs": [
    {
     "name": "stdout",
     "output_type": "stream",
     "text": [
      "Tensor: (1, 7, 7, 1920)\n",
      "Flatten: 94080\n"
     ]
    }
   ],
   "source": [
    "#Смотрим размер выходного (последнего) тензора\n",
    "from tensorflow.keras.applications import DenseNet201\n",
    "\n",
    "model = DenseNet201(\n",
    "                    weights = 'imagenet', \n",
    "                    include_top = False, \n",
    "                    input_shape = (224, 224, 3)\n",
    "                   )\n",
    "\n",
    "input_image = tensorflow.random.normal((1, 224, 224, 3))\n",
    "output = model(input_image)\n",
    "\n",
    "print('Tensor:', output.shape)\n",
    "print('Flatten:', output.shape[1] * output.shape[2] * output.shape[3])"
   ]
  },
  {
   "cell_type": "code",
   "execution_count": null,
   "id": "2b920e27",
   "metadata": {},
   "outputs": [],
   "source": [
    "%%time\n",
    "#Для предобученной сети\n",
    "model_vgg_19 = VGG19(\n",
    "                     weights = 'imagenet', \n",
    "                     include_top = False\n",
    "                     )\n",
    "\n",
    "folder_name = [\n",
    "               'trash',\n",
    "               'wf', \n",
    "               'prefin', \n",
    "               #'econ', \n",
    "               'stand', \n",
    "               #'imp', \n",
    "               'plan', \n",
    "               'street', \n",
    "               'balc', \n",
    "               'mop'\n",
    "              ]\n",
    "\n",
    "val_path = r'D:\\Стас\\Ученье - Свет\\Оценка\\Аспирантура\\Видео по NN, Data mining, ABC и т.д\\Распределение Гаусса, регрессия\\Python\\!Наработки\\Отделка_2\\NN\\split_NN_8\\train'\n",
    "val_names = os.listdir(val_path) \n",
    "\n",
    "class_weights = [0.08, 0.13, 0.16, 0.13, 0.14, 0.13, 0.10, 0.13] #веса для классов\n",
    "\n",
    "fotos = 100 #количество фото на все классы в 1 batch\n",
    "h = 0       #шаг, после остановки модели и ее продолжении необходимо изменить h. Для следующих 100 итераций h = \n",
    "\n",
    "# catc = CatBoostClassifier(iterations = 100, #максимальное количество построенных деревьев\n",
    "#                           random_seed = 5, \n",
    "#                           learning_rate = 0.03, #скорость обучения, определяет насколько быстро или медленно модель \n",
    "#                                                  #будет учиться\n",
    "#                           max_depth = 5, #глубина дерева, учим на пеньках, чтобы небыло переобучения\n",
    "#                           l2_leaf_reg = 5, #коэффициент при члене регуляризации L2 функции потерь\n",
    "#                           #bagging_temperature = 1,\n",
    "#                           #random_strength = 1,\n",
    "#                           #one_hot_max_size = 8, #не используем one hot encoding, а включаем one_hot_max_size\n",
    "#                           #loss_function = 'Logloss',\n",
    "#                           loss_function = 'MultiClass',\n",
    "#                           eval_metric = 'Accuracy',      #Accuracy\n",
    "#                           use_best_model = True,\n",
    "#                           early_stopping_rounds = 10,\n",
    "#                           #od_type = 'Iter', #если модель переобучилась\n",
    "#                           #od_wait = 5\n",
    "#                           )\n",
    "\n",
    "#ДЛЯ ПРОДОЛЖЕНИЯ обучения необходимо скорректировать j и подгрузить нашу модель catmodel_vgg19.cbm\n",
    "#модель выше закоментить\n",
    "# catc = CatBoostClassifier(iterations = 100, learning_rate = 0.03, max_depth = 10)\n",
    "# catc.load_model('catmodel_vgg19_md5.cbm')\n",
    "\n",
    "accuracy = []\n",
    "\n",
    "#j = 100 - 20000 фото\n",
    "for j in tqdm(range(500, 600, 1), position = 0):  #1 итерация = 200 фото по всем классам\n",
    "\n",
    "    data = []        #input array \n",
    "    target_arr = []  #output array \n",
    "\n",
    "    for n, name_folder in enumerate(val_names):\n",
    "        class_path = val_path + '\\\\' + name_folder  #путь к папке первого класса\n",
    "        img_names = os.listdir(class_path)          #имена фото в папке\n",
    "        \n",
    "        foto = int(fotos * class_weights[n])        #количесто фото на класс в зависимости от веса (баланса)\n",
    "        h = foto * j                                #шаг, который контролирует batchs\n",
    "        \n",
    "        #print(\"\\r\", end = \"\") #чистим вывод\n",
    "        #print(f'j = {j}, h = {h}, n = {n}')        #принтим шаги j и h\n",
    "\n",
    "        #for img_name in tqdm(img_names, 'Обработанно файлов', position = 0):\n",
    "        for i in range(0, foto, 1):\n",
    "        #for i in tqdm(range(0, foto, 1), position = 1): #<---\n",
    "            img = keras.utils.load_img(class_path + '\\\\' + img_names[i + h], target_size = (224, 224))\n",
    "            x = keras.utils.img_to_array(img)\n",
    "            #x = np.expand_dims(x, axis = 0) #отключил, чтобы не добавлять размерность и полностью передать data_arr в VGG19 для прогноза\n",
    "            x = pi_vgg19(x) / 255  #в некоторых случаях необходимо делить на 255, согласно док vgg19 не масштабируется\n",
    "            \n",
    "            data.append(x)\n",
    "            #data.append(model_vgg_19.predict(x, verbose = None).flatten()) #тут наши факторы вытянутые в массив\n",
    "            target_arr.append(n)                                            #тут наша метка по классу\n",
    "    \n",
    "    print(f'Обучение модели № {j + 1}')\n",
    "    \n",
    "    arrays = model_vgg_19.predict(np.array(data), verbose = None) #делаем предсказания по всему массиву data\n",
    "    \n",
    "    data_arr = []\n",
    "    \n",
    "    for arr in arrays:\n",
    "        data_arr.append(arr.flatten()) #вытягиваем каждый прогноз VGG19 (arrays) в длину 25088 значений\n",
    "    \n",
    "    df_1 = pd.DataFrame(target_arr, columns = ['Y'])\n",
    "    df_2 = pd.DataFrame(data_arr)\n",
    "    df = pd.concat([df_1, df_2], axis = 1)\n",
    "    df = df.sample(frac = 1).reset_index(drop = True)          #перемешиваем строки\n",
    "    Y = df['Y']\n",
    "    X = df.drop(['Y'], axis = 1)\n",
    "    \n",
    "    #X_train, X_test, Y_train, Y_test = train_test_split(X, Y, test_size = 0.2, random_state = 0, stratify = Y)\n",
    "    \n",
    "    if j == 0:                                                 #если это первый batch, то просто обучаем модель\n",
    "        catc.fit(X, Y,\n",
    "        #catc.fit(np.array(data_arr), np.array(target_arr), \n",
    "                 verbose = False,\n",
    "                 eval_set = (X_val, Y_val),\n",
    "                 #plot = True\n",
    "                )\n",
    "        catc.save_model('catmodel_vgg19_md5.cbm')\n",
    "        pred_val = catc.predict(X_val)\n",
    "        acc = accuracy_score(pred_val, Y_val)\n",
    "        accuracy.append(acc)\n",
    "    \n",
    "    else:\n",
    "        catc.fit(X, Y,\n",
    "        #catc.fit(np.array(data_arr), np.array(target_arr)),    #если это не первый batch, то дообучаем модель\n",
    "                 verbose = False,\n",
    "                 eval_set = (X_val, Y_val),\n",
    "                 #plot = True,\n",
    "                 init_model = 'catmodel_vgg19_md5.cbm'\n",
    "                )\n",
    "        catc.save_model('catmodel_vgg19_md5.cbm')\n",
    "        cat_model = CatBoostClassifier()\n",
    "        cat_model.load_model('catmodel_vgg19_md5.cbm')\n",
    "        pred_val = catc.predict(X_val)\n",
    "        acc = accuracy_score(pred_val, Y_val)\n",
    "        accuracy.append(acc)\n",
    "    \n",
    "    print(f'Обучение batch № {j + 1} успешно завершено! Accuracy: {acc}')"
   ]
  },
  {
   "cell_type": "code",
   "execution_count": 40,
   "id": "74f9181d",
   "metadata": {},
   "outputs": [
    {
     "data": {
      "text/plain": [
       "[0.35, 0.405, 0.4, 0.51, 0.54, 0.55, 0.545, 0.485, 0.545, 0.555]"
      ]
     },
     "execution_count": 40,
     "metadata": {},
     "output_type": "execute_result"
    }
   ],
   "source": [
    "accuracy"
   ]
  },
  {
   "cell_type": "code",
   "execution_count": 38,
   "id": "80cbce7d",
   "metadata": {},
   "outputs": [
    {
     "name": "stderr",
     "output_type": "stream",
     "text": [
      "C:\\Users\\skapr\\AppData\\Local\\Temp\\ipykernel_3696\\1966282082.py:4: FutureWarning: save is not part of the public API, usage can give unexpected results and will be removed in a future version\n",
      "  writer.save()\n"
     ]
    }
   ],
   "source": [
    "#Сохраняем в Excel\n",
    "writer = pd.ExcelWriter('Accuracy_foto.xlsx')\n",
    "pd.DataFrame(accuracy).to_excel(writer, 'прогноз')\n",
    "writer.save()"
   ]
  },
  {
   "cell_type": "code",
   "execution_count": 39,
   "id": "28a9a6d0",
   "metadata": {},
   "outputs": [
    {
     "data": {
      "text/html": [
       "<div>\n",
       "<style scoped>\n",
       "    .dataframe tbody tr th:only-of-type {\n",
       "        vertical-align: middle;\n",
       "    }\n",
       "\n",
       "    .dataframe tbody tr th {\n",
       "        vertical-align: top;\n",
       "    }\n",
       "\n",
       "    .dataframe thead th {\n",
       "        text-align: right;\n",
       "    }\n",
       "</style>\n",
       "<table border=\"1\" class=\"dataframe\">\n",
       "  <thead>\n",
       "    <tr style=\"text-align: right;\">\n",
       "      <th></th>\n",
       "      <th>Iter</th>\n",
       "      <th>Acc_md5</th>\n",
       "      <th>foto</th>\n",
       "      <th>D_foto</th>\n",
       "    </tr>\n",
       "  </thead>\n",
       "  <tbody>\n",
       "    <tr>\n",
       "      <th>0</th>\n",
       "      <td>1</td>\n",
       "      <td>0.3895</td>\n",
       "      <td>150</td>\n",
       "      <td>0.001018</td>\n",
       "    </tr>\n",
       "    <tr>\n",
       "      <th>1</th>\n",
       "      <td>2</td>\n",
       "      <td>0.4385</td>\n",
       "      <td>300</td>\n",
       "      <td>0.002036</td>\n",
       "    </tr>\n",
       "    <tr>\n",
       "      <th>2</th>\n",
       "      <td>3</td>\n",
       "      <td>0.4475</td>\n",
       "      <td>450</td>\n",
       "      <td>0.003054</td>\n",
       "    </tr>\n",
       "    <tr>\n",
       "      <th>3</th>\n",
       "      <td>4</td>\n",
       "      <td>0.4955</td>\n",
       "      <td>600</td>\n",
       "      <td>0.004072</td>\n",
       "    </tr>\n",
       "    <tr>\n",
       "      <th>4</th>\n",
       "      <td>5</td>\n",
       "      <td>0.5145</td>\n",
       "      <td>750</td>\n",
       "      <td>0.005090</td>\n",
       "    </tr>\n",
       "    <tr>\n",
       "      <th>...</th>\n",
       "      <td>...</td>\n",
       "      <td>...</td>\n",
       "      <td>...</td>\n",
       "      <td>...</td>\n",
       "    </tr>\n",
       "    <tr>\n",
       "      <th>526</th>\n",
       "      <td>527</td>\n",
       "      <td>0.7140</td>\n",
       "      <td>79050</td>\n",
       "      <td>0.536441</td>\n",
       "    </tr>\n",
       "    <tr>\n",
       "      <th>527</th>\n",
       "      <td>528</td>\n",
       "      <td>0.7135</td>\n",
       "      <td>79200</td>\n",
       "      <td>0.537459</td>\n",
       "    </tr>\n",
       "    <tr>\n",
       "      <th>528</th>\n",
       "      <td>529</td>\n",
       "      <td>0.7135</td>\n",
       "      <td>79350</td>\n",
       "      <td>0.538477</td>\n",
       "    </tr>\n",
       "    <tr>\n",
       "      <th>529</th>\n",
       "      <td>530</td>\n",
       "      <td>0.7125</td>\n",
       "      <td>79500</td>\n",
       "      <td>0.539495</td>\n",
       "    </tr>\n",
       "    <tr>\n",
       "      <th>530</th>\n",
       "      <td>531</td>\n",
       "      <td>0.7160</td>\n",
       "      <td>79650</td>\n",
       "      <td>0.540513</td>\n",
       "    </tr>\n",
       "  </tbody>\n",
       "</table>\n",
       "<p>531 rows × 4 columns</p>\n",
       "</div>"
      ],
      "text/plain": [
       "     Iter  Acc_md5   foto    D_foto\n",
       "0       1   0.3895    150  0.001018\n",
       "1       2   0.4385    300  0.002036\n",
       "2       3   0.4475    450  0.003054\n",
       "3       4   0.4955    600  0.004072\n",
       "4       5   0.5145    750  0.005090\n",
       "..    ...      ...    ...       ...\n",
       "526   527   0.7140  79050  0.536441\n",
       "527   528   0.7135  79200  0.537459\n",
       "528   529   0.7135  79350  0.538477\n",
       "529   530   0.7125  79500  0.539495\n",
       "530   531   0.7160  79650  0.540513\n",
       "\n",
       "[531 rows x 4 columns]"
      ]
     },
     "execution_count": 39,
     "metadata": {},
     "output_type": "execute_result"
    }
   ],
   "source": [
    "df = pd.read_excel('D:\\Стас\\Ученье - Свет\\Оценка\\Аспирантура\\Видео по NN, Data mining, ABC и т.д\\Распределение Гаусса, регрессия\\Python\\!Наработки\\Отделка_2/Iter.xlsx', sheet_name = 3)\n",
    "df"
   ]
  },
  {
   "cell_type": "code",
   "execution_count": 42,
   "id": "249c238d",
   "metadata": {},
   "outputs": [
    {
     "data": {
      "text/plain": [
       "<matplotlib.legend.Legend at 0x25955429bb0>"
      ]
     },
     "execution_count": 42,
     "metadata": {},
     "output_type": "execute_result"
    },
    {
     "data": {
      "image/png": "[encoded data removed]",
      "text/plain": [
       "<Figure size 1080x432 with 1 Axes>"
      ]
     },
     "metadata": {},
     "output_type": "display_data"
    }
   ],
   "source": [
    "df['Acc_md5'].plot(figsize = (15, 6), label = 'Acc_md5')\n",
    "#df['Acc_md2'].plot(figsize = (15, 6), label = 'Acc_md2')\n",
    "#df['D_foto'].plot(figsize = (15, 6))\n",
    "plt.xlabel('Объем фотографий / 150', fontsize = 15)\n",
    "plt.ylabel('Accuracy', fontsize = 15)\n",
    "plt.title('Динамика accuracy', fontweight = 'bold', fontsize = 18)\n",
    "plt.legend()"
   ]
  },
  {
   "cell_type": "code",
   "execution_count": 43,
   "id": "f428bc93",
   "metadata": {},
   "outputs": [
    {
     "name": "stderr",
     "output_type": "stream",
     "text": [
      "<timed exec>:36: TqdmDeprecationWarning: This function will be removed in tqdm==5.0.0\n",
      "Please use `tqdm.notebook.tqdm` instead of `tqdm.tqdm_notebook`\n"
     ]
    },
    {
     "data": {
      "application/vnd.jupyter.widget-view+json": {
       "model_id": "61bd504c96984a6685f563fbd3421cdc",
       "version_major": 2,
       "version_minor": 0
      },
      "text/plain": [
       "Обработано: 0it [00:00, ?it/s]"
      ]
     },
     "metadata": {},
     "output_type": "display_data"
    },
    {
     "name": "stdout",
     "output_type": "stream",
     "text": [
      "Predict VGG19\n",
      "Predict Model\n",
      "0.665\n",
      "[[ 22   7  23  29  13  26  28  12]\n",
      " [  1 160  47  19   0   9  15   9]\n",
      " [  2  27 245  17   4   0   2  23]\n",
      " [  5  19  30 147   1   6  17  35]\n",
      " [  1   1   6   2 268   1   0   1]\n",
      " [  1   2   2   1   1 243   4   6]\n",
      " [  1   9  11  10   1   7 146  15]\n",
      " [  3  17  49  52   3  13  24  99]]\n",
      "CPU times: total: 21min 21s\n",
      "Wall time: 14min 14s\n"
     ]
    }
   ],
   "source": [
    "%%time\n",
    "#Валидация\n",
    "\n",
    "model_vgg_19 = VGG19(\n",
    "                     weights = 'imagenet', \n",
    "                     include_top = False\n",
    "                     )\n",
    "\n",
    "model = CatBoostClassifier()\n",
    "#model.load_model('catmodel_vgg19_md2_100_20000.cbm')\n",
    "#model.load_model('catmodel_vgg19_md1_200_40000.cbm')\n",
    "model.load_model('catmodel_vgg19_md5.cbm')\n",
    "\n",
    "classes = [\n",
    "           'мусор',\n",
    "           'без_отделки', \n",
    "           'предчистовая', \n",
    "           #'экономный', \n",
    "           'стандартный', \n",
    "           #'улучшенный', \n",
    "           'план', \n",
    "           'улица', \n",
    "           'балкон', \n",
    "           'моп'\n",
    "          ]\n",
    "\n",
    "val_path = \"D:\\\\Стас\\\\Ученье - Свет\\\\Оценка\\\\Аспирантура\\\\Видео по NN, Data mining, ABC и т.д\\\\Распределение Гаусса, регрессия\\\\Python\\\\!Наработки\\\\Отделка_2\\\\NN\\\\split_NN_8\\\\val\"\n",
    "val_names = os.listdir(val_path)\n",
    "\n",
    "class_weights = [0.08, 0.13, 0.16, 0.13, 0.14, 0.13, 0.10, 0.13] #веса для классов\n",
    "\n",
    "fotos = 2000 #количество фото на все классы\n",
    "\n",
    "data = []        #input array \n",
    "target_arr = []  #output array \n",
    "\n",
    "for i, name in tqdm(enumerate(val_names), 'Обработано', position = 0):\n",
    "    class_path = val_path + '\\\\' + name\n",
    "    img_names = os.listdir(class_path)\n",
    "    \n",
    "    foto = int(fotos * class_weights[i])            #количесто фото на класс в зависимости от веса (баланса)\n",
    "    img_names = random.sample(img_names, k = foto)  #случайный набор фото из папки класса name в размере доли k\n",
    "    \n",
    "    for img_name in img_names:\n",
    "    #for img_name in tqdm(img_names, 'Обработано', position = 0):\n",
    "    #for i in range(0, foto, 1):\n",
    "        img_i = image.load_img(class_path + '\\\\' + img_name, target_size = (224, 224))\n",
    "        x = image.img_to_array(img_i)\n",
    "        #x = np.expand_dims(x, axis = 0)\n",
    "        x = pi_vgg19(x) / 255\n",
    "\n",
    "        data.append(x)\n",
    "        target_arr.append(i)\n",
    "\n",
    "print(f'Predict VGG19')\n",
    "arrays = model_vgg_19.predict(np.array(data), verbose = None) #делаем предсказания по всему массиву data\n",
    "\n",
    "data_arr = []\n",
    "\n",
    "for arr in arrays:\n",
    "    data_arr.append(arr.flatten()) #вытягиваем каждый прогноз VGG19 (arrays) в длину 25088 значений\n",
    "\n",
    "df_1 = pd.DataFrame(target_arr, columns = ['Y_val'])\n",
    "df_2 = pd.DataFrame(data_arr)\n",
    "df = pd.concat([df_1, df_2], axis = 1)\n",
    "Y_val = df['Y_val']\n",
    "X_val = df.drop(['Y_val'], axis = 1)\n",
    "\n",
    "print(f'Predict Model')\n",
    "preds = model.predict(X_val, verbose = None)\n",
    "df['preds'] = preds\n",
    "\n",
    "print(accuracy_score(preds, Y_val))\n",
    "CM = confusion_matrix(df['Y_val'], df['preds'])\n",
    "print(CM)"
   ]
  },
  {
   "cell_type": "code",
   "execution_count": 44,
   "id": "a5cdc330",
   "metadata": {},
   "outputs": [
    {
     "data": {
      "image/png": "[encoded data removed]",
      "text/plain": [
       "<Figure size 864x864 with 2 Axes>"
      ]
     },
     "metadata": {},
     "output_type": "display_data"
    }
   ],
   "source": [
    "#ConfusionMatrixDisplay\n",
    "disp = ConfusionMatrixDisplay(confusion_matrix = CM, display_labels = classes)\n",
    "\n",
    "fig, ax = plt.subplots(figsize = (12, 12))\n",
    "#ax.grid(False)\n",
    "disp.plot(values_format = '.3g', ax = ax)\n",
    "plt.xticks(rotation = 70)\n",
    "plt.grid(False)\n",
    "plt.show();"
   ]
  },
  {
   "cell_type": "markdown",
   "id": "dbc31568",
   "metadata": {},
   "source": [
    "# VGG_19 + CatBoost + AveragePooling2D"
   ]
  },
  {
   "cell_type": "code",
   "execution_count": 2,
   "id": "10ff68ce",
   "metadata": {},
   "outputs": [
    {
     "name": "stderr",
     "output_type": "stream",
     "text": [
      "<timed exec>:31: TqdmDeprecationWarning: This function will be removed in tqdm==5.0.0\n",
      "Please use `tqdm.notebook.tqdm` instead of `tqdm.tqdm_notebook`\n"
     ]
    },
    {
     "data": {
      "application/vnd.jupyter.widget-view+json": {
       "model_id": "01495b96193145f7903c5d07f5dcc0df",
       "version_major": 2,
       "version_minor": 0
      },
      "text/plain": [
       "Обработано: 0it [00:00, ?it/s]"
      ]
     },
     "metadata": {},
     "output_type": "display_data"
    },
    {
     "name": "stdout",
     "output_type": "stream",
     "text": [
      "Predict VGG19_AveragePooling2D\n",
      "Данные для валидации готовы!\n",
      "CPU times: total: 23min 30s\n",
      "Wall time: 9min 34s\n"
     ]
    }
   ],
   "source": [
    "%%time\n",
    "#Валидация\n",
    "\n",
    "model_vgg_19 = VGG19(\n",
    "                     weights = 'imagenet', \n",
    "                     include_top = False\n",
    "                     )\n",
    "\n",
    "classes = [\n",
    "           'мусор',\n",
    "           'без_отделки', \n",
    "           'предчистовая', \n",
    "           #'экономный', \n",
    "           'стандартный', \n",
    "           #'улучшенный', \n",
    "           'план', \n",
    "           'улица', \n",
    "           'балкон', \n",
    "           'моп'\n",
    "          ]\n",
    "\n",
    "val_path = \"D:\\\\Стас\\\\Ученье - Свет\\\\Оценка\\\\Аспирантура\\\\Видео по NN, Data mining, ABC и т.д\\\\Распределение Гаусса, регрессия\\\\Python\\\\!Наработки\\\\Отделка_2\\\\NN\\\\split_NN_8\\\\val\"\n",
    "val_names = os.listdir(val_path)\n",
    "\n",
    "class_weights = [0.08, 0.13, 0.16, 0.13, 0.14, 0.13, 0.10, 0.13] #веса для классов\n",
    "\n",
    "fotos = 2000 #количество фото на все классы\n",
    "\n",
    "data = []        #input array \n",
    "target_arr = []  #output array \n",
    "\n",
    "for i, name in tqdm(enumerate(val_names), 'Обработано', position = 0):\n",
    "    class_path = val_path + '\\\\' + name\n",
    "    img_names = os.listdir(class_path)\n",
    "    \n",
    "    foto = int(fotos * class_weights[i])            #количесто фото на класс в зависимости от веса (баланса)\n",
    "    img_names = random.sample(img_names, k = foto)  #случайный набор фото из папки класса name в размере доли k\n",
    "    \n",
    "    for img_name in img_names:\n",
    "    #for img_name in tqdm(img_names, 'Обработано', position = 0):\n",
    "    #for i in range(0, foto, 1):\n",
    "        img_i = image.load_img(class_path + '\\\\' + img_name, target_size = (224, 224))\n",
    "        x = image.img_to_array(img_i)\n",
    "        #x = np.expand_dims(x, axis = 0) #отключаем, так как мы предсказываем ниже массив данных, а не 1 значение\n",
    "        x = pi_vgg19(x) / 255\n",
    "\n",
    "        data.append(x)\n",
    "        target_arr.append(i)\n",
    "\n",
    "print(f'Predict VGG19_AveragePooling2D')\n",
    "arrays = model_vgg_19.predict(np.array(data), verbose = None) #делаем предсказания по всему массиву data\n",
    "avg_pool = tensorflow.keras.layers.AveragePooling2D(pool_size = (2, 2)) #уменьшает размерность по окну (2,2) и сохраняет пространственные признаки\n",
    "features = avg_pool(arrays)\n",
    "features = features.numpy()\n",
    "\n",
    "data_arr = []\n",
    "\n",
    "for arr in features:\n",
    "    data_arr.append(arr.flatten()) #вытягиваем каждый прогноз VGG19 (arrays) в длину 25088 значений\n",
    "\n",
    "df_1 = pd.DataFrame(target_arr, columns = ['Y_val'])\n",
    "df_2 = pd.DataFrame(data_arr)\n",
    "df = pd.concat([df_1, df_2], axis = 1)\n",
    "Y_val = df['Y_val']\n",
    "X_val = df.drop(['Y_val'], axis = 1)\n",
    "\n",
    "print(f'Данные для валидации готовы!')"
   ]
  },
  {
   "cell_type": "code",
   "execution_count": null,
   "id": "4d78cdbb",
   "metadata": {},
   "outputs": [],
   "source": [
    "%%time\n",
    "#Для предобученной сети\n",
    "model_vgg_19 = VGG19(\n",
    "                     weights = 'imagenet', \n",
    "                     include_top = False\n",
    "                     )\n",
    "\n",
    "folder_name = [\n",
    "               'trash',\n",
    "               'wf', \n",
    "               'prefin', \n",
    "               #'econ', \n",
    "               'stand', \n",
    "               #'imp', \n",
    "               'plan', \n",
    "               'street', \n",
    "               'balc', \n",
    "               'mop'\n",
    "              ]\n",
    "\n",
    "val_path = r'D:\\Стас\\Ученье - Свет\\Оценка\\Аспирантура\\Видео по NN, Data mining, ABC и т.д\\Распределение Гаусса, регрессия\\Python\\!Наработки\\Отделка_2\\NN\\split_NN_8\\train'\n",
    "val_names = os.listdir(val_path) \n",
    "\n",
    "class_weights = [0.08, 0.13, 0.16, 0.13, 0.14, 0.13, 0.10, 0.13] #веса для классов\n",
    "\n",
    "fotos = 1000 #количество фото на все классы в 1 batch\n",
    "h = 0        #шаг\n",
    "\n",
    "catc = CatBoostClassifier(iterations = 150, #максимальное количество построенных деревьев\n",
    "                          random_seed = 5, \n",
    "                          learning_rate = 0.1, #скорость обучения, определяет насколько быстро или медленно модель \n",
    "                                                 #будет учиться\n",
    "                          max_depth = 5, #глубина дерева, учим на пеньках, чтобы небыло переобучения\n",
    "                          l2_leaf_reg = 5, #коэффициент при члене регуляризации L2 функции потерь\n",
    "                          #bagging_temperature = 1,\n",
    "                          #random_strength = 1,\n",
    "                          #one_hot_max_size = 8, #не используем one hot encoding, а включаем one_hot_max_size\n",
    "                          #loss_function = 'Logloss',\n",
    "                          loss_function = 'MultiClass',\n",
    "                          eval_metric = 'Accuracy',      #Accuracy\n",
    "                          use_best_model = True,\n",
    "                          early_stopping_rounds = 10,\n",
    "                          #od_type = 'Iter', #если модель переобучилась\n",
    "                          #od_wait = 5\n",
    "                          )\n",
    "\n",
    "#ДЛЯ ПРОДОЛЖЕНИЯ обучения необходимо скорректировать j и подгрузить нашу модель catmodel_vgg19.cbm\n",
    "#модель выше закоментить\n",
    "# catc = CatBoostClassifier(iterations = 100, learning_rate = 0.03, max_depth = 10)\n",
    "# catc.load_model('catmodel_vgg19_md5.cbm')\n",
    "\n",
    "accuracy = []\n",
    "\n",
    "for j in tqdm(range(15, 148, 1), position = 0):  #до 148\n",
    "\n",
    "    data = []        #input array \n",
    "    target_arr = []  #output array \n",
    "\n",
    "    for n, name_folder in enumerate(val_names):\n",
    "        class_path = val_path + '\\\\' + name_folder  #путь к папке первого класса\n",
    "        img_names = os.listdir(class_path)          #имена фото в папке\n",
    "        \n",
    "        foto = int(fotos * class_weights[n])        #количесто фото на класс в зависимости от веса (баланса)\n",
    "        h = foto * j                                #шаг, который контролирует batchs\n",
    "        \n",
    "        #print(\"\\r\", end = \"\") #чистим вывод\n",
    "        #print(f'j = {j}, h = {h}, n = {n}')        #принтим шаги j и h\n",
    "\n",
    "        #for img_name in tqdm(img_names, 'Обработанно файлов', position = 0):\n",
    "        for i in range(0, foto, 1):\n",
    "        #for i in tqdm(range(0, foto, 1), position = 1): #<---\n",
    "            img = keras.utils.load_img(class_path + '\\\\' + img_names[i + h], target_size = (224, 224))\n",
    "            x = keras.utils.img_to_array(img)\n",
    "            #x = np.expand_dims(x, axis = 0) #отключил, чтобы не добавлять размерность и полностью передать data_arr в VGG19 для прогноза\n",
    "            x = pi_vgg19(x) / 255  #в некоторых случаях необходимо делить на 255, согласно док vgg19 не масштабируется\n",
    "            \n",
    "            data.append(x)\n",
    "            #data.append(model_vgg_19.predict(x, verbose = None).flatten()) #тут наши факторы вытянутые в массив\n",
    "            target_arr.append(n)                                            #тут наша метка по классу\n",
    "    \n",
    "    print(f'Обучение модели № {j + 1}')\n",
    "    \n",
    "    arrays = model_vgg_19.predict(np.array(data), verbose = None) #делаем предсказания по всему массиву data\n",
    "    \n",
    "    avg_pool = tensorflow.keras.layers.AveragePooling2D(pool_size = (2, 2)) #уменьшает размерность по окну (2,2) и сохраняет пространственные признаки\n",
    "    features = avg_pool(arrays)\n",
    "    features = features.numpy()\n",
    "    \n",
    "    data_arr = []\n",
    "    \n",
    "    for arr in features:\n",
    "        data_arr.append(arr.flatten()) #вытягиваем каждый прогноз VGG19 (arrays)\n",
    "    \n",
    "    df_1 = pd.DataFrame(target_arr, columns = ['Y'])\n",
    "    df_2 = pd.DataFrame(data_arr)\n",
    "    df = pd.concat([df_1, df_2], axis = 1)\n",
    "    df = df.sample(frac = 1).reset_index(drop = True)          #перемешиваем строки\n",
    "    Y = df['Y']\n",
    "    X = df.drop(['Y'], axis = 1)\n",
    "    \n",
    "    #X_train, X_test, Y_train, Y_test = train_test_split(X, Y, test_size = 0.2, random_state = 0, stratify = Y)\n",
    "    \n",
    "    if j == 0:                                                 #если это первый batch, то просто обучаем модель\n",
    "        catc.fit(X, Y,\n",
    "        #catc.fit(np.array(data_arr), np.array(target_arr), \n",
    "                 verbose = False,\n",
    "                 eval_set = (X_val, Y_val),\n",
    "                 #plot = True\n",
    "                )\n",
    "        catc.save_model('catmodel_vgg19_md5_avg.cbm')\n",
    "        pred_val = catc.predict(X_val)\n",
    "        acc = accuracy_score(pred_val, Y_val)\n",
    "        accuracy.append(acc)\n",
    "    \n",
    "    else:\n",
    "        catc.fit(X, Y,\n",
    "        #catc.fit(np.array(data_arr), np.array(target_arr)),    #если это не первый batch, то дообучаем модель\n",
    "                 verbose = False,\n",
    "                 eval_set = (X_val, Y_val),\n",
    "                 #plot = True,\n",
    "                 init_model = 'catmodel_vgg19_md5_avg.cbm'\n",
    "                )\n",
    "        catc.save_model('catmodel_vgg19_md5_avg.cbm')\n",
    "        cat_model = CatBoostClassifier()\n",
    "        cat_model.load_model('catmodel_vgg19_md5_avg.cbm')\n",
    "        pred_val = catc.predict(X_val)\n",
    "        acc = accuracy_score(pred_val, Y_val)\n",
    "        accuracy.append(acc)\n",
    "    \n",
    "    print(f'Обучение batch № {j + 1} успешно завершено! Accuracy: {acc}')"
   ]
  },
  {
   "cell_type": "code",
   "execution_count": 5,
   "id": "a92fcf99",
   "metadata": {},
   "outputs": [
    {
     "name": "stderr",
     "output_type": "stream",
     "text": [
      "C:\\Users\\skapr\\AppData\\Local\\Temp\\ipykernel_10728\\1966282082.py:4: FutureWarning: save is not part of the public API, usage can give unexpected results and will be removed in a future version\n",
      "  writer.save()\n"
     ]
    }
   ],
   "source": [
    "#Сохраняем в Excel\n",
    "writer = pd.ExcelWriter('Accuracy_foto.xlsx')\n",
    "pd.DataFrame(accuracy).to_excel(writer, 'прогноз')\n",
    "writer.save()"
   ]
  },
  {
   "cell_type": "code",
   "execution_count": 7,
   "id": "6d8c042f",
   "metadata": {},
   "outputs": [
    {
     "data": {
      "text/html": [
       "<div>\n",
       "<style scoped>\n",
       "    .dataframe tbody tr th:only-of-type {\n",
       "        vertical-align: middle;\n",
       "    }\n",
       "\n",
       "    .dataframe tbody tr th {\n",
       "        vertical-align: top;\n",
       "    }\n",
       "\n",
       "    .dataframe thead th {\n",
       "        text-align: right;\n",
       "    }\n",
       "</style>\n",
       "<table border=\"1\" class=\"dataframe\">\n",
       "  <thead>\n",
       "    <tr style=\"text-align: right;\">\n",
       "      <th></th>\n",
       "      <th>Iter</th>\n",
       "      <th>Acc_md5_avg</th>\n",
       "    </tr>\n",
       "  </thead>\n",
       "  <tbody>\n",
       "    <tr>\n",
       "      <th>0</th>\n",
       "      <td>1</td>\n",
       "      <td>0.4475</td>\n",
       "    </tr>\n",
       "    <tr>\n",
       "      <th>1</th>\n",
       "      <td>2</td>\n",
       "      <td>0.4750</td>\n",
       "    </tr>\n",
       "    <tr>\n",
       "      <th>2</th>\n",
       "      <td>3</td>\n",
       "      <td>0.5030</td>\n",
       "    </tr>\n",
       "    <tr>\n",
       "      <th>3</th>\n",
       "      <td>4</td>\n",
       "      <td>0.5315</td>\n",
       "    </tr>\n",
       "    <tr>\n",
       "      <th>4</th>\n",
       "      <td>5</td>\n",
       "      <td>0.5465</td>\n",
       "    </tr>\n",
       "    <tr>\n",
       "      <th>...</th>\n",
       "      <td>...</td>\n",
       "      <td>...</td>\n",
       "    </tr>\n",
       "    <tr>\n",
       "      <th>135</th>\n",
       "      <td>136</td>\n",
       "      <td>0.7265</td>\n",
       "    </tr>\n",
       "    <tr>\n",
       "      <th>136</th>\n",
       "      <td>137</td>\n",
       "      <td>0.7330</td>\n",
       "    </tr>\n",
       "    <tr>\n",
       "      <th>137</th>\n",
       "      <td>138</td>\n",
       "      <td>0.7365</td>\n",
       "    </tr>\n",
       "    <tr>\n",
       "      <th>138</th>\n",
       "      <td>139</td>\n",
       "      <td>0.7360</td>\n",
       "    </tr>\n",
       "    <tr>\n",
       "      <th>139</th>\n",
       "      <td>140</td>\n",
       "      <td>0.7360</td>\n",
       "    </tr>\n",
       "  </tbody>\n",
       "</table>\n",
       "<p>140 rows × 2 columns</p>\n",
       "</div>"
      ],
      "text/plain": [
       "     Iter  Acc_md5_avg\n",
       "0       1       0.4475\n",
       "1       2       0.4750\n",
       "2       3       0.5030\n",
       "3       4       0.5315\n",
       "4       5       0.5465\n",
       "..    ...          ...\n",
       "135   136       0.7265\n",
       "136   137       0.7330\n",
       "137   138       0.7365\n",
       "138   139       0.7360\n",
       "139   140       0.7360\n",
       "\n",
       "[140 rows x 2 columns]"
      ]
     },
     "execution_count": 7,
     "metadata": {},
     "output_type": "execute_result"
    }
   ],
   "source": [
    "df = pd.read_excel('D:\\Стас\\Ученье - Свет\\Оценка\\Аспирантура\\Видео по NN, Data mining, ABC и т.д\\Распределение Гаусса, регрессия\\Python\\!Наработки\\Отделка_2/Iter.xlsx', sheet_name = 4)\n",
    "df"
   ]
  },
  {
   "cell_type": "code",
   "execution_count": 9,
   "id": "e4bb30e4",
   "metadata": {},
   "outputs": [
    {
     "data": {
      "text/plain": [
       "<matplotlib.legend.Legend at 0x17319cf1910>"
      ]
     },
     "execution_count": 9,
     "metadata": {},
     "output_type": "execute_result"
    },
    {
     "data": {
      "image/png": "[encoded data removed]",
      "text/plain": [
       "<Figure size 1080x432 with 1 Axes>"
      ]
     },
     "metadata": {},
     "output_type": "display_data"
    }
   ],
   "source": [
    "df['Acc_md5_avg'].plot(figsize = (15, 6), label = 'Acc_md5_avg')\n",
    "#df['Acc_md2'].plot(figsize = (15, 6), label = 'Acc_md2')\n",
    "#df['D_foto'].plot(figsize = (15, 6))\n",
    "plt.xlabel('Объем фотографий / 1000', fontsize = 15)\n",
    "plt.ylabel('Accuracy', fontsize = 15)\n",
    "plt.title('Динамика accuracy', fontweight = 'bold', fontsize = 18)\n",
    "plt.legend()"
   ]
  },
  {
   "cell_type": "code",
   "execution_count": 66,
   "id": "cbc936bd",
   "metadata": {},
   "outputs": [
    {
     "data": {
      "application/vnd.jupyter.widget-view+json": {
       "model_id": "82b43982c45147a48be15e73c6f9d5b9",
       "version_major": 2,
       "version_minor": 0
      },
      "text/plain": [
       "MetricVisualizer(layout=Layout(align_self='stretch', height='500px'))"
      ]
     },
     "metadata": {},
     "output_type": "display_data"
    },
    {
     "data": {
      "text/plain": [
       "<catboost.core.CatBoostClassifier at 0x2597065ef10>"
      ]
     },
     "execution_count": 66,
     "metadata": {},
     "output_type": "execute_result"
    }
   ],
   "source": [
    "catc = CatBoostClassifier(iterations = 150, #максимальное количество построенных деревьев\n",
    "                          random_seed = 5, \n",
    "                          learning_rate = 0.1, #скорость обучения, определяет насколько быстро или медленно модель \n",
    "                                                 #будет учиться\n",
    "                          max_depth = 5, #глубина дерева, учим на пеньках, чтобы небыло переобучения\n",
    "                          l2_leaf_reg = 5, #коэффициент при члене регуляризации L2 функции потерь\n",
    "                          #bagging_temperature = 1,\n",
    "                          #random_strength = 1,\n",
    "                          #one_hot_max_size = 8, #не используем one hot encoding, а включаем one_hot_max_size\n",
    "                          #loss_function = 'Logloss',\n",
    "                          loss_function = 'MultiClass',\n",
    "                          eval_metric = 'Accuracy',      #Accuracy\n",
    "                          use_best_model = True,\n",
    "                          early_stopping_rounds = 10,\n",
    "                          #od_type = 'Iter', #если модель переобучилась\n",
    "                          #od_wait = 5\n",
    "                          )\n",
    "\n",
    "catc.fit(X, Y,\n",
    "        #catc.fit(np.array(data_arr), np.array(target_arr), \n",
    "         verbose = False,\n",
    "         eval_set = (X_val, Y_val),\n",
    "         plot = True\n",
    "        )"
   ]
  },
  {
   "cell_type": "code",
   "execution_count": 54,
   "id": "56fc5344",
   "metadata": {},
   "outputs": [
    {
     "name": "stdout",
     "output_type": "stream",
     "text": [
      "Размерность до avg: (1, 7, 7, 512)\n",
      "Размерность после avg: (4608,)\n"
     ]
    }
   ],
   "source": [
    "val_path = r'D:\\Стас\\Ученье - Свет\\Оценка\\Аспирантура\\Видео по NN, Data mining, ABC и т.д\\Распределение Гаусса, регрессия\\Python\\!Наработки\\Отделка_2\\NN\\split_NN_8\\train\\4_stand\\3_stand.jpg'\n",
    "\n",
    "img = keras.utils.load_img(val_path, target_size = (224, 224))\n",
    "x = keras.utils.img_to_array(img)\n",
    "x = np.expand_dims(x, axis = 0) #отключил, чтобы не добавлять размерность и полностью передать data_arr в VGG19 для прогноза\n",
    "x = pi_vgg19(x) / 255  #в некоторых случаях необходимо делить на 255, согласно док vgg19 не масштабируется\n",
    "\n",
    "dim = model_vgg_19.predict(x, verbose = None)\n",
    "print('Размерность до avg:', dim.shape)\n",
    "\n",
    "avg_pool = tensorflow.keras.layers.AveragePooling2D(pool_size = (2, 2))\n",
    "features = avg_pool(dim)\n",
    "features = features.numpy().flatten()\n",
    "\n",
    "print('Размерность после avg:', features.shape)"
   ]
  },
  {
   "cell_type": "code",
   "execution_count": 45,
   "id": "d17c6dca",
   "metadata": {},
   "outputs": [
    {
     "name": "stdout",
     "output_type": "stream",
     "text": [
      "Входной тензор: (1, 10, 10, 3)\n",
      "Выходной тензор: (1, 5, 5, 3)\n"
     ]
    }
   ],
   "source": [
    "# AveragePooling2D\n",
    "# Входной тензор\n",
    "input_tensor = tensorflow.random.normal(shape = (1, 10, 10, 3))\n",
    "\n",
    "# Создаем слой AveragePooling2D\n",
    "avg_pool = tensorflow.keras.layers.AveragePooling2D(pool_size = (2, 2))\n",
    "\n",
    "# Применяем слой к тензору\n",
    "output_tensor = avg_pool(input_tensor)\n",
    "\n",
    "# Вывод\n",
    "print(f\"Входной тензор: {input_tensor.shape}\")\n",
    "print(f\"Выходной тензор: {output_tensor.shape}\")"
   ]
  },
  {
   "cell_type": "code",
   "execution_count": 47,
   "id": "a7e8c5dd",
   "metadata": {},
   "outputs": [
    {
     "name": "stdout",
     "output_type": "stream",
     "text": [
      "Входной тензор: (1, 10, 10, 3)\n",
      "Выходной тензор: (1, 3)\n"
     ]
    }
   ],
   "source": [
    "# GlobalAveragePooling2D\n",
    "# Входной тензор\n",
    "input_tensor = tensorflow.random.normal(shape = (1, 10, 10, 3))\n",
    "\n",
    "# Создаем слой GlobalAveragePooling2D\n",
    "global_avg_pool = tensorflow.keras.layers.GlobalAveragePooling2D()\n",
    "\n",
    "# Применяем слой к тензору\n",
    "output_tensor = global_avg_pool(input_tensor)\n",
    "\n",
    "# Вывод\n",
    "print(f\"Входной тензор: {input_tensor.shape}\")\n",
    "print(f\"Выходной тензор: {output_tensor.shape}\")"
   ]
  },
  {
   "cell_type": "code",
   "execution_count": 10,
   "id": "81cd5572",
   "metadata": {},
   "outputs": [
    {
     "name": "stderr",
     "output_type": "stream",
     "text": [
      "<timed exec>:34: TqdmDeprecationWarning: This function will be removed in tqdm==5.0.0\n",
      "Please use `tqdm.notebook.tqdm` instead of `tqdm.tqdm_notebook`\n"
     ]
    },
    {
     "data": {
      "application/vnd.jupyter.widget-view+json": {
       "model_id": "589ba34ef4b14994b4a4a50617332c67",
       "version_major": 2,
       "version_minor": 0
      },
      "text/plain": [
       "Обработано: 0it [00:00, ?it/s]"
      ]
     },
     "metadata": {},
     "output_type": "display_data"
    },
    {
     "name": "stdout",
     "output_type": "stream",
     "text": [
      "Predict VGG19\n",
      "Predict Model\n",
      "0.7075\n",
      "[[ 43  15  15  29   4  12  15  27]\n",
      " [  5 199  29  17   0   1   4   5]\n",
      " [  7  45 223  14   0   0   8  23]\n",
      " [ 10  12  17 171   0   3   7  40]\n",
      " [  4   0   0   1 271   2   0   2]\n",
      " [  1   2   1   4   0 244   6   2]\n",
      " [  4   8   6  17   0   9 128  28]\n",
      " [  8  18  33  48   0   7  10 136]]\n",
      "CPU times: total: 21min 38s\n",
      "Wall time: 9min 37s\n"
     ]
    }
   ],
   "source": [
    "%%time\n",
    "#Валидация\n",
    "\n",
    "model_vgg_19 = VGG19(\n",
    "                     weights = 'imagenet', \n",
    "                     include_top = False\n",
    "                     )\n",
    "\n",
    "model = CatBoostClassifier()\n",
    "model.load_model('catmodel_vgg19_md5_avg.cbm')\n",
    "\n",
    "classes = [\n",
    "           'мусор',\n",
    "           'без_отделки', \n",
    "           'предчистовая', \n",
    "           #'экономный', \n",
    "           'стандартный', \n",
    "           #'улучшенный', \n",
    "           'план', \n",
    "           'улица', \n",
    "           'балкон', \n",
    "           'моп'\n",
    "          ]\n",
    "\n",
    "val_path = \"D:\\\\Стас\\\\Ученье - Свет\\\\Оценка\\\\Аспирантура\\\\Видео по NN, Data mining, ABC и т.д\\\\Распределение Гаусса, регрессия\\\\Python\\\\!Наработки\\\\Отделка_2\\\\NN\\\\split_NN_8\\\\val\"\n",
    "val_names = os.listdir(val_path)\n",
    "\n",
    "class_weights = [0.08, 0.13, 0.16, 0.13, 0.14, 0.13, 0.10, 0.13] #веса для классов\n",
    "\n",
    "fotos = 2000 #количество фото на все классы\n",
    "\n",
    "data = []        #input array \n",
    "target_arr = []  #output array \n",
    "\n",
    "for i, name in tqdm(enumerate(val_names), 'Обработано', position = 0):\n",
    "    class_path = val_path + '\\\\' + name\n",
    "    img_names = os.listdir(class_path)\n",
    "    \n",
    "    foto = int(fotos * class_weights[i])            #количесто фото на класс в зависимости от веса (баланса)\n",
    "    img_names = random.sample(img_names, k = foto)  #случайный набор фото из папки класса name в размере доли k\n",
    "    \n",
    "    for img_name in img_names:\n",
    "    #for img_name in tqdm(img_names, 'Обработано', position = 0):\n",
    "    #for i in range(0, foto, 1):\n",
    "        img_i = image.load_img(class_path + '\\\\' + img_name, target_size = (224, 224))\n",
    "        x = image.img_to_array(img_i)\n",
    "        #x = np.expand_dims(x, axis = 0)\n",
    "        x = pi_vgg19(x) / 255\n",
    "\n",
    "        data.append(x)\n",
    "        target_arr.append(i)\n",
    "\n",
    "print(f'Predict VGG19_AveragePooling2D')\n",
    "arrays = model_vgg_19.predict(np.array(data), verbose = None) #делаем предсказания по всему массиву data\n",
    "\n",
    "avg_pool = tensorflow.keras.layers.AveragePooling2D(pool_size = (2, 2)) #уменьшает размерность по окну (2,2) и сохраняет пространственные признаки\n",
    "features = avg_pool(arrays)\n",
    "features = features.numpy()\n",
    "\n",
    "data_arr = []\n",
    "\n",
    "for arr in features:\n",
    "    data_arr.append(arr.flatten()) #вытягиваем каждый прогноз VGG19 (arrays)\n",
    "\n",
    "df_1 = pd.DataFrame(target_arr, columns = ['Y_val'])\n",
    "df_2 = pd.DataFrame(data_arr)\n",
    "df = pd.concat([df_1, df_2], axis = 1)\n",
    "Y_val = df['Y_val']\n",
    "X_val = df.drop(['Y_val'], axis = 1)\n",
    "\n",
    "print(f'Predict Model')\n",
    "preds = model.predict(X_val, verbose = None)\n",
    "df['preds'] = preds\n",
    "\n",
    "print(accuracy_score(preds, Y_val))\n",
    "CM = confusion_matrix(df['Y_val'], df['preds'])\n",
    "print(CM)"
   ]
  },
  {
   "cell_type": "code",
   "execution_count": 11,
   "id": "0b734c9d",
   "metadata": {},
   "outputs": [
    {
     "data": {
      "image/png": "[encoded data removed]",
      "text/plain": [
       "<Figure size 864x864 with 2 Axes>"
      ]
     },
     "metadata": {},
     "output_type": "display_data"
    }
   ],
   "source": [
    "#ConfusionMatrixDisplay\n",
    "disp = ConfusionMatrixDisplay(confusion_matrix = CM, display_labels = classes)\n",
    "\n",
    "fig, ax = plt.subplots(figsize = (12, 12))\n",
    "#ax.grid(False)\n",
    "disp.plot(values_format = '.3g', ax = ax)\n",
    "plt.xticks(rotation = 70)\n",
    "plt.grid(False)\n",
    "plt.show();"
   ]
  },
  {
   "cell_type": "markdown",
   "id": "b296a376",
   "metadata": {},
   "source": [
    "# ResNet152V2 + CatBoost + AveragePooling2D"
   ]
  },
  {
   "cell_type": "code",
   "execution_count": 2,
   "id": "069dd82d",
   "metadata": {},
   "outputs": [
    {
     "name": "stderr",
     "output_type": "stream",
     "text": [
      "<timed exec>:31: TqdmDeprecationWarning: This function will be removed in tqdm==5.0.0\n",
      "Please use `tqdm.notebook.tqdm` instead of `tqdm.tqdm_notebook`\n"
     ]
    },
    {
     "data": {
      "application/vnd.jupyter.widget-view+json": {
       "model_id": "b5b15c6940f74699b4dc593ef62cfc5f",
       "version_major": 2,
       "version_minor": 0
      },
      "text/plain": [
       "Обработано: 0it [00:00, ?it/s]"
      ]
     },
     "metadata": {},
     "output_type": "display_data"
    },
    {
     "name": "stdout",
     "output_type": "stream",
     "text": [
      "Predict ResNet152V2_AveragePooling2D\n",
      "Данные для валидации готовы!\n",
      "CPU times: total: 10min 53s\n",
      "Wall time: 8min 13s\n"
     ]
    }
   ],
   "source": [
    "%%time\n",
    "#Валидация\n",
    "\n",
    "model_rn152v2 = ResNet152V2(\n",
    "                            weights = 'imagenet', \n",
    "                            include_top = False\n",
    "                            )\n",
    "\n",
    "classes = [\n",
    "           'мусор',\n",
    "           'без_отделки', \n",
    "           'предчистовая', \n",
    "           #'экономный', \n",
    "           'стандартный', \n",
    "           #'улучшенный', \n",
    "           'план', \n",
    "           'улица', \n",
    "           'балкон', \n",
    "           'моп'\n",
    "          ]\n",
    "\n",
    "val_path = \"D:\\\\Стас\\\\Ученье - Свет\\\\Оценка\\\\Аспирантура\\\\Видео по NN, Data mining, ABC и т.д\\\\Распределение Гаусса, регрессия\\\\Python\\\\!Наработки\\\\Отделка_2\\\\NN\\\\split_NN_8\\\\val\"\n",
    "val_names = os.listdir(val_path)\n",
    "\n",
    "class_weights = [0.08, 0.13, 0.16, 0.13, 0.14, 0.13, 0.10, 0.13] #веса для классов\n",
    "\n",
    "fotos = 2000 #количество фото на все классы\n",
    "\n",
    "data = []        #input array \n",
    "target_arr = []  #output array \n",
    "\n",
    "for i, name in tqdm(enumerate(val_names), 'Обработано', position = 0):\n",
    "    class_path = val_path + '\\\\' + name\n",
    "    img_names = os.listdir(class_path)\n",
    "    \n",
    "    foto = int(fotos * class_weights[i])            #количесто фото на класс в зависимости от веса (баланса)\n",
    "    img_names = random.sample(img_names, k = foto)  #случайный набор фото из папки класса name в размере доли k\n",
    "    \n",
    "    for img_name in img_names:\n",
    "    #for img_name in tqdm(img_names, 'Обработано', position = 0):\n",
    "    #for i in range(0, foto, 1):\n",
    "        img_i = image.load_img(class_path + '\\\\' + img_name, target_size = (224, 224))\n",
    "        x = image.img_to_array(img_i)\n",
    "        #x = np.expand_dims(x, axis = 0) #отключаем, так как мы предсказываем ниже массив данных, а не 1 значение\n",
    "        x = pi_rnv2(x) #/ 255\n",
    "\n",
    "        data.append(x)\n",
    "        target_arr.append(i)\n",
    "\n",
    "print(f'Predict ResNet152V2_AveragePooling2D')\n",
    "arrays = model_rn152v2.predict(np.array(data), verbose = None) #делаем предсказания по всему массиву data\n",
    "avg_pool = tensorflow.keras.layers.AveragePooling2D(pool_size = (2, 2)) #уменьшает размерность по окну (2,2) и сохраняет пространственные признаки\n",
    "features = avg_pool(arrays)\n",
    "features = features.numpy()\n",
    "\n",
    "data_arr = []\n",
    "\n",
    "for arr in features:\n",
    "    data_arr.append(arr.flatten()) #вытягиваем каждый прогноз VGG19 (arrays) в длину 25088 значений\n",
    "\n",
    "df_1 = pd.DataFrame(target_arr, columns = ['Y_val'])\n",
    "df_2 = pd.DataFrame(data_arr)\n",
    "df = pd.concat([df_1, df_2], axis = 1)\n",
    "Y_val = df['Y_val']\n",
    "X_val = df.drop(['Y_val'], axis = 1)\n",
    "\n",
    "print(f'Данные для валидации готовы!')"
   ]
  },
  {
   "cell_type": "code",
   "execution_count": 10,
   "id": "02ce6db0",
   "metadata": {},
   "outputs": [
    {
     "name": "stderr",
     "output_type": "stream",
     "text": [
      "<timed exec>:53: TqdmDeprecationWarning: This function will be removed in tqdm==5.0.0\n",
      "Please use `tqdm.notebook.tqdm` instead of `tqdm.tqdm_notebook`\n"
     ]
    },
    {
     "data": {
      "application/vnd.jupyter.widget-view+json": {
       "model_id": "ded8ca4d1a754ffb859e159411d7254a",
       "version_major": 2,
       "version_minor": 0
      },
      "text/plain": [
       "  0%|          | 0/1 [00:00<?, ?it/s]"
      ]
     },
     "metadata": {},
     "output_type": "display_data"
    },
    {
     "name": "stdout",
     "output_type": "stream",
     "text": [
      "Обучение модели № 304\n"
     ]
    },
    {
     "data": {
      "application/vnd.jupyter.widget-view+json": {
       "model_id": "bb7fe7212bef4686b66363ca8e56f25c",
       "version_major": 2,
       "version_minor": 0
      },
      "text/plain": [
       "MetricVisualizer(layout=Layout(align_self='stretch', height='500px'))"
      ]
     },
     "metadata": {},
     "output_type": "display_data"
    },
    {
     "name": "stdout",
     "output_type": "stream",
     "text": [
      "Обучение batch № 304 успешно завершено! Accuracy: 0.749\n",
      "CPU times: total: 2min 12s\n",
      "Wall time: 1min 37s\n"
     ]
    }
   ],
   "source": [
    "%%time\n",
    "#Для предобученной сети\n",
    "model_rn152v2 = ResNet152V2(\n",
    "                            weights = 'imagenet', \n",
    "                            include_top = False\n",
    "                            )\n",
    "\n",
    "folder_name = [\n",
    "               'trash',\n",
    "               'wf', \n",
    "               'prefin', \n",
    "               #'econ', \n",
    "               'stand', \n",
    "               #'imp', \n",
    "               'plan', \n",
    "               'street', \n",
    "               'balc', \n",
    "               'mop'\n",
    "              ]\n",
    "\n",
    "val_path = r'D:\\Стас\\Ученье - Свет\\Оценка\\Аспирантура\\Видео по NN, Data mining, ABC и т.д\\Распределение Гаусса, регрессия\\Python\\!Наработки\\Отделка_2\\NN\\split_NN_8\\train'\n",
    "val_names = os.listdir(val_path) \n",
    "\n",
    "class_weights = [0.08, 0.13, 0.16, 0.13, 0.14, 0.13, 0.10, 0.13] #веса для классов\n",
    "\n",
    "fotos = 200 #количество фото на все классы в 1 batch\n",
    "h = 0        #шаг\n",
    "\n",
    "# catc = CatBoostClassifier(iterations = 150, #максимальное количество построенных деревьев\n",
    "#                           random_seed = 5, \n",
    "#                           learning_rate = 0.1, #скорость обучения, определяет насколько быстро или медленно модель \n",
    "#                                                  #будет учиться\n",
    "#                           max_depth = 7, #глубина дерева, учим на пеньках, чтобы небыло переобучения\n",
    "#                           l2_leaf_reg = 5, #коэффициент при члене регуляризации L2 функции потерь\n",
    "#                           #bagging_temperature = 1,\n",
    "#                           #random_strength = 1,\n",
    "#                           #one_hot_max_size = 8, #не используем one hot encoding, а включаем one_hot_max_size\n",
    "#                           #loss_function = 'Logloss',\n",
    "#                           loss_function = 'MultiClass',\n",
    "#                           eval_metric = 'Accuracy',      #Accuracy\n",
    "#                           use_best_model = True,\n",
    "#                           early_stopping_rounds = 40,\n",
    "#                           #od_type = 'Iter', #если модель переобучилась\n",
    "#                           #od_wait = 5\n",
    "#                           )\n",
    "\n",
    "#ДЛЯ ПРОДОЛЖЕНИЯ обучения необходимо скорректировать j и подгрузить нашу модель catmodel_vgg19.cbm\n",
    "#модель выше закоментить\n",
    "# catc = CatBoostClassifier()\n",
    "catc.load_model('catmodel_rn152v2_md5_avg.cbm') #не все параметры можно изменить при поэтапном обучении, например early_stopping_rounds\n",
    "\n",
    "accuracy = []\n",
    "\n",
    "for j in tqdm(range(303, 304, 1), position = 0):  #до 490\n",
    "\n",
    "    data = []        #input array \n",
    "    target_arr = []  #output array \n",
    "\n",
    "    for n, name_folder in enumerate(val_names):\n",
    "        class_path = val_path + '\\\\' + name_folder  #путь к папке первого класса\n",
    "        img_names = os.listdir(class_path)          #имена фото в папке\n",
    "        \n",
    "        foto = int(fotos * class_weights[n])        #количесто фото на класс в зависимости от веса (баланса)\n",
    "        h = foto * j                                #шаг, который контролирует batchs\n",
    "        \n",
    "        #print(\"\\r\", end = \"\") #чистим вывод\n",
    "        #print(f'j = {j}, h = {h}, n = {n}')        #принтим шаги j и h\n",
    "\n",
    "        #for img_name in tqdm(img_names, 'Обработанно файлов', position = 0):\n",
    "        for i in range(0, foto, 1):\n",
    "        #for i in tqdm(range(0, foto, 1), position = 1): #<---\n",
    "            img = keras.utils.load_img(class_path + '\\\\' + img_names[i + h], target_size = (224, 224))\n",
    "            x = keras.utils.img_to_array(img)\n",
    "            #x = np.expand_dims(x, axis = 0) #отключил, чтобы не добавлять размерность и полностью передать data_arr в VGG19 для прогноза\n",
    "            x = pi_rnv2(x) #/ 255  #в некоторых случаях необходимо делить на 255, согласно док vgg19 не масштабируется\n",
    "            \n",
    "            data.append(x)\n",
    "            #data.append(model_vgg_19.predict(x, verbose = None).flatten()) #тут наши факторы вытянутые в массив\n",
    "            target_arr.append(n)                                            #тут наша метка по классу\n",
    "    \n",
    "    print(f'Обучение модели № {j + 1}')\n",
    "    \n",
    "    arrays = model_rn152v2.predict(np.array(data), verbose = None) #делаем предсказания по всему массиву data\n",
    "    \n",
    "    avg_pool = tensorflow.keras.layers.AveragePooling2D(pool_size = (2, 2)) #уменьшает размерность по окну (2,2) и сохраняет пространственные признаки\n",
    "    features = avg_pool(arrays)\n",
    "    features = features.numpy()\n",
    "    \n",
    "    data_arr = []\n",
    "    \n",
    "    for arr in features:\n",
    "        data_arr.append(arr.flatten()) #вытягиваем каждый прогноз VGG19 (arrays)\n",
    "    \n",
    "    df_1 = pd.DataFrame(target_arr, columns = ['Y'])\n",
    "    df_2 = pd.DataFrame(data_arr)\n",
    "    df = pd.concat([df_1, df_2], axis = 1)\n",
    "    df = df.sample(frac = 1).reset_index(drop = True)          #перемешиваем строки\n",
    "    Y = df['Y']\n",
    "    X = df.drop(['Y'], axis = 1)\n",
    "    \n",
    "    #X_train, X_test, Y_train, Y_test = train_test_split(X, Y, test_size = 0.2, random_state = 0, stratify = Y)\n",
    "    \n",
    "    if j == 0:                                                 #если это первый batch, то просто обучаем модель\n",
    "        catc.fit(X, Y,\n",
    "        #catc.fit(np.array(data_arr), np.array(target_arr), \n",
    "                 verbose = False,\n",
    "                 eval_set = (X_val, Y_val),\n",
    "                 #plot = True\n",
    "                )\n",
    "        catc.save_model('catmodel_rn152v2_md5_avg.cbm')\n",
    "        pred_val = catc.predict(X_val)\n",
    "        acc = accuracy_score(pred_val, Y_val)\n",
    "        accuracy.append(acc)\n",
    "    \n",
    "    else:\n",
    "        catc.fit(X, Y,\n",
    "        #catc.fit(np.array(data_arr), np.array(target_arr)),    #если это не первый batch, то дообучаем модель\n",
    "                 verbose = False,\n",
    "                 eval_set = (X_val, Y_val),\n",
    "                 plot = True,\n",
    "                 init_model = 'catmodel_rn152v2_md5_avg.cbm'\n",
    "                )\n",
    "        catc.save_model('catmodel_rn152v2_md5_avg.cbm')\n",
    "        cat_model = CatBoostClassifier()\n",
    "        cat_model.load_model('catmodel_rn152v2_md5_avg.cbm')\n",
    "        pred_val = catc.predict(X_val)\n",
    "        acc = accuracy_score(pred_val, Y_val)\n",
    "        accuracy.append(acc)\n",
    "    \n",
    "    print(f'Обучение batch № {j + 1} успешно завершено! Accuracy: {acc}')"
   ]
  },
  {
   "cell_type": "code",
   "execution_count": 66,
   "id": "a52c0803",
   "metadata": {},
   "outputs": [
    {
     "data": {
      "application/vnd.jupyter.widget-view+json": {
       "model_id": "82b43982c45147a48be15e73c6f9d5b9",
       "version_major": 2,
       "version_minor": 0
      },
      "text/plain": [
       "MetricVisualizer(layout=Layout(align_self='stretch', height='500px'))"
      ]
     },
     "metadata": {},
     "output_type": "display_data"
    },
    {
     "data": {
      "text/plain": [
       "<catboost.core.CatBoostClassifier at 0x2597065ef10>"
      ]
     },
     "execution_count": 66,
     "metadata": {},
     "output_type": "execute_result"
    }
   ],
   "source": [
    "catc = CatBoostClassifier(iterations = 150, #максимальное количество построенных деревьев\n",
    "                          random_seed = 5, \n",
    "                          learning_rate = 0.1, #скорость обучения, определяет насколько быстро или медленно модель \n",
    "                                                 #будет учиться\n",
    "                          max_depth = 5, #глубина дерева, учим на пеньках, чтобы небыло переобучения\n",
    "                          l2_leaf_reg = 5, #коэффициент при члене регуляризации L2 функции потерь\n",
    "                          #bagging_temperature = 1,\n",
    "                          #random_strength = 1,\n",
    "                          #one_hot_max_size = 8, #не используем one hot encoding, а включаем one_hot_max_size\n",
    "                          #loss_function = 'Logloss',\n",
    "                          loss_function = 'MultiClass',\n",
    "                          eval_metric = 'Accuracy',      #Accuracy\n",
    "                          use_best_model = True,\n",
    "                          early_stopping_rounds = 10,\n",
    "                          #od_type = 'Iter', #если модель переобучилась\n",
    "                          #od_wait = 5\n",
    "                          )\n",
    "\n",
    "catc.fit(X, Y,\n",
    "        #catc.fit(np.array(data_arr), np.array(target_arr), \n",
    "         verbose = False,\n",
    "         eval_set = (X_val, Y_val),\n",
    "         plot = True\n",
    "        )"
   ]
  },
  {
   "cell_type": "code",
   "execution_count": 6,
   "id": "25400aeb",
   "metadata": {},
   "outputs": [
    {
     "name": "stderr",
     "output_type": "stream",
     "text": [
      "C:\\Users\\skapr\\AppData\\Local\\Temp\\ipykernel_1876\\1966282082.py:4: FutureWarning: save is not part of the public API, usage can give unexpected results and will be removed in a future version\n",
      "  writer.save()\n"
     ]
    }
   ],
   "source": [
    "#Сохраняем в Excel\n",
    "writer = pd.ExcelWriter('Accuracy_foto.xlsx')\n",
    "pd.DataFrame(accuracy).to_excel(writer, 'прогноз')\n",
    "writer.save()"
   ]
  },
  {
   "cell_type": "code",
   "execution_count": 13,
   "id": "d1dd037c",
   "metadata": {},
   "outputs": [],
   "source": [
    "df = pd.read_excel('D:\\Стас\\Ученье - Свет\\Оценка\\Аспирантура\\Видео по NN, Data mining, ABC и т.д\\Распределение Гаусса, регрессия\\Python\\!Наработки\\Отделка_2/Iter.xlsx', sheet_name = 5)\n",
    "#df"
   ]
  },
  {
   "cell_type": "code",
   "execution_count": 15,
   "id": "4825f331",
   "metadata": {},
   "outputs": [
    {
     "data": {
      "text/plain": [
       "<matplotlib.legend.Legend at 0x29a5c0be520>"
      ]
     },
     "execution_count": 15,
     "metadata": {},
     "output_type": "execute_result"
    },
    {
     "data": {
      "image/png": "[encoded data removed]",
      "text/plain": [
       "<Figure size 1080x432 with 1 Axes>"
      ]
     },
     "metadata": {},
     "output_type": "display_data"
    }
   ],
   "source": [
    "df['Acc_md5_avg'].plot(figsize = (15, 6), label = 'Acc_md5_avg')\n",
    "#df['Acc_md2'].plot(figsize = (15, 6), label = 'Acc_md2')\n",
    "#df['D_foto'].plot(figsize = (15, 6))\n",
    "plt.xlabel('Объем фотографий / 300', fontsize = 15)\n",
    "plt.ylabel('Accuracy', fontsize = 15)\n",
    "plt.title('Динамика accuracy', fontweight = 'bold', fontsize = 18)\n",
    "plt.legend()"
   ]
  },
  {
   "cell_type": "code",
   "execution_count": 54,
   "id": "3a64b9d9",
   "metadata": {},
   "outputs": [
    {
     "name": "stdout",
     "output_type": "stream",
     "text": [
      "Размерность до avg: (1, 7, 7, 512)\n",
      "Размерность после avg: (4608,)\n"
     ]
    }
   ],
   "source": [
    "val_path = r'D:\\Стас\\Ученье - Свет\\Оценка\\Аспирантура\\Видео по NN, Data mining, ABC и т.д\\Распределение Гаусса, регрессия\\Python\\!Наработки\\Отделка_2\\NN\\split_NN_8\\train\\4_stand\\3_stand.jpg'\n",
    "\n",
    "img = keras.utils.load_img(val_path, target_size = (224, 224))\n",
    "x = keras.utils.img_to_array(img)\n",
    "x = np.expand_dims(x, axis = 0) #отключил, чтобы не добавлять размерность и полностью передать data_arr в VGG19 для прогноза\n",
    "x = pi_vgg19(x) / 255  #в некоторых случаях необходимо делить на 255, согласно док vgg19 не масштабируется\n",
    "\n",
    "dim = model_vgg_19.predict(x, verbose = None)\n",
    "print('Размерность до avg:', dim.shape)\n",
    "\n",
    "avg_pool = tensorflow.keras.layers.AveragePooling2D(pool_size = (2, 2))\n",
    "features = avg_pool(dim)\n",
    "features = features.numpy().flatten()\n",
    "\n",
    "print('Размерность после avg:', features.shape)"
   ]
  },
  {
   "cell_type": "code",
   "execution_count": 45,
   "id": "393e1a05",
   "metadata": {},
   "outputs": [
    {
     "name": "stdout",
     "output_type": "stream",
     "text": [
      "Входной тензор: (1, 10, 10, 3)\n",
      "Выходной тензор: (1, 5, 5, 3)\n"
     ]
    }
   ],
   "source": [
    "# AveragePooling2D\n",
    "# Входной тензор\n",
    "input_tensor = tensorflow.random.normal(shape = (1, 10, 10, 3))\n",
    "\n",
    "# Создаем слой AveragePooling2D\n",
    "avg_pool = tensorflow.keras.layers.AveragePooling2D(pool_size = (2, 2))\n",
    "\n",
    "# Применяем слой к тензору\n",
    "output_tensor = avg_pool(input_tensor)\n",
    "\n",
    "# Вывод\n",
    "print(f\"Входной тензор: {input_tensor.shape}\")\n",
    "print(f\"Выходной тензор: {output_tensor.shape}\")"
   ]
  },
  {
   "cell_type": "code",
   "execution_count": 47,
   "id": "14d97afd",
   "metadata": {},
   "outputs": [
    {
     "name": "stdout",
     "output_type": "stream",
     "text": [
      "Входной тензор: (1, 10, 10, 3)\n",
      "Выходной тензор: (1, 3)\n"
     ]
    }
   ],
   "source": [
    "# GlobalAveragePooling2D\n",
    "# Входной тензор\n",
    "input_tensor = tensorflow.random.normal(shape = (1, 10, 10, 3))\n",
    "\n",
    "# Создаем слой GlobalAveragePooling2D\n",
    "global_avg_pool = tensorflow.keras.layers.GlobalAveragePooling2D()\n",
    "\n",
    "# Применяем слой к тензору\n",
    "output_tensor = global_avg_pool(input_tensor)\n",
    "\n",
    "# Вывод\n",
    "print(f\"Входной тензор: {input_tensor.shape}\")\n",
    "print(f\"Выходной тензор: {output_tensor.shape}\")"
   ]
  },
  {
   "cell_type": "code",
   "execution_count": 16,
   "id": "9d9d582a",
   "metadata": {},
   "outputs": [
    {
     "name": "stderr",
     "output_type": "stream",
     "text": [
      "<timed exec>:34: TqdmDeprecationWarning: This function will be removed in tqdm==5.0.0\n",
      "Please use `tqdm.notebook.tqdm` instead of `tqdm.tqdm_notebook`\n"
     ]
    },
    {
     "data": {
      "application/vnd.jupyter.widget-view+json": {
       "model_id": "61106c7e394349aa8f7d98efed6c0b0f",
       "version_major": 2,
       "version_minor": 0
      },
      "text/plain": [
       "Обработано: 0it [00:00, ?it/s]"
      ]
     },
     "metadata": {},
     "output_type": "display_data"
    },
    {
     "name": "stdout",
     "output_type": "stream",
     "text": [
      "Predict ResNet152V2_AveragePooling2D\n",
      "Predict Model\n",
      "0.751\n",
      "[[ 64   3  11  29   3   6  16  28]\n",
      " [  6 187  44   3   0   0  17   3]\n",
      " [  6  27 257  12   0   0   5  13]\n",
      " [ 14   4  18 178   0   0   7  39]\n",
      " [  1   0   0   2 276   1   0   0]\n",
      " [  7   1   0   0   1 240   7   4]\n",
      " [  5  17   8  15   0   5 135  15]\n",
      " [ 11  10  23  37   0   0  14 165]]\n",
      "CPU times: total: 10min 5s\n",
      "Wall time: 14min 17s\n"
     ]
    }
   ],
   "source": [
    "%%time\n",
    "#Валидация\n",
    "\n",
    "model_vgg_19 = VGG19(\n",
    "                     weights = 'imagenet', \n",
    "                     include_top = False\n",
    "                     )\n",
    "\n",
    "model = CatBoostClassifier()\n",
    "model.load_model('catmodel_rn152v2_md5_avg.cbm')\n",
    "\n",
    "classes = [\n",
    "           'мусор',\n",
    "           'без_отделки', \n",
    "           'предчистовая', \n",
    "           #'экономный', \n",
    "           'стандартный', \n",
    "           #'улучшенный', \n",
    "           'план', \n",
    "           'улица', \n",
    "           'балкон', \n",
    "           'моп'\n",
    "          ]\n",
    "\n",
    "val_path = \"D:\\\\Стас\\\\Ученье - Свет\\\\Оценка\\\\Аспирантура\\\\Видео по NN, Data mining, ABC и т.д\\\\Распределение Гаусса, регрессия\\\\Python\\\\!Наработки\\\\Отделка_2\\\\NN\\\\split_NN_8\\\\val\"\n",
    "val_names = os.listdir(val_path)\n",
    "\n",
    "class_weights = [0.08, 0.13, 0.16, 0.13, 0.14, 0.13, 0.10, 0.13] #веса для классов\n",
    "\n",
    "fotos = 2000 #количество фото на все классы\n",
    "\n",
    "data = []        #input array \n",
    "target_arr = []  #output array \n",
    "\n",
    "for i, name in tqdm(enumerate(val_names), 'Обработано', position = 0):\n",
    "    class_path = val_path + '\\\\' + name\n",
    "    img_names = os.listdir(class_path)\n",
    "    \n",
    "    foto = int(fotos * class_weights[i])            #количесто фото на класс в зависимости от веса (баланса)\n",
    "    img_names = random.sample(img_names, k = foto)  #случайный набор фото из папки класса name в размере доли k\n",
    "    \n",
    "    for img_name in img_names:\n",
    "    #for img_name in tqdm(img_names, 'Обработано', position = 0):\n",
    "    #for i in range(0, foto, 1):\n",
    "        img_i = image.load_img(class_path + '\\\\' + img_name, target_size = (224, 224))\n",
    "        x = image.img_to_array(img_i)\n",
    "        #x = np.expand_dims(x, axis = 0)\n",
    "        x = pi_rnv2(x) #/ 255\n",
    "\n",
    "        data.append(x)\n",
    "        target_arr.append(i)\n",
    "\n",
    "print(f'Predict ResNet152V2_AveragePooling2D')\n",
    "arrays = model_rn152v2.predict(np.array(data), verbose = None) #делаем предсказания по всему массиву data\n",
    "avg_pool = tensorflow.keras.layers.AveragePooling2D(pool_size = (2, 2)) #уменьшает размерность по окну (2,2) и сохраняет пространственные признаки\n",
    "features = avg_pool(arrays)\n",
    "features = features.numpy()\n",
    "\n",
    "data_arr = []\n",
    "\n",
    "for arr in features:\n",
    "    data_arr.append(arr.flatten()) #вытягиваем каждый прогноз VGG19 (arrays)\n",
    "\n",
    "df_1 = pd.DataFrame(target_arr, columns = ['Y_val'])\n",
    "df_2 = pd.DataFrame(data_arr)\n",
    "df = pd.concat([df_1, df_2], axis = 1)\n",
    "Y_val = df['Y_val']\n",
    "X_val = df.drop(['Y_val'], axis = 1)\n",
    "\n",
    "print(f'Predict Model')\n",
    "preds = model.predict(X_val, verbose = None)\n",
    "df['preds'] = preds\n",
    "\n",
    "print(accuracy_score(preds, Y_val))\n",
    "CM = confusion_matrix(df['Y_val'], df['preds'])\n",
    "print(CM)"
   ]
  },
  {
   "cell_type": "code",
   "execution_count": 17,
   "id": "061294f7",
   "metadata": {},
   "outputs": [
    {
     "data": {
      "image/png": "[encoded data removed]",
      "text/plain": [
       "<Figure size 864x864 with 2 Axes>"
      ]
     },
     "metadata": {},
     "output_type": "display_data"
    }
   ],
   "source": [
    "#ConfusionMatrixDisplay\n",
    "disp = ConfusionMatrixDisplay(confusion_matrix = CM, display_labels = classes)\n",
    "\n",
    "fig, ax = plt.subplots(figsize = (12, 12))\n",
    "#ax.grid(False)\n",
    "disp.plot(values_format = '.3g', ax = ax)\n",
    "plt.xticks(rotation = 70)\n",
    "plt.grid(False)\n",
    "plt.show();"
   ]
  },
  {
   "cell_type": "markdown",
   "id": "68c4e3ee",
   "metadata": {},
   "source": [
    "# ResNet152V2 + CatBoost + GlobalAveragePooling2D"
   ]
  },
  {
   "cell_type": "code",
   "execution_count": 2,
   "id": "77149eb9",
   "metadata": {},
   "outputs": [
    {
     "name": "stderr",
     "output_type": "stream",
     "text": [
      "<timed exec>:31: TqdmDeprecationWarning: This function will be removed in tqdm==5.0.0\n",
      "Please use `tqdm.notebook.tqdm` instead of `tqdm.tqdm_notebook`\n"
     ]
    },
    {
     "data": {
      "application/vnd.jupyter.widget-view+json": {
       "model_id": "5027e064c81a42a5a0c47e62b3c04d59",
       "version_major": 2,
       "version_minor": 0
      },
      "text/plain": [
       "Обработано: 0it [00:00, ?it/s]"
      ]
     },
     "metadata": {},
     "output_type": "display_data"
    },
    {
     "name": "stdout",
     "output_type": "stream",
     "text": [
      "Predict ResNet152V2_GlobalAveragePooling2D\n",
      "Данные для валидации готовы!\n",
      "CPU times: total: 13min 7s\n",
      "Wall time: 9min 49s\n"
     ]
    }
   ],
   "source": [
    "%%time\n",
    "#Валидация\n",
    "\n",
    "model_rn152v2 = ResNet152V2(\n",
    "                            weights = 'imagenet', \n",
    "                            include_top = False\n",
    "                            )\n",
    "\n",
    "classes = [\n",
    "           'мусор',\n",
    "           'без_отделки', \n",
    "           'предчистовая', \n",
    "           #'экономный', \n",
    "           'стандартный', \n",
    "           #'улучшенный', \n",
    "           'план', \n",
    "           'улица', \n",
    "           'балкон', \n",
    "           'моп'\n",
    "          ]\n",
    "\n",
    "val_path = \"D:\\\\Стас\\\\Ученье - Свет\\\\Оценка\\\\Аспирантура\\\\Видео по NN, Data mining, ABC и т.д\\\\Распределение Гаусса, регрессия\\\\Python\\\\!Наработки\\\\Отделка_2\\\\NN\\\\split_NN_8\\\\val\"\n",
    "val_names = os.listdir(val_path)\n",
    "\n",
    "class_weights = [0.08, 0.13, 0.16, 0.13, 0.14, 0.13, 0.10, 0.13] #веса для классов\n",
    "\n",
    "fotos = 2000 #количество фото на все классы\n",
    "\n",
    "data = []        #input array \n",
    "target_arr = []  #output array \n",
    "\n",
    "for i, name in tqdm(enumerate(val_names), 'Обработано', position = 0):\n",
    "    class_path = val_path + '\\\\' + name\n",
    "    img_names = os.listdir(class_path)\n",
    "    \n",
    "    foto = int(fotos * class_weights[i])            #количесто фото на класс в зависимости от веса (баланса)\n",
    "    img_names = random.sample(img_names, k = foto)  #случайный набор фото из папки класса name в размере доли k\n",
    "    \n",
    "    for img_name in img_names:\n",
    "    #for img_name in tqdm(img_names, 'Обработано', position = 0):\n",
    "    #for i in range(0, foto, 1):\n",
    "        img_i = image.load_img(class_path + '\\\\' + img_name, target_size = (224, 224))\n",
    "        x = image.img_to_array(img_i)\n",
    "        #x = np.expand_dims(x, axis = 0) #отключаем, так как мы предсказываем ниже массив данных, а не 1 значение\n",
    "        x = pi_rnv2(x) #/ 255\n",
    "\n",
    "        data.append(x)\n",
    "        target_arr.append(i)\n",
    "\n",
    "print(f'Predict ResNet152V2_GlobalAveragePooling2D')\n",
    "arrays = model_rn152v2.predict(np.array(data), verbose = None) #делаем предсказания по всему массиву data\n",
    "avg_pool = tensorflow.keras.layers.GlobalAveragePooling2D() #уменьшает размерность глобально\n",
    "features = avg_pool(arrays)\n",
    "data_arr = features.numpy()\n",
    "\n",
    "# data_arr = []\n",
    "\n",
    "# for arr in features:\n",
    "#     data_arr.append(arr.flatten()) #вытягиваем каждый прогноз VGG19 (arrays) в длину 25088 значений\n",
    "\n",
    "df_1 = pd.DataFrame(target_arr, columns = ['Y_val'])\n",
    "df_2 = pd.DataFrame(data_arr)\n",
    "df = pd.concat([df_1, df_2], axis = 1)\n",
    "Y_val = df['Y_val']\n",
    "X_val = df.drop(['Y_val'], axis = 1)\n",
    "\n",
    "print(f'Данные для валидации готовы!')"
   ]
  },
  {
   "cell_type": "code",
   "execution_count": null,
   "id": "47ecfd43",
   "metadata": {},
   "outputs": [],
   "source": [
    "%%time\n",
    "#Для предобученной сети\n",
    "model_rn152v2 = ResNet152V2(\n",
    "                            weights = 'imagenet', \n",
    "                            include_top = False\n",
    "                            )\n",
    "\n",
    "folder_name = [\n",
    "               'trash',\n",
    "               'wf', \n",
    "               'prefin', \n",
    "               #'econ', \n",
    "               'stand', \n",
    "               #'imp', \n",
    "               'plan', \n",
    "               'street', \n",
    "               'balc', \n",
    "               'mop'\n",
    "              ]\n",
    "\n",
    "val_path = r'D:\\Стас\\Ученье - Свет\\Оценка\\Аспирантура\\Видео по NN, Data mining, ABC и т.д\\Распределение Гаусса, регрессия\\Python\\!Наработки\\Отделка_2\\NN\\split_NN_8\\train'\n",
    "val_names = os.listdir(val_path) \n",
    "\n",
    "class_weights = [0.08, 0.13, 0.16, 0.13, 0.14, 0.13, 0.10, 0.13] #веса для классов\n",
    "\n",
    "fotos = 2500 #количество фото на все классы в 1 batch\n",
    "h = 0        #шаг\n",
    "\n",
    "catc = CatBoostClassifier(iterations = 200, #максимальное количество построенных деревьев\n",
    "                          random_seed = 5, \n",
    "                          learning_rate = 0.1, #скорость обучения, определяет насколько быстро или медленно модель \n",
    "                                                 #будет учиться\n",
    "                          max_depth = 7, #глубина дерева, учим на пеньках, чтобы небыло переобучения\n",
    "                          l2_leaf_reg = 5, #коэффициент при члене регуляризации L2 функции потерь\n",
    "                          #bagging_temperature = 1,\n",
    "                          #random_strength = 1,\n",
    "                          #one_hot_max_size = 8, #не используем one hot encoding, а включаем one_hot_max_size\n",
    "                          #loss_function = 'Logloss',\n",
    "                          loss_function = 'MultiClass',\n",
    "                          eval_metric = 'Accuracy',      #Accuracy\n",
    "                          use_best_model = True,\n",
    "                          early_stopping_rounds = 40,\n",
    "                          #od_type = 'Iter', #если модель переобучилась\n",
    "                          #od_wait = 5\n",
    "                          )\n",
    "\n",
    "#ДЛЯ ПРОДОЛЖЕНИЯ обучения необходимо скорректировать j и подгрузить нашу модель catmodel_vgg19.cbm\n",
    "#модель выше закоментить\n",
    "# catc = CatBoostClassifier()\n",
    "# catc.load_model('catmodel_rn152v2_md5_avg.cbm') #не все параметры можно изменить при поэтапном обучении, например early_stopping_rounds\n",
    "\n",
    "accuracy = []\n",
    "\n",
    "for j in tqdm(range(0, 65, 1), position = 0):  #до 66\n",
    "\n",
    "    data = []        #input array \n",
    "    target_arr = []  #output array \n",
    "\n",
    "    for n, name_folder in enumerate(val_names):\n",
    "        class_path = val_path + '\\\\' + name_folder  #путь к папке первого класса\n",
    "        img_names = os.listdir(class_path)          #имена фото в папке\n",
    "        \n",
    "        foto = int(fotos * class_weights[n])        #количесто фото на класс в зависимости от веса (баланса)\n",
    "        h = foto * j                                #шаг, который контролирует batchs\n",
    "        \n",
    "        #print(\"\\r\", end = \"\") #чистим вывод\n",
    "        #print(f'j = {j}, h = {h}, n = {n}')        #принтим шаги j и h\n",
    "\n",
    "        #for img_name in tqdm(img_names, 'Обработанно файлов', position = 0):\n",
    "        for i in range(0, foto, 1):\n",
    "        #for i in tqdm(range(0, foto, 1), position = 1): #<---\n",
    "            img = keras.utils.load_img(class_path + '\\\\' + img_names[i + h], target_size = (224, 224))\n",
    "            x = keras.utils.img_to_array(img)\n",
    "            #x = np.expand_dims(x, axis = 0) #отключил, чтобы не добавлять размерность и полностью передать data_arr в VGG19 для прогноза\n",
    "            x = pi_rnv2(x) #/ 255  #в некоторых случаях необходимо делить на 255, согласно док vgg19 не масштабируется\n",
    "            \n",
    "            data.append(x)\n",
    "            #data.append(model_vgg_19.predict(x, verbose = None).flatten()) #тут наши факторы вытянутые в массив\n",
    "            target_arr.append(n)                                            #тут наша метка по классу\n",
    "    \n",
    "    print(f'Обучение модели № {j + 1}')\n",
    "    \n",
    "    arrays = model_rn152v2.predict(np.array(data), verbose = None) #делаем предсказания по всему массиву data\n",
    "\n",
    "    avg_pool = tensorflow.keras.layers.GlobalAveragePooling2D() #уменьшает размерность глобально\n",
    "    features = avg_pool(arrays)\n",
    "    data_arr = features.numpy()\n",
    "\n",
    "    \n",
    "#     data_arr = []\n",
    "    \n",
    "#     for arr in features:\n",
    "#         data_arr.append(arr.flatten()) #вытягиваем каждый прогноз VGG19 (arrays)\n",
    "    \n",
    "    df_1 = pd.DataFrame(target_arr, columns = ['Y'])\n",
    "    df_2 = pd.DataFrame(data_arr)\n",
    "    df = pd.concat([df_1, df_2], axis = 1)\n",
    "    df = df.sample(frac = 1).reset_index(drop = True)          #перемешиваем строки\n",
    "    Y = df['Y']\n",
    "    X = df.drop(['Y'], axis = 1)\n",
    "    \n",
    "    #X_train, X_test, Y_train, Y_test = train_test_split(X, Y, test_size = 0.2, random_state = 0, stratify = Y)\n",
    "    \n",
    "    if j == 0:                                                 #если это первый batch, то просто обучаем модель\n",
    "        catc.fit(X, Y,\n",
    "        #catc.fit(np.array(data_arr), np.array(target_arr), \n",
    "                 verbose = False,\n",
    "                 eval_set = (X_val, Y_val),\n",
    "                 #plot = True\n",
    "                )\n",
    "        catc.save_model('catmodel_rn152v2_md5_gap.cbm')\n",
    "        \n",
    "        pred_val = catc.predict(X_val)\n",
    "        acc_val = accuracy_score(pred_val, Y_val)\n",
    "        \n",
    "        pred_train = catc.predict(X)\n",
    "        acc_train = accuracy_score(pred_train, Y)\n",
    "        \n",
    "        accuracy.append(acc_val)\n",
    "    \n",
    "    else:\n",
    "        catc.fit(X, Y,\n",
    "        #catc.fit(np.array(data_arr), np.array(target_arr)),    #если это не первый batch, то дообучаем модель\n",
    "                 verbose = False,\n",
    "                 eval_set = (X_val, Y_val),\n",
    "                 #plot = True,\n",
    "                 init_model = 'catmodel_rn152v2_md5_gap.cbm'\n",
    "                )\n",
    "        catc.save_model('catmodel_rn152v2_md5_gap.cbm')\n",
    "        \n",
    "        cat_model = CatBoostClassifier()\n",
    "        cat_model.load_model('catmodel_rn152v2_md5_gap.cbm')\n",
    "        \n",
    "        pred_val = catc.predict(X_val)\n",
    "        acc_val = accuracy_score(pred_val, Y_val)\n",
    "        \n",
    "        pred_train = catc.predict(X)\n",
    "        acc_train = accuracy_score(pred_train, Y)\n",
    "        \n",
    "        accuracy.append(acc_val)\n",
    "    \n",
    "    print(f'Обучение batch № {j + 1} успешно завершено! Accuracy_val: {acc_val}, Accuracy_train: {acc_train}')"
   ]
  },
  {
   "cell_type": "code",
   "execution_count": 6,
   "id": "e80b4a8c",
   "metadata": {},
   "outputs": [
    {
     "name": "stderr",
     "output_type": "stream",
     "text": [
      "C:\\Users\\skapr\\AppData\\Local\\Temp\\ipykernel_18596\\1966282082.py:4: FutureWarning: save is not part of the public API, usage can give unexpected results and will be removed in a future version\n",
      "  writer.save()\n"
     ]
    }
   ],
   "source": [
    "#Сохраняем в Excel\n",
    "writer = pd.ExcelWriter('Accuracy_foto.xlsx')\n",
    "pd.DataFrame(accuracy).to_excel(writer, 'прогноз')\n",
    "writer.save()"
   ]
  },
  {
   "cell_type": "code",
   "execution_count": 10,
   "id": "c3b1e9b2",
   "metadata": {},
   "outputs": [],
   "source": [
    "df = pd.read_excel('D:\\Стас\\Ученье - Свет\\Оценка\\Аспирантура\\Видео по NN, Data mining, ABC и т.д\\Распределение Гаусса, регрессия\\Python\\!Наработки\\Отделка_2/Iter.xlsx', sheet_name = 7)\n",
    "#df"
   ]
  },
  {
   "cell_type": "code",
   "execution_count": 14,
   "id": "8604a01b",
   "metadata": {},
   "outputs": [
    {
     "data": {
      "text/plain": [
       "<matplotlib.legend.Legend at 0x1dc30c6bee0>"
      ]
     },
     "execution_count": 14,
     "metadata": {},
     "output_type": "execute_result"
    },
    {
     "data": {
      "image/png": "[encoded data removed]",
      "text/plain": [
       "<Figure size 1080x576 with 1 Axes>"
      ]
     },
     "metadata": {},
     "output_type": "display_data"
    }
   ],
   "source": [
    "df['cat_gap_val'].plot(figsize = (15, 8), label = 'cat_gap_val')\n",
    "df['cat_gap_train'].plot(figsize = (15, 8), label = 'cat_gap_train')\n",
    "#df['D_foto'].plot(figsize = (15, 6))\n",
    "plt.xlabel('Объем фотографий / 2500', fontsize = 15)\n",
    "plt.ylabel('Accuracy', fontsize = 15)\n",
    "plt.ylim(0.75, 1)\n",
    "plt.title('Динамика accuracy', fontweight = 'bold', fontsize = 18)\n",
    "plt.legend()"
   ]
  },
  {
   "cell_type": "code",
   "execution_count": 15,
   "id": "9bd5d03c",
   "metadata": {},
   "outputs": [
    {
     "name": "stderr",
     "output_type": "stream",
     "text": [
      "<timed exec>:34: TqdmDeprecationWarning: This function will be removed in tqdm==5.0.0\n",
      "Please use `tqdm.notebook.tqdm` instead of `tqdm.tqdm_notebook`\n"
     ]
    },
    {
     "data": {
      "application/vnd.jupyter.widget-view+json": {
       "model_id": "c55740af2a2645e896422ddaade61866",
       "version_major": 2,
       "version_minor": 0
      },
      "text/plain": [
       "Обработано: 0it [00:00, ?it/s]"
      ]
     },
     "metadata": {},
     "output_type": "display_data"
    },
    {
     "name": "stdout",
     "output_type": "stream",
     "text": [
      "Predict ResNet152V2_GlobalAveragePooling2D\n",
      "Predict Model\n",
      "0.8055\n",
      "[[ 69  11  14  35   1   6  12  12]\n",
      " [  1 214  35   0   0   1   6   3]\n",
      " [  4  31 259  11   0   0   3  12]\n",
      " [ 10   3   8 205   0   2   4  28]\n",
      " [  2   0   0   2 276   0   0   0]\n",
      " [  2   1   0   1   0 249   3   4]\n",
      " [  7  18   6   8   0   8 144   9]\n",
      " [  8  10   9  27   0   1  10 195]]\n",
      "CPU times: total: 10min 39s\n",
      "Wall time: 12min 42s\n"
     ]
    }
   ],
   "source": [
    "%%time\n",
    "#тест\n",
    "\n",
    "model_rn152v2 = ResNet152V2(\n",
    "                            weights = 'imagenet', \n",
    "                            include_top = False\n",
    "                            )\n",
    "\n",
    "model = CatBoostClassifier()\n",
    "model.load_model('catmodel_rn152v2_md5_gap.cbm')\n",
    "\n",
    "classes = [\n",
    "           'мусор',\n",
    "           'без_отделки', \n",
    "           'предчистовая', \n",
    "           #'экономный', \n",
    "           'стандартный', \n",
    "           #'улучшенный', \n",
    "           'план', \n",
    "           'улица', \n",
    "           'балкон', \n",
    "           'моп'\n",
    "          ]\n",
    "\n",
    "val_path = \"D:\\\\Стас\\\\Ученье - Свет\\\\Оценка\\\\Аспирантура\\\\Видео по NN, Data mining, ABC и т.д\\\\Распределение Гаусса, регрессия\\\\Python\\\\!Наработки\\\\Отделка_2\\\\NN\\\\split_NN_8\\\\val\"\n",
    "val_names = os.listdir(val_path)\n",
    "\n",
    "class_weights = [0.08, 0.13, 0.16, 0.13, 0.14, 0.13, 0.10, 0.13] #веса для классов\n",
    "\n",
    "fotos = 2000 #количество фото на все классы\n",
    "\n",
    "data = []        #input array \n",
    "target_arr = []  #output array \n",
    "\n",
    "for i, name in tqdm(enumerate(val_names), 'Обработано', position = 0):\n",
    "    class_path = val_path + '\\\\' + name\n",
    "    img_names = os.listdir(class_path)\n",
    "    \n",
    "    foto = int(fotos * class_weights[i])            #количесто фото на класс в зависимости от веса (баланса)\n",
    "    img_names = random.sample(img_names, k = foto)  #случайный набор фото из папки класса name в размере доли k\n",
    "    \n",
    "    for img_name in img_names:\n",
    "    #for img_name in tqdm(img_names, 'Обработано', position = 0):\n",
    "    #for i in range(0, foto, 1):\n",
    "        img_i = image.load_img(class_path + '\\\\' + img_name, target_size = (224, 224))\n",
    "        x = image.img_to_array(img_i)\n",
    "        #x = np.expand_dims(x, axis = 0) #отключаем, так как мы предсказываем ниже массив данных, а не 1 значение\n",
    "        x = pi_rnv2(x) #/ 255\n",
    "\n",
    "        data.append(x)\n",
    "        target_arr.append(i)\n",
    "\n",
    "print(f'Predict ResNet152V2_GlobalAveragePooling2D')\n",
    "arrays = model_rn152v2.predict(np.array(data), verbose = None) #делаем предсказания по всему массиву data\n",
    "avg_pool = tensorflow.keras.layers.GlobalAveragePooling2D() #уменьшает размерность глобально\n",
    "features = avg_pool(arrays)\n",
    "data_arr = features.numpy()\n",
    "\n",
    "# data_arr = []\n",
    "\n",
    "# for arr in features:\n",
    "#     data_arr.append(arr.flatten()) #вытягиваем каждый прогноз VGG19 (arrays) в длину 25088 значений\n",
    "\n",
    "df_1 = pd.DataFrame(target_arr, columns = ['Y_val'])\n",
    "df_2 = pd.DataFrame(data_arr)\n",
    "df = pd.concat([df_1, df_2], axis = 1)\n",
    "Y_val = df['Y_val']\n",
    "X_val = df.drop(['Y_val'], axis = 1)\n",
    "\n",
    "print(f'Predict Model')\n",
    "preds = model.predict(X_val, verbose = None)\n",
    "df['preds'] = preds\n",
    "\n",
    "print(accuracy_score(preds, Y_val))\n",
    "CM = confusion_matrix(df['Y_val'], df['preds'])\n",
    "print(CM)"
   ]
  },
  {
   "cell_type": "code",
   "execution_count": 16,
   "id": "a98ecb0b",
   "metadata": {},
   "outputs": [
    {
     "data": {
      "image/png": "[encoded data removed]",
      "text/plain": [
       "<Figure size 864x864 with 2 Axes>"
      ]
     },
     "metadata": {},
     "output_type": "display_data"
    }
   ],
   "source": [
    "#ConfusionMatrixDisplay\n",
    "disp = ConfusionMatrixDisplay(confusion_matrix = CM, display_labels = classes)\n",
    "\n",
    "fig, ax = plt.subplots(figsize = (12, 12))\n",
    "#ax.grid(False)\n",
    "disp.plot(values_format = '.4g', ax = ax)\n",
    "plt.xticks(rotation = 70)\n",
    "plt.grid(False)\n",
    "plt.show();"
   ]
  },
  {
   "cell_type": "code",
   "execution_count": 18,
   "id": "18273494",
   "metadata": {},
   "outputs": [
    {
     "name": "stdout",
     "output_type": "stream",
     "text": [
      "\n",
      "Classification Report : \n",
      "              precision    recall  f1-score   support\n",
      "\n",
      "       мусор       0.67      0.43      0.52       160\n",
      " без_отделки       0.74      0.82      0.78       260\n",
      "предчистовая       0.78      0.81      0.80       320\n",
      " стандартный       0.71      0.79      0.75       260\n",
      "        план       1.00      0.99      0.99       280\n",
      "       улица       0.93      0.96      0.94       260\n",
      "      балкон       0.79      0.72      0.75       200\n",
      "         моп       0.74      0.75      0.75       260\n",
      "\n",
      "    accuracy                           0.81      2000\n",
      "   macro avg       0.80      0.78      0.79      2000\n",
      "weighted avg       0.80      0.81      0.80      2000\n",
      "\n"
     ]
    }
   ],
   "source": [
    "#classification_report\n",
    "print(\"\\nClassification Report : \")\n",
    "print(classification_report(df['Y_val'], df['preds'], target_names = classes))"
   ]
  },
  {
   "cell_type": "code",
   "execution_count": 3,
   "id": "d553d6fe",
   "metadata": {},
   "outputs": [
    {
     "name": "stderr",
     "output_type": "stream",
     "text": [
      "C:\\Users\\skapr\\AppData\\Local\\Temp\\ipykernel_18344\\3790589502.py:34: TqdmDeprecationWarning: This function will be removed in tqdm==5.0.0\n",
      "Please use `tqdm.notebook.tqdm` instead of `tqdm.tqdm_notebook`\n",
      "  for i, name in tqdm(enumerate(val_names), 'Обработано', position = 0):\n"
     ]
    },
    {
     "data": {
      "application/vnd.jupyter.widget-view+json": {
       "model_id": "2d1db24ad5d54c5aaa23df20c8daf1d6",
       "version_major": 2,
       "version_minor": 0
      },
      "text/plain": [
       "Обработано: 0it [00:00, ?it/s]"
      ]
     },
     "metadata": {},
     "output_type": "display_data"
    },
    {
     "name": "stderr",
     "output_type": "stream",
     "text": [
      "C:\\Users\\skapr\\AppData\\Local\\Temp\\ipykernel_18344\\3790589502.py:38: TqdmDeprecationWarning: This function will be removed in tqdm==5.0.0\n",
      "Please use `tqdm.notebook.tqdm` instead of `tqdm.tqdm_notebook`\n",
      "  for img_name in tqdm(img_names, 'Обработано', position = 0):\n"
     ]
    },
    {
     "data": {
      "application/vnd.jupyter.widget-view+json": {
       "model_id": "eff016ff45c147aa811f075f1b0d3c8c",
       "version_major": 2,
       "version_minor": 0
      },
      "text/plain": [
       "Обработано:   0%|          | 0/553 [00:00<?, ?it/s]"
      ]
     },
     "metadata": {},
     "output_type": "display_data"
    },
    {
     "data": {
      "application/vnd.jupyter.widget-view+json": {
       "model_id": "66e8473174d545d780f030f013a60ae6",
       "version_major": 2,
       "version_minor": 0
      },
      "text/plain": [
       "Обработано:   0%|          | 0/3689 [00:00<?, ?it/s]"
      ]
     },
     "metadata": {},
     "output_type": "display_data"
    },
    {
     "data": {
      "application/vnd.jupyter.widget-view+json": {
       "model_id": "7550bfed73f64fb89fea9e5d924705a7",
       "version_major": 2,
       "version_minor": 0
      },
      "text/plain": [
       "Обработано:   0%|          | 0/4619 [00:00<?, ?it/s]"
      ]
     },
     "metadata": {},
     "output_type": "display_data"
    },
    {
     "data": {
      "application/vnd.jupyter.widget-view+json": {
       "model_id": "3fc690f815d14e0f87f1a99ad85f6760",
       "version_major": 2,
       "version_minor": 0
      },
      "text/plain": [
       "Обработано:   0%|          | 0/3947 [00:00<?, ?it/s]"
      ]
     },
     "metadata": {},
     "output_type": "display_data"
    },
    {
     "data": {
      "application/vnd.jupyter.widget-view+json": {
       "model_id": "fbd4433ae2044099a573ba805183361a",
       "version_major": 2,
       "version_minor": 0
      },
      "text/plain": [
       "Обработано:   0%|          | 0/4250 [00:00<?, ?it/s]"
      ]
     },
     "metadata": {},
     "output_type": "display_data"
    },
    {
     "data": {
      "application/vnd.jupyter.widget-view+json": {
       "model_id": "908810e94f5740e4a21ee7de9a5cb0d0",
       "version_major": 2,
       "version_minor": 0
      },
      "text/plain": [
       "Обработано:   0%|          | 0/7564 [00:00<?, ?it/s]"
      ]
     },
     "metadata": {},
     "output_type": "display_data"
    },
    {
     "data": {
      "application/vnd.jupyter.widget-view+json": {
       "model_id": "64a12335630f44a29b52ffe9e0b13819",
       "version_major": 2,
       "version_minor": 0
      },
      "text/plain": [
       "Обработано:   0%|          | 0/1166 [00:00<?, ?it/s]"
      ]
     },
     "metadata": {},
     "output_type": "display_data"
    },
    {
     "data": {
      "application/vnd.jupyter.widget-view+json": {
       "model_id": "5fe6516324a64b1faba95a33753ecec8",
       "version_major": 2,
       "version_minor": 0
      },
      "text/plain": [
       "Обработано:   0%|          | 0/2742 [00:00<?, ?it/s]"
      ]
     },
     "metadata": {},
     "output_type": "display_data"
    },
    {
     "name": "stdout",
     "output_type": "stream",
     "text": [
      "[[ 248   24   33  100    7   29   48   64]\n",
      " [  22 3033  441   40    2   11   99   41]\n",
      " [  46  429 3842  123    0    0   51  128]\n",
      " [ 177   74  109 3049    0   11  106  421]\n",
      " [  16    0    0    7 4209   16    0    2]\n",
      " [ 104   51    3   11    6 7158  154   77]\n",
      " [  36   90   27   60    0   38  856   59]\n",
      " [  79   88  151  307    0   26   90 2001]]\n"
     ]
    }
   ],
   "source": [
    "model_rn152v2 = ResNet152V2(\n",
    "                            weights = 'imagenet', \n",
    "                            include_top = False\n",
    "                            )\n",
    "\n",
    "model = CatBoostClassifier()\n",
    "model.load_model('catmodel_rn152v2_md5_gap.cbm')\n",
    "\n",
    "classes = [\n",
    "           'мусор',\n",
    "           'без_отделки', \n",
    "           'предчистовая', \n",
    "           #'экономный', \n",
    "           'стандартный', \n",
    "           #'улучшенный', \n",
    "           'план', \n",
    "           'улица', \n",
    "           'балкон', \n",
    "           'моп'\n",
    "          ]\n",
    "\n",
    "img_trash_all = []\n",
    "img_wf_all = []\n",
    "img_prefin_all = []\n",
    "img_stand_all = []\n",
    "img_plan_all = []\n",
    "img_street_all = []\n",
    "img_balc_all = []\n",
    "img_mop_all = []\n",
    "\n",
    "val_path = \"D:\\\\Стас\\\\Ученье - Свет\\\\Оценка\\\\Аспирантура\\\\Видео по NN, Data mining, ABC и т.д\\\\Распределение Гаусса, регрессия\\\\Python\\\\!Наработки\\\\Отделка_2\\\\NN\\\\split_NN_8\\\\val\"\n",
    "val_names = os.listdir(val_path)\n",
    "\n",
    "for i, name in tqdm(enumerate(val_names), 'Обработано', position = 0):\n",
    "    class_path = val_path + '\\\\' + name\n",
    "    img_names = os.listdir(class_path)\n",
    "    \n",
    "    for img_name in tqdm(img_names, 'Обработано', position = 0):\n",
    "        img_i = image.load_img(class_path + '\\\\' + img_name, target_size = (224, 224))\n",
    "        x = image.img_to_array(img_i)\n",
    "        x = np.expand_dims(x, axis = 0)\n",
    "        x = pi_rnv2(x) #/ 255\n",
    "        \n",
    "        pr_rn152v2 = model_rn152v2.predict(x, verbose = None)       #делаем предсказание\n",
    "        avg_pool = tensorflow.keras.layers.GlobalAveragePooling2D() #уменьшает размерность глобально\n",
    "        feature = avg_pool(pr_rn152v2).numpy()\n",
    "        \n",
    "        preds = model.predict(feature, verbose = None)\n",
    "        pr = {'Predict': preds[0][0], 'Class_name': classes[i], 'True': i, 'Foto_name': img_name}\n",
    "        \n",
    "        if i == 0:\n",
    "            img_trash_all.append(pr)\n",
    "        elif i == 1:\n",
    "            img_wf_all.append(pr)\n",
    "        elif i == 2:\n",
    "            img_prefin_all.append(pr)\n",
    "        elif i == 3:\n",
    "            img_stand_all.append(pr)\n",
    "        elif i == 4:\n",
    "            img_plan_all.append(pr)\n",
    "        elif i == 5:\n",
    "            img_street_all.append(pr)\n",
    "        elif i == 6:\n",
    "            img_balc_all.append(pr)\n",
    "        else:\n",
    "            img_mop_all.append(pr)\n",
    "\n",
    "\n",
    "df_trash = pd.DataFrame(img_trash_all)\n",
    "df_wf = pd.DataFrame(img_wf_all)\n",
    "df_prefin = pd.DataFrame(img_prefin_all)\n",
    "df_stand = pd.DataFrame(img_stand_all)\n",
    "df_plan = pd.DataFrame(img_plan_all)\n",
    "df_street = pd.DataFrame(img_street_all)\n",
    "df_balc = pd.DataFrame(img_balc_all)\n",
    "df_mop = pd.DataFrame(img_mop_all)\n",
    "\n",
    "df_all = pd.concat([df_trash, df_wf, df_prefin, df_stand, df_plan, df_street, df_balc, df_mop])\n",
    "CM = confusion_matrix(df_all['True'], df_all['Predict'])\n",
    "print(CM)"
   ]
  },
  {
   "cell_type": "code",
   "execution_count": 4,
   "id": "f4dd9c4b",
   "metadata": {},
   "outputs": [
    {
     "name": "stdout",
     "output_type": "stream",
     "text": [
      "0.8550998948475289\n"
     ]
    }
   ],
   "source": [
    "from sklearn.metrics import accuracy_score\n",
    "\n",
    "print(accuracy_score(df_all['Predict'], df_all['True']))"
   ]
  },
  {
   "cell_type": "code",
   "execution_count": 5,
   "id": "600d85d9",
   "metadata": {},
   "outputs": [
    {
     "data": {
      "image/png": "[encoded data removed]",
      "text/plain": [
       "<Figure size 936x864 with 2 Axes>"
      ]
     },
     "metadata": {},
     "output_type": "display_data"
    }
   ],
   "source": [
    "#ConfusionMatrixDisplay\n",
    "disp = ConfusionMatrixDisplay(confusion_matrix = CM, display_labels = classes)\n",
    "\n",
    "fig, ax = plt.subplots(figsize = (13, 12))\n",
    "disp.plot(values_format = '.6g', ax = ax)\n",
    "plt.xticks(rotation = 70)\n",
    "plt.grid(False)\n",
    "plt.show();"
   ]
  },
  {
   "cell_type": "code",
   "execution_count": 6,
   "id": "e65fb8e6",
   "metadata": {},
   "outputs": [
    {
     "name": "stdout",
     "output_type": "stream",
     "text": [
      "\n",
      "Classification Report : \n",
      "              precision    recall  f1-score   support\n",
      "\n",
      "       мусор       0.34      0.45      0.39       553\n",
      " без_отделки       0.80      0.82      0.81      3689\n",
      "предчистовая       0.83      0.83      0.83      4619\n",
      " стандартный       0.82      0.77      0.80      3947\n",
      "        план       1.00      0.99      0.99      4250\n",
      "       улица       0.98      0.95      0.96      7564\n",
      "      балкон       0.61      0.73      0.67      1166\n",
      "         моп       0.72      0.73      0.72      2742\n",
      "\n",
      "    accuracy                           0.86     28530\n",
      "   macro avg       0.76      0.78      0.77     28530\n",
      "weighted avg       0.86      0.86      0.86     28530\n",
      "\n"
     ]
    }
   ],
   "source": [
    "#classification_report\n",
    "print(\"\\nClassification Report : \")\n",
    "print(classification_report(df_all['True'], df_all['Predict'], target_names = classes))"
   ]
  },
  {
   "cell_type": "code",
   "execution_count": 7,
   "id": "33551939",
   "metadata": {},
   "outputs": [
    {
     "name": "stderr",
     "output_type": "stream",
     "text": [
      "C:\\Users\\skapr\\AppData\\Local\\Temp\\ipykernel_18344\\2755980286.py:4: FutureWarning: save is not part of the public API, usage can give unexpected results and will be removed in a future version\n",
      "  writer.save()\n"
     ]
    }
   ],
   "source": [
    "#Сохраняем в Excel\n",
    "writer = pd.ExcelWriter('Классификация_фото.xlsx')\n",
    "df_all.to_excel(writer, 'прогноз')\n",
    "writer.save()"
   ]
  },
  {
   "cell_type": "code",
   "execution_count": null,
   "id": "0a0154fb",
   "metadata": {},
   "outputs": [],
   "source": []
  },
  {
   "cell_type": "code",
   "execution_count": null,
   "id": "a32df8e5",
   "metadata": {},
   "outputs": [],
   "source": []
  },
  {
   "cell_type": "code",
   "execution_count": null,
   "id": "00dc4fd1",
   "metadata": {},
   "outputs": [],
   "source": [
    "model1 = CatBoostRegressor(**params)\n",
    "batch1 = Pool(train_data1, label=train_labels1)\n",
    "model1.fit(X=batch1)\n",
    "\n",
    "# continue training with different portion of data\n",
    "\n",
    "model2 = CatBoostRegressor(**params)\n",
    "batch2 = Pool(train_data2, label=train_labels2)\n",
    "batch2.set_baseline(model1.predict(batch2))\n",
    "model2.fit(X=batch2)\n",
    "\n",
    "# build resulting model\n",
    "\n",
    "model = sum_models([model1, model2])\n",
    "\n",
    "\n",
    "y = train_df.ACTION\n",
    "X = train_df.drop('ACTION', axis=1)\n",
    "\n",
    "categorical_features_indices = np.where(X.dtypes != np.float)[0]\n",
    "\n",
    "X_train, X_validation, y_train, y_validation = train_test_split(X, \n",
    "                                                                y, \n",
    "                                                                train_size=0.8, \n",
    "                                                                random_state=42)\n",
    "\n",
    "train_pool = Pool(X_train, \n",
    "                  y_train, \n",
    "                  cat_features=categorical_features_indices)\n",
    "validate_pool = Pool(X_validation, \n",
    "                     y_validation, \n",
    "                     cat_features=categorical_features_indices)\n",
    "\n",
    "models = []\n",
    "for i in range(5):\n",
    "    model = CatBoostClassifier(iterations=100, \n",
    "                               random_seed=i)\n",
    "    model.fit(train_pool, \n",
    "              eval_set=validate_pool)\n",
    "    models.append(model)\n",
    "\n",
    "models_avrg = sum_models(models, \n",
    "                         weights=[1.0/len(models)] * len(models))"
   ]
  },
  {
   "cell_type": "code",
   "execution_count": null,
   "id": "47050483",
   "metadata": {},
   "outputs": [],
   "source": []
  },
  {
   "cell_type": "code",
   "execution_count": null,
   "id": "115b21ce",
   "metadata": {},
   "outputs": [],
   "source": []
  },
  {
   "cell_type": "code",
   "execution_count": null,
   "id": "4500a6f9",
   "metadata": {},
   "outputs": [],
   "source": []
  },
  {
   "cell_type": "markdown",
   "id": "b52b3097",
   "metadata": {},
   "source": [
    "# MobileNetV2 + CatBoost"
   ]
  },
  {
   "cell_type": "code",
   "execution_count": 6,
   "id": "9dca745e",
   "metadata": {},
   "outputs": [
    {
     "name": "stdout",
     "output_type": "stream",
     "text": [
      "(1, 10, 10, 2048)\n",
      "204800\n"
     ]
    }
   ],
   "source": [
    "#Смотрим размер выходного (последнего) тензора\n",
    "from tensorflow.keras.applications import Xception\n",
    "\n",
    "model = Xception(weights = 'imagenet', include_top = False, input_shape = (299, 299, 3))\n",
    "\n",
    "input_image = tensorflow.random.normal((1, 299, 299, 3))\n",
    "output = model(input_image)\n",
    "\n",
    "print(output.shape)\n",
    "print(output.shape[1] * output.shape[2] * output.shape[3])"
   ]
  },
  {
   "cell_type": "code",
   "execution_count": null,
   "id": "2cedded7",
   "metadata": {},
   "outputs": [],
   "source": [
    "%%time\n",
    "#Для предобученной сети\n",
    "model_mobv2 = MobileNetV2(\n",
    "                          weights = 'imagenet', \n",
    "                          include_top = False\n",
    "                          )\n",
    "\n",
    "folder_name = [\n",
    "               'trash',\n",
    "               'wf', \n",
    "               'prefin', \n",
    "               'econ', \n",
    "               'stand', \n",
    "               'imp', \n",
    "               'plan', \n",
    "               'street', \n",
    "               'balc', \n",
    "               'mop'\n",
    "              ]\n",
    "\n",
    "val_path = r'D:\\Стас\\Ученье - Свет\\Оценка\\Аспирантура\\Видео по NN, Data mining, ABC и т.д\\Распределение Гаусса, регрессия\\Python\\!Наработки\\Отделка_2\\NN\\split_NN\\train'\n",
    "val_names = os.listdir(val_path) \n",
    "\n",
    "class_weights = [0.08, 0.11, 0.13, 0.07, 0.11, 0.08, 0.12, 0.11, 0.08, 0.11] #веса для классов\n",
    "\n",
    "fotos = 500 #количество фото на все классы в 1 batch\n",
    "h = 0       #шаг, после остановки модели и ее продолжении необходимо изменить h. Для следующих 100 итераций h = \n",
    "\n",
    "catc =  CatBoostClassifier(iterations = 200, #максимальное количество построенных деревьев\n",
    "                           random_seed = 5, \n",
    "                           learning_rate = 0.02, #скорость обучения, определяет насколько быстро или медленно модель \n",
    "                                                 #будет учиться\n",
    "                           max_depth = 5, #глубина дерева\n",
    "                           #l2_leaf_reg=20, #коэффициент при члене регуляризации L2 функции потерь\n",
    "                           #bagging_temperature=1,\n",
    "                           #random_strength=1,\n",
    "                           #one_hot_max_size=8, #не используем one hot encoding, а включаем one_hot_max_size\n",
    "                           #loss_function = 'Logloss',\n",
    "                           loss_function = 'MultiClass',\n",
    "                           #eval_metric = 'Accuracy',\n",
    "                           od_type = 'Iter', #если модель переобучилась\n",
    "                           od_wait = 20\n",
    "                          )\n",
    "\n",
    "for j in tqdm(range(0, 10, 1), position = 0):  #1 итерация = 500 фото по всем классам\n",
    "\n",
    "    data_arr = []        #input array \n",
    "    target_arr = []      #output array \n",
    "\n",
    "    for n, name_folder in enumerate(val_names):\n",
    "        class_path = val_path + '\\\\' + name_folder  #путь к папке первого класса\n",
    "        img_names = os.listdir(class_path)          #имена фото в папке\n",
    "        \n",
    "        foto = int(fotos * class_weights[n])        #количесто фото на класс в зависимости от веса (баланса)\n",
    "        h = foto * j                                #шаг, который контролирует batchs\n",
    "        \n",
    "        #print(\"\\r\", end = \"\") #чистим вывод\n",
    "        #print(f'j = {j}, h = {h}, n = {n}')        #принтим шаги j и h\n",
    "\n",
    "        #for img_name in tqdm(img_names, 'Обработанно файлов', position = 0):\n",
    "        for i in tqdm(range(0, foto, 1), position = 1):\n",
    "            img = keras.utils.load_img(class_path + '\\\\' + img_names[i + h], target_size = (224, 224))\n",
    "            x = keras.utils.img_to_array(img)\n",
    "            x = np.expand_dims(x, axis = 0)\n",
    "            x = pi_vgg19(x) / 255  #в некоторых случаях необходимо делить на 255, согласно док vgg19 не масштабируется\n",
    "            data_arr.append(model_vgg_19.predict(x, verbose = None).flatten()) #тут наши факторы вытянутые в массив\n",
    "            target_arr.append(n)                                                 #тут наша метка по классу\n",
    "    \n",
    "    print('Обучение модели...')\n",
    "    \n",
    "    if j == 0:                                                 #если это первый batch, то просто обучаем модель\n",
    "        catc.fit(np.array(data_arr), np.array(target_arr), \n",
    "                 verbose = False \n",
    "                )\n",
    "    else: \n",
    "        catc.fit(np.array(data_arr), np.array(target_arr),    #если это не первый batch, то дообучаем модель\n",
    "                 verbose = False,\n",
    "                 init_model = 'catmodel_vgg19.cbm'\n",
    "                )\n",
    "\n",
    "    catb.save_model('catmodel_vgg19.cbm')\n",
    "    \n",
    "    print(f'Обучение batch № {j + 1} успешно завершено!')"
   ]
  },
  {
   "cell_type": "code",
   "execution_count": null,
   "id": "69a1b10b",
   "metadata": {},
   "outputs": [],
   "source": []
  },
  {
   "cell_type": "code",
   "execution_count": null,
   "id": "857458ec",
   "metadata": {},
   "outputs": [],
   "source": []
  },
  {
   "cell_type": "code",
   "execution_count": null,
   "id": "87590ae8",
   "metadata": {},
   "outputs": [],
   "source": []
  },
  {
   "cell_type": "code",
   "execution_count": 53,
   "id": "288f8040",
   "metadata": {},
   "outputs": [
    {
     "name": "stdout",
     "output_type": "stream",
     "text": [
      "\u001b[1m1/1\u001b[0m \u001b[32m━━━━━━━━━━━━━━━━━━━━\u001b[0m\u001b[37m\u001b[0m \u001b[1m1s\u001b[0m 726ms/step\n"
     ]
    }
   ],
   "source": [
    "model_vgg_19 = VGG19(\n",
    "                     weights = 'imagenet', \n",
    "                     include_top = False\n",
    "                     )\n",
    "\n",
    "val_path = r'D:\\Стас\\Ученье - Свет\\Оценка\\Аспирантура\\Видео по NN, Data mining, ABC и т.д\\Распределение Гаусса, регрессия\\Python\\!Наработки\\Отделка_2\\NN\\split_NN\\train\\1_wf\\17_wf.jpg'\n",
    "img = keras.utils.load_img(val_path, target_size = (224, 224))\n",
    "x = keras.utils.img_to_array(img)\n",
    "x = np.expand_dims(x, axis = 0)\n",
    "x = pi_vgg19(x) / 255\n",
    "\n",
    "fut = model_vgg_19.predict(x).flatten()\n",
    "fut"
   ]
  },
  {
   "cell_type": "code",
   "execution_count": null,
   "id": "48f8c26e",
   "metadata": {},
   "outputs": [],
   "source": []
  },
  {
   "cell_type": "code",
   "execution_count": null,
   "id": "995bf0ad",
   "metadata": {},
   "outputs": [],
   "source": []
  },
  {
   "cell_type": "markdown",
   "id": "47240675",
   "metadata": {},
   "source": [
    "# Для алгоритмов"
   ]
  },
  {
   "cell_type": "code",
   "execution_count": null,
   "id": "e6eb1cff",
   "metadata": {},
   "outputs": [],
   "source": [
    "#Для алгоритма\n",
    "folder_name = [\n",
    "               'trash',\n",
    "               'wf', \n",
    "               'prefin', \n",
    "               'econ', \n",
    "               'stand', \n",
    "               'imp', \n",
    "               'plan', \n",
    "               'street', \n",
    "               'balc', \n",
    "               'mop'\n",
    "              ] \n",
    "\n",
    "err_f = []\n",
    "data_arr = []        #input array \n",
    "target_arr = []      #output array\n",
    "#data = []\n",
    "\n",
    "#csv = open(r'D:\\Стас\\Ученье - Свет\\Оценка\\Аспирантура\\Видео по NN, Data mining, ABC и т.д\\Распределение Гаусса, регрессия\\Python\\!Наработки\\Отделка_2\\NN\\data.csv', \"w\")\n",
    "\n",
    "val_path = r'D:\\Стас\\Ученье - Свет\\Оценка\\Аспирантура\\Видео по NN, Data mining, ABC и т.д\\Распределение Гаусса, регрессия\\Python\\!Наработки\\Отделка_2\\NN\\split_NN\\train'\n",
    "val_names = os.listdir(val_path) \n",
    "\n",
    "for i, name_folder in tqdm(enumerate(val_names), 'Обработано', position = 0):\n",
    "    class_path = val_path + '\\\\' + name_folder\n",
    "    img_names = os.listdir(class_path)\n",
    "\n",
    "    for img_name in tqdm(img_names, 'Обработанно файлов', position = 0):\n",
    "        try:\n",
    "            img_array = imread(class_path + '\\\\' + img_name)                        #на выходе массив numpy\n",
    "            img_resized = resize(img_array, (224, 314, 3))                          #изменяем размер фото (высота, ширина)\n",
    "\n",
    "            #img = keras.utils.load_img(class_path + '\\\\' + img_name, target_size = (224, 314))\n",
    "            #x = keras.utils.img_to_array(img)\n",
    "            #x = img_resized.flatten() / 255\n",
    "\n",
    "            data_arr.append(img_resized.flatten())                                  #вытягиваем\n",
    "            #data_arr.append(x)                                                     #вытягиваем\n",
    "            target_arr.append(i)\n",
    "            #data.append([i, list(img_resized.flatten())])\n",
    "\n",
    "        except:\n",
    "            err_aug.append(img_name)\n",
    "    \n",
    "    print(f'Loaded category: {folder_name[i]} successfully') \n",
    "\n",
    "#data = np.array(data_arr) \n",
    "#target = np.array(target_arr)"
   ]
  },
  {
   "cell_type": "code",
   "execution_count": null,
   "id": "2676881a",
   "metadata": {},
   "outputs": [],
   "source": []
  },
  {
   "cell_type": "markdown",
   "id": "c0a9108f",
   "metadata": {},
   "source": [
    "# Для предобученной сети"
   ]
  },
  {
   "cell_type": "code",
   "execution_count": null,
   "id": "71d25b44",
   "metadata": {},
   "outputs": [],
   "source": [
    "#Для предобученной сети\n",
    "model_res = ResNet152V2(\n",
    "                        weights = 'imagenet', \n",
    "                        include_top = False\n",
    "                       )\n",
    "\n",
    "folder_name = [\n",
    "               'trash',\n",
    "               'wf', \n",
    "               'prefin', \n",
    "               'econ', \n",
    "               'stand', \n",
    "               'imp', \n",
    "               'plan', \n",
    "               'street', \n",
    "               'balc', \n",
    "               'mop'\n",
    "              ]\n",
    "\n",
    "data_arr = []        #input array \n",
    "target_arr = []      #output array \n",
    "\n",
    "val_path = r'D:\\Стас\\Ученье - Свет\\Оценка\\Аспирантура\\Видео по NN, Data mining, ABC и т.д\\Распределение Гаусса, регрессия\\Python\\!Наработки\\Отделка_2\\NN'\n",
    "val_names = os.listdir(val_path) \n",
    "\n",
    "for i, name_folder in tqdm(enumerate(val_names), 'Обработано', position = 0):\n",
    "    class_path = val_path + '\\\\' + name_folder\n",
    "    img_names = os.listdir(class_path)\n",
    "\n",
    "    for img_name in tqdm(img_names, 'Обработанно файлов', position = 0): \n",
    "        img = keras.utils.load_img(class_path + '\\\\' + img_name, target_size = (224, 224))\n",
    "        x = keras.utils.img_to_array(img)\n",
    "        x = np.expand_dims(x, axis = 0)\n",
    "        x = preprocess_input(x) #/ 255  #в некоторых случаях необходимо делить на 255, согласно док resnet_v2 преобразует в диапазон от -1 до 1\n",
    "        #x = x / 255\n",
    "        #features = model.predict(x)\n",
    "        data_arr.append(model_res.predict(x))\n",
    "        target_arr.append(i)\n",
    "    \n",
    "    print(f'loaded category: {folder_name[i]} successfully')\n",
    "\n",
    "data = np.array(data_arr) \n",
    "target = np.array(target_arr)"
   ]
  },
  {
   "cell_type": "code",
   "execution_count": null,
   "id": "0c0d1839",
   "metadata": {},
   "outputs": [],
   "source": [
    "classes = [\n",
    "           'мусор',\n",
    "           'без_отделки', \n",
    "           'предчистовая', \n",
    "           'экономный', \n",
    "           'стандартный', \n",
    "           'улучшенный', \n",
    "           'план', \n",
    "           'улица', \n",
    "           'балкон', \n",
    "           'моп'\n",
    "          ]"
   ]
  },
  {
   "cell_type": "code",
   "execution_count": null,
   "id": "ff9d3fd1",
   "metadata": {},
   "outputs": [],
   "source": [
    "df = pd.DataFrame(data)\n",
    "df['Target'] = target \n",
    "df.shape"
   ]
  },
  {
   "cell_type": "code",
   "execution_count": null,
   "id": "ba0a0408",
   "metadata": {},
   "outputs": [],
   "source": [
    "X = df.iloc[:, : -1]  \n",
    "Y = df.iloc[:, -1]"
   ]
  },
  {
   "cell_type": "code",
   "execution_count": null,
   "id": "58889967",
   "metadata": {},
   "outputs": [],
   "source": [
    "X_train, X_test, Y_train, Y_test = train_test_split(X, Y, test_size = 0.20, random_state = 42)"
   ]
  },
  {
   "cell_type": "code",
   "execution_count": null,
   "id": "51bb5a74",
   "metadata": {},
   "outputs": [],
   "source": [
    "model = Sequential()\n",
    "model.add(Flatten())\n",
    "#model.add(GlobalAveragePooling2D())\n",
    "#model.add(Dense(512, activation = 'relu'))\n",
    "#model.add(Dense(256, activation = 'relu'))\n",
    "model.add(Dense(128, activation = 'relu'))\n",
    "model.add(Dense(64, activation = 'relu'))\n",
    "#model.add(Dropout(0.5))\n",
    "model.add(Dense(10, activation = 'softmax'))"
   ]
  },
  {
   "cell_type": "code",
   "execution_count": null,
   "id": "1ce64a61",
   "metadata": {},
   "outputs": [],
   "source": [
    "model.compile(loss = 'categorical_crossentropy', #у нас более 2-х классов\n",
    "              optimizer = 'adam',\n",
    "              metrics = ['accuracy']\n",
    "             )"
   ]
  },
  {
   "cell_type": "code",
   "execution_count": null,
   "id": "edaf376f",
   "metadata": {},
   "outputs": [],
   "source": [
    "model_checkpoint = callbacks.ModelCheckpoint(filepath = 'model_best_{epoch}.keras',\n",
    "                                             monitor = 'val_loss',\n",
    "                                             verbose = 1,\n",
    "                                             save_best_only = True,\n",
    "                                             save_weights_only = False,\n",
    "                                             mode = 'auto',\n",
    "                                             save_freq = 'epoch'\n",
    "                                             )"
   ]
  },
  {
   "cell_type": "code",
   "execution_count": null,
   "id": "db0e61a4",
   "metadata": {},
   "outputs": [],
   "source": [
    "early_stop = callbacks.EarlyStopping(monitor = 'val_loss',\n",
    "                                     min_delta = 0,\n",
    "                                     patience = 3,\n",
    "                                     verbose = 1,\n",
    "                                     mode = 'auto',\n",
    "                                     #baseline = 0.006,\n",
    "                                     restore_best_weights = True\n",
    "                                     )"
   ]
  },
  {
   "cell_type": "code",
   "execution_count": null,
   "id": "5a47a65d",
   "metadata": {},
   "outputs": [],
   "source": [
    "hist = model.fit(\n",
    "                 X_train,\n",
    "                 Y_train,\n",
    "                 validation_data = (X_test, Y_test),\n",
    "                 batch_size = 32,\n",
    "                 epochs = 10,\n",
    "                 callbacks = [model_checkpoint, early_stop]\n",
    "                )"
   ]
  },
  {
   "cell_type": "code",
   "execution_count": null,
   "id": "6912e0eb",
   "metadata": {},
   "outputs": [],
   "source": [
    "#model.save('trained_model.h5')"
   ]
  },
  {
   "cell_type": "code",
   "execution_count": null,
   "id": "d1057ab6",
   "metadata": {},
   "outputs": [],
   "source": [
    "acc = hist.history['accuracy']\n",
    "val_acc = hist.history['val_accuracy']\n",
    "loss = hist.history['loss']\n",
    "val_loss = hist.history['val_loss']\n",
    "\n",
    "tab_res = pd.DataFrame({'accuracy': acc, 'val_accuracy': val_acc, 'loss': loss, 'val_loss': val_loss})\n",
    "tab_res"
   ]
  },
  {
   "cell_type": "code",
   "execution_count": null,
   "id": "aff5c865",
   "metadata": {},
   "outputs": [],
   "source": [
    "# Считаем графики Accuracy\n",
    "plt.figure(figsize = (10, 7))\n",
    "\n",
    "plt.plot(hist.history['accuracy'], \n",
    "         label='Accuracy')\n",
    "plt.plot(hist.history['val_accuracy'], \n",
    "         label='Val_Accuracy')\n",
    "plt.xlabel('Эпоха обучения')\n",
    "plt.ylabel('Accuracy')\n",
    "plt.legend()\n",
    "plt.show()"
   ]
  },
  {
   "cell_type": "code",
   "execution_count": null,
   "id": "c2151f27",
   "metadata": {},
   "outputs": [],
   "source": [
    "# Считаем графики потери\n",
    "plt.figure(figsize = (10, 7))\n",
    "\n",
    "plt.plot(hist.history['loss'], \n",
    "         label='loss')\n",
    "plt.plot(hist.history['val_loss'], \n",
    "         label='Val_loss')\n",
    "plt.xlabel('Эпоха обучения')\n",
    "plt.ylabel('loss')\n",
    "plt.legend()\n",
    "plt.show()"
   ]
  },
  {
   "cell_type": "code",
   "execution_count": null,
   "id": "4ee40d16",
   "metadata": {},
   "outputs": [],
   "source": [
    "pred_train = model.predict(X_train)\n",
    "pred_test = model.predict(X_test)\n",
    "\n",
    "print(\"Train score:\", accuracy_score(pred_train, Y_train))\n",
    "print(\"Test score:\", accuracy_score(pred_test, Y_test))\n",
    "\n",
    "#print(xgbc.feature_importances_)\n",
    "print(\"\\nClassification Report : \")\n",
    "print(classification_report(Y_test, pred_test, target_names = classes))"
   ]
  },
  {
   "cell_type": "code",
   "execution_count": null,
   "id": "6da323a7",
   "metadata": {},
   "outputs": [],
   "source": [
    "CM = confusion_matrix(Y_test, pred_test)\n",
    "\n",
    "disp = ConfusionMatrixDisplay(confusion_matrix = CM, display_labels = classes)\n",
    "\n",
    "fig, ax = plt.subplots(figsize = (10, 10))\n",
    "disp.plot(values_format = '.3g', ax = ax)\n",
    "plt.xticks(rotation = 70)\n",
    "plt.show();"
   ]
  },
  {
   "cell_type": "code",
   "execution_count": null,
   "id": "7c806db3",
   "metadata": {},
   "outputs": [],
   "source": []
  },
  {
   "cell_type": "code",
   "execution_count": null,
   "id": "990eee07",
   "metadata": {},
   "outputs": [],
   "source": []
  },
  {
   "cell_type": "markdown",
   "id": "28992775",
   "metadata": {},
   "source": [
    "# Incremental Learning"
   ]
  },
  {
   "cell_type": "code",
   "execution_count": null,
   "id": "fd6b2b8a",
   "metadata": {},
   "outputs": [],
   "source": [
    "# Определение модели\n",
    "model = keras.Sequential([\n",
    "    keras.layers.Dense(128, activation='relu', input_shape=(10,)),\n",
    "    keras.layers.Dense(1, activation='sigmoid')\n",
    "])\n",
    "\n",
    "# Компиляция модели\n",
    "model.compile(optimizer='adam', loss='binary_crossentropy', metrics=['accuracy'])\n",
    "\n",
    "# Определение размеров пакетов\n",
    "batch_size = 32\n",
    "validation_batch_size = 64\n",
    "\n",
    "# Функция для онлайн обучения с валидацией\n",
    "def online_learning_with_validation(model, train_data, train_labels, val_data, val_labels,\n",
    "                                     batch_size, validation_batch_size, epochs=10,\n",
    "                                     verbose=1):\n",
    "    \"\"\"\n",
    "    Онлайн обучение модели с валидацией на потоке данных.\n",
    "\n",
    "    Args:\n",
    "        model: Модель для обучения.\n",
    "        train_data: Массив обучающих данных.\n",
    "        train_labels: Массив меток для обучающих данных.\n",
    "        val_data: Массив валидационных данных.\n",
    "        val_labels: Массив меток для валидационных данных.\n",
    "        batch_size: Размер пакета для обучения.\n",
    "        validation_batch_size: Размер пакета для валидации.\n",
    "        epochs: Количество эпох обучения.\n",
    "        verbose: Уровень детализации вывода (0 - тихий, 1 - нормальный, 2 - подробный).\n",
    "    \"\"\"\n",
    "    for epoch in range(epochs):\n",
    "        if verbose > 0:\n",
    "            print(f\"Epoch {epoch+1}/{epochs}\")\n",
    "\n",
    "        # Обучение на пакетах\n",
    "        for i in range(0, len(train_data), batch_size):\n",
    "            batch_train_data = train_data[i:i+batch_size]\n",
    "            batch_train_labels = train_labels[i:i+batch_size]\n",
    "            model.train_on_batch(batch_train_data, batch_train_labels)\n",
    "\n",
    "        # Валидация\n",
    "        val_loss, val_acc = model.evaluate(val_data, val_labels, verbose=0)\n",
    "        if verbose > 0:\n",
    "            print(f\"Валидационные потери: {val_loss:.4f}, Валидационная точность: {val_acc:.4f}\")\n",
    "\n",
    "# Пример использования\n",
    "# Загрузка или генерация данных\n",
    "# train_data = ...\n",
    "# train_labels = ...\n",
    "# val_data = ...\n",
    "# val_labels = ...\n",
    "\n",
    "# Онлайн обучение модели с валидацией\n",
    "online_learning_with_validation(model, train_data, train_labels,\n",
    "                               val_data, val_labels, batch_size,\n",
    "                               validation_batch_size, epochs=10,\n",
    "                               verbose=1)\n"
   ]
  },
  {
   "cell_type": "code",
   "execution_count": null,
   "id": "5d763fde",
   "metadata": {},
   "outputs": [],
   "source": []
  },
  {
   "cell_type": "code",
   "execution_count": null,
   "id": "38ad4896",
   "metadata": {},
   "outputs": [],
   "source": []
  },
  {
   "cell_type": "code",
   "execution_count": null,
   "id": "f5d8d9c5",
   "metadata": {},
   "outputs": [],
   "source": [
    "img_path = r'D:\\Стас\\Ученье - Свет\\Оценка\\Аспирантура\\Видео по NN, Data mining, ABC и т.д\\Распределение Гаусса, регрессия\\Python\\!Наработки\\Отделка_2\\NN'\n",
    "\n",
    "img = image.load_img(img_path, target_size = (224, 224))\n",
    "\n",
    "plt.imshow(img)\n",
    "plt.show\n",
    "\n",
    "x = image.img_to_array(img)\n",
    "x = np.expand_dims(x, axis = 0)\n",
    "x = preprocess_input(x) #/ 255 #в некоторых случаях необходимо делить на 255, согласно док resnet_v2 преобразует в диапазон от -1 до 1\n",
    "preds = model.predict(x)\n",
    "\n",
    "n = np.argmax(preds, axis = 1)[0]\n",
    "print(f'На фотографии: {classes[n]}, вероятность: {np.round(preds[0][n], 2)}')"
   ]
  },
  {
   "cell_type": "code",
   "execution_count": null,
   "id": "a982d762",
   "metadata": {},
   "outputs": [],
   "source": []
  }
 ],
 "metadata": {
  "kernelspec": {
   "display_name": "Python 3 (ipykernel)",
   "language": "python",
   "name": "python3"
  },
  "language_info": {
   "codemirror_mode": {
    "name": "ipython",
    "version": 3
   },
   "file_extension": ".py",
   "mimetype": "text/x-python",
   "name": "python",
   "nbconvert_exporter": "python",
   "pygments_lexer": "ipython3",
   "version": "3.12.6"
  }
 },
 "nbformat": 4,
 "nbformat_minor": 5
}
