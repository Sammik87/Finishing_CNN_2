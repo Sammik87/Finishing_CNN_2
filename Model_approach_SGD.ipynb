{
 "cells": [
  {
   "cell_type": "code",
   "execution_count": 1,
   "id": "4d4b57e8",
   "metadata": {},
   "outputs": [],
   "source": [
    "import csv\n",
    "import pandas as pd \n",
    "import numpy as np\n",
    "import matplotlib.pyplot as plt\n",
    "import seaborn as sns\n",
    "import os\n",
    "from tqdm import tqdm_notebook as tqdm\n",
    "import random\n",
    "import pickle\n",
    "\n",
    "from skimage.transform import resize \n",
    "from skimage.io import imread\n",
    "from sklearn.metrics import accuracy_score\n",
    "\n",
    "import keras\n",
    "import tensorflow\n",
    "from tensorflow.keras.applications import ResNet152V2\n",
    "from tensorflow.keras.applications import VGG19\n",
    "from tensorflow.keras.applications.resnet_v2 import preprocess_input as pi_rnv2\n",
    "from tensorflow.keras.applications.vgg19 import preprocess_input as pi_vgg19\n",
    "from tensorflow.keras.applications.mobilenet_v2 import preprocess_input as pi_mobv2\n",
    "from tensorflow.keras.applications.xception import preprocess_input as pi_xcep\n",
    "\n",
    "from tensorflow.keras.preprocessing.image import ImageDataGenerator\n",
    "from tensorflow.keras.models import Sequential\n",
    "from tensorflow.keras.layers import Conv2D, MaxPooling2D, GlobalAveragePooling2D\n",
    "from tensorflow.keras.layers import Activation, Dropout, Flatten, Dense\n",
    "from keras import callbacks\n",
    "\n",
    "from keras.models import load_model\n",
    "import keras.utils as image\n",
    "\n",
    "from sklearn.model_selection import train_test_split\n",
    "from sklearn.metrics import accuracy_score\n",
    "from sklearn.metrics import classification_report\n",
    "from sklearn.metrics import confusion_matrix, ConfusionMatrixDisplay\n",
    "\n",
    "from catboost import CatBoostClassifier, Pool, sum_models\n",
    "from sklearn.linear_model import SGDClassifier\n",
    "from sklearn.neural_network import MLPClassifier\n",
    "\n",
    "%matplotlib inline\n",
    "sns.set()\n",
    "\n",
    "from PIL import ImageFile\n",
    "ImageFile.LOAD_TRUNCATED_IMAGES = True"
   ]
  },
  {
   "cell_type": "markdown",
   "id": "fe80e33b",
   "metadata": {},
   "source": [
    "# ResNet152V2 + SGD + GlobalAveragePooling2D"
   ]
  },
  {
   "cell_type": "code",
   "execution_count": 2,
   "id": "88c4d54b",
   "metadata": {},
   "outputs": [
    {
     "name": "stderr",
     "output_type": "stream",
     "text": [
      "<timed exec>:31: TqdmDeprecationWarning: This function will be removed in tqdm==5.0.0\n",
      "Please use `tqdm.notebook.tqdm` instead of `tqdm.tqdm_notebook`\n"
     ]
    },
    {
     "data": {
      "application/vnd.jupyter.widget-view+json": {
       "model_id": "8770ac703c494312b8812ecbc296f602",
       "version_major": 2,
       "version_minor": 0
      },
      "text/plain": [
       "Обработано: 0it [00:00, ?it/s]"
      ]
     },
     "metadata": {},
     "output_type": "display_data"
    },
    {
     "name": "stdout",
     "output_type": "stream",
     "text": [
      "Predict ResNet152V2_GlobalAveragePooling2D\n",
      "Данные для валидации готовы!\n",
      "CPU times: total: 11min 26s\n",
      "Wall time: 8min 50s\n"
     ]
    }
   ],
   "source": [
    "%%time\n",
    "#Валидация\n",
    "\n",
    "model_rn152v2 = ResNet152V2(\n",
    "                            weights = 'imagenet', \n",
    "                            include_top = False\n",
    "                            )\n",
    "\n",
    "classes = [\n",
    "           'мусор',\n",
    "           'без_отделки', \n",
    "           'предчистовая', \n",
    "           #'экономный', \n",
    "           'стандартный', \n",
    "           #'улучшенный', \n",
    "           'план', \n",
    "           'улица', \n",
    "           'балкон', \n",
    "           'моп'\n",
    "          ]\n",
    "\n",
    "val_path = \"D:\\\\Стас\\\\Ученье - Свет\\\\Оценка\\\\Аспирантура\\\\Видео по NN, Data mining, ABC и т.д\\\\Распределение Гаусса, регрессия\\\\Python\\\\!Наработки\\\\Отделка_2\\\\NN\\\\split_NN_8\\\\val\"\n",
    "val_names = os.listdir(val_path)\n",
    "\n",
    "class_weights = [0.08, 0.13, 0.16, 0.13, 0.14, 0.13, 0.10, 0.13] #веса для классов\n",
    "\n",
    "fotos = 2000 #количество фото на все классы\n",
    "\n",
    "data = []        #input array \n",
    "target_arr = []  #output array \n",
    "\n",
    "for i, name in tqdm(enumerate(val_names), 'Обработано', position = 0):\n",
    "    class_path = val_path + '\\\\' + name\n",
    "    img_names = os.listdir(class_path)\n",
    "    \n",
    "    foto = int(fotos * class_weights[i])            #количесто фото на класс в зависимости от веса (баланса)\n",
    "    img_names = random.sample(img_names, k = foto)  #случайный набор фото из папки класса name в размере доли k\n",
    "    \n",
    "    for img_name in img_names:\n",
    "    #for img_name in tqdm(img_names, 'Обработано', position = 0):\n",
    "    #for i in range(0, foto, 1):\n",
    "        img_i = image.load_img(class_path + '\\\\' + img_name, target_size = (224, 224))\n",
    "        x = image.img_to_array(img_i)\n",
    "        #x = np.expand_dims(x, axis = 0) #отключаем, так как мы предсказываем ниже массив данных, а не 1 значение\n",
    "        x = pi_rnv2(x) #/ 255\n",
    "\n",
    "        data.append(x)\n",
    "        target_arr.append(i)\n",
    "\n",
    "print(f'Predict ResNet152V2_GlobalAveragePooling2D')\n",
    "arrays = model_rn152v2.predict(np.array(data), verbose = None) #делаем предсказания по всему массиву data\n",
    "avg_pool = tensorflow.keras.layers.GlobalAveragePooling2D() #уменьшает размерность глобально\n",
    "features = avg_pool(arrays)\n",
    "data_arr = features.numpy()\n",
    "\n",
    "# data_arr = []\n",
    "\n",
    "# for arr in features:\n",
    "#     data_arr.append(arr.flatten()) #вытягиваем каждый прогноз VGG19 (arrays) в длину 25088 значений\n",
    "\n",
    "df_1 = pd.DataFrame(target_arr, columns = ['Y_val'])\n",
    "df_2 = pd.DataFrame(data_arr)\n",
    "df = pd.concat([df_1, df_2], axis = 1)\n",
    "Y_val = df['Y_val']\n",
    "X_val = df.drop(['Y_val'], axis = 1)\n",
    "\n",
    "print(f'Данные для валидации готовы!')"
   ]
  },
  {
   "cell_type": "code",
   "execution_count": 4,
   "id": "ab4b0d5e",
   "metadata": {},
   "outputs": [
    {
     "data": {
      "text/plain": [
       "array([0, 1, 2, 3, 4, 5, 6, 7], dtype=int64)"
      ]
     },
     "execution_count": 4,
     "metadata": {},
     "output_type": "execute_result"
    }
   ],
   "source": [
    "np.unique(Y_val)"
   ]
  },
  {
   "cell_type": "code",
   "execution_count": 24,
   "id": "cab7e691",
   "metadata": {},
   "outputs": [
    {
     "name": "stderr",
     "output_type": "stream",
     "text": [
      "<timed exec>:37: TqdmDeprecationWarning: This function will be removed in tqdm==5.0.0\n",
      "Please use `tqdm.notebook.tqdm` instead of `tqdm.tqdm_notebook`\n"
     ]
    },
    {
     "data": {
      "application/vnd.jupyter.widget-view+json": {
       "model_id": "cc49be353b9b4678967b59bbec5c5b39",
       "version_major": 2,
       "version_minor": 0
      },
      "text/plain": [
       "  0%|          | 0/65 [00:00<?, ?it/s]"
      ]
     },
     "metadata": {},
     "output_type": "display_data"
    },
    {
     "name": "stdout",
     "output_type": "stream",
     "text": [
      "Обучение модели № 1\n",
      "Обучение batch № 1 успешно завершено! Accuracy_val: 0.7165, Accuracy_train: 0.8315\n",
      "Обучение модели № 2\n",
      "Обучение batch № 2 успешно завершено! Accuracy_val: 0.7265, Accuracy_train: 0.842\n",
      "Обучение модели № 3\n",
      "Обучение batch № 3 успешно завершено! Accuracy_val: 0.75, Accuracy_train: 0.862\n",
      "Обучение модели № 4\n",
      "Обучение batch № 4 успешно завершено! Accuracy_val: 0.7705, Accuracy_train: 0.8945\n",
      "Обучение модели № 5\n",
      "Обучение batch № 5 успешно завершено! Accuracy_val: 0.7665, Accuracy_train: 0.8965\n",
      "Обучение модели № 6\n",
      "Обучение batch № 6 успешно завершено! Accuracy_val: 0.754, Accuracy_train: 0.8635\n",
      "Обучение модели № 7\n",
      "Обучение batch № 7 успешно завершено! Accuracy_val: 0.777, Accuracy_train: 0.888\n",
      "Обучение модели № 8\n",
      "Обучение batch № 8 успешно завершено! Accuracy_val: 0.7585, Accuracy_train: 0.8765\n",
      "Обучение модели № 9\n",
      "Обучение batch № 9 успешно завершено! Accuracy_val: 0.774, Accuracy_train: 0.8875\n",
      "Обучение модели № 10\n",
      "Обучение batch № 10 успешно завершено! Accuracy_val: 0.7725, Accuracy_train: 0.8925\n",
      "Обучение модели № 11\n",
      "Обучение batch № 11 успешно завершено! Accuracy_val: 0.802, Accuracy_train: 0.8965\n",
      "Обучение модели № 12\n",
      "Обучение batch № 12 успешно завершено! Accuracy_val: 0.7955, Accuracy_train: 0.887\n",
      "Обучение модели № 13\n",
      "Обучение batch № 13 успешно завершено! Accuracy_val: 0.7825, Accuracy_train: 0.8745\n",
      "Обучение модели № 14\n",
      "Обучение batch № 14 успешно завершено! Accuracy_val: 0.804, Accuracy_train: 0.8925\n",
      "Обучение модели № 15\n",
      "Обучение batch № 15 успешно завершено! Accuracy_val: 0.804, Accuracy_train: 0.9055\n",
      "Обучение модели № 16\n",
      "Обучение batch № 16 успешно завершено! Accuracy_val: 0.8075, Accuracy_train: 0.937\n",
      "Обучение модели № 17\n",
      "Обучение batch № 17 успешно завершено! Accuracy_val: 0.791, Accuracy_train: 0.89\n",
      "Обучение модели № 18\n",
      "Обучение batch № 18 успешно завершено! Accuracy_val: 0.7985, Accuracy_train: 0.895\n",
      "Обучение модели № 19\n",
      "Обучение batch № 19 успешно завершено! Accuracy_val: 0.7895, Accuracy_train: 0.905\n",
      "Обучение модели № 20\n",
      "Обучение batch № 20 успешно завершено! Accuracy_val: 0.819, Accuracy_train: 0.9225\n",
      "Обучение модели № 21\n",
      "Обучение batch № 21 успешно завершено! Accuracy_val: 0.821, Accuracy_train: 0.898\n",
      "Обучение модели № 22\n",
      "Обучение batch № 22 успешно завершено! Accuracy_val: 0.805, Accuracy_train: 0.915\n",
      "Обучение модели № 23\n",
      "Обучение batch № 23 успешно завершено! Accuracy_val: 0.7975, Accuracy_train: 0.925\n",
      "Обучение модели № 24\n",
      "Обучение batch № 24 успешно завершено! Accuracy_val: 0.8145, Accuracy_train: 0.9285\n",
      "Обучение модели № 25\n",
      "Обучение batch № 25 успешно завершено! Accuracy_val: 0.7955, Accuracy_train: 0.9295\n",
      "Обучение модели № 26\n",
      "Обучение batch № 26 успешно завершено! Accuracy_val: 0.8175, Accuracy_train: 0.9155\n",
      "Обучение модели № 27\n",
      "Обучение batch № 27 успешно завершено! Accuracy_val: 0.82, Accuracy_train: 0.9195\n",
      "Обучение модели № 28\n",
      "Обучение batch № 28 успешно завершено! Accuracy_val: 0.8165, Accuracy_train: 0.9335\n",
      "Обучение модели № 29\n",
      "Обучение batch № 29 успешно завершено! Accuracy_val: 0.8125, Accuracy_train: 0.916\n",
      "Обучение модели № 30\n",
      "Обучение batch № 30 успешно завершено! Accuracy_val: 0.823, Accuracy_train: 0.9245\n",
      "Обучение модели № 31\n",
      "Обучение batch № 31 успешно завершено! Accuracy_val: 0.8135, Accuracy_train: 0.919\n",
      "Обучение модели № 32\n",
      "Обучение batch № 32 успешно завершено! Accuracy_val: 0.8205, Accuracy_train: 0.9135\n",
      "Обучение модели № 33\n",
      "Обучение batch № 33 успешно завершено! Accuracy_val: 0.7925, Accuracy_train: 0.8915\n",
      "Обучение модели № 34\n",
      "Обучение batch № 34 успешно завершено! Accuracy_val: 0.8135, Accuracy_train: 0.9175\n",
      "Обучение модели № 35\n",
      "Обучение batch № 35 успешно завершено! Accuracy_val: 0.7935, Accuracy_train: 0.9165\n",
      "Обучение модели № 36\n",
      "Обучение batch № 36 успешно завершено! Accuracy_val: 0.809, Accuracy_train: 0.919\n",
      "Обучение модели № 37\n",
      "Обучение batch № 37 успешно завершено! Accuracy_val: 0.8015, Accuracy_train: 0.911\n",
      "Обучение модели № 38\n",
      "Обучение batch № 38 успешно завершено! Accuracy_val: 0.8, Accuracy_train: 0.931\n",
      "Обучение модели № 39\n",
      "Обучение batch № 39 успешно завершено! Accuracy_val: 0.8025, Accuracy_train: 0.909\n",
      "Обучение модели № 40\n",
      "Обучение batch № 40 успешно завершено! Accuracy_val: 0.8165, Accuracy_train: 0.9355\n",
      "Обучение модели № 41\n",
      "Обучение batch № 41 успешно завершено! Accuracy_val: 0.812, Accuracy_train: 0.9175\n",
      "Обучение модели № 42\n",
      "Обучение batch № 42 успешно завершено! Accuracy_val: 0.8195, Accuracy_train: 0.93\n",
      "Обучение модели № 43\n",
      "Обучение batch № 43 успешно завершено! Accuracy_val: 0.8045, Accuracy_train: 0.9365\n",
      "Обучение модели № 44\n",
      "Обучение batch № 44 успешно завершено! Accuracy_val: 0.822, Accuracy_train: 0.916\n",
      "Обучение модели № 45\n",
      "Обучение batch № 45 успешно завершено! Accuracy_val: 0.812, Accuracy_train: 0.9\n",
      "Обучение модели № 46\n",
      "Обучение batch № 46 успешно завершено! Accuracy_val: 0.8225, Accuracy_train: 0.919\n",
      "Обучение модели № 47\n",
      "Обучение batch № 47 успешно завершено! Accuracy_val: 0.804, Accuracy_train: 0.9075\n",
      "Обучение модели № 48\n",
      "Обучение batch № 48 успешно завершено! Accuracy_val: 0.8075, Accuracy_train: 0.9085\n",
      "Обучение модели № 49\n",
      "Обучение batch № 49 успешно завершено! Accuracy_val: 0.807, Accuracy_train: 0.9205\n",
      "Обучение модели № 50\n",
      "Обучение batch № 50 успешно завершено! Accuracy_val: 0.813, Accuracy_train: 0.9055\n",
      "Обучение модели № 51\n",
      "Обучение batch № 51 успешно завершено! Accuracy_val: 0.8185, Accuracy_train: 0.887\n",
      "Обучение модели № 52\n",
      "Обучение batch № 52 успешно завершено! Accuracy_val: 0.8135, Accuracy_train: 0.9295\n",
      "Обучение модели № 53\n",
      "Обучение batch № 53 успешно завершено! Accuracy_val: 0.808, Accuracy_train: 0.8975\n",
      "Обучение модели № 54\n",
      "Обучение batch № 54 успешно завершено! Accuracy_val: 0.8005, Accuracy_train: 0.9045\n",
      "Обучение модели № 55\n",
      "Обучение batch № 55 успешно завершено! Accuracy_val: 0.785, Accuracy_train: 0.913\n",
      "Обучение модели № 56\n",
      "Обучение batch № 56 успешно завершено! Accuracy_val: 0.801, Accuracy_train: 0.908\n",
      "Обучение модели № 57\n",
      "Обучение batch № 57 успешно завершено! Accuracy_val: 0.784, Accuracy_train: 0.899\n",
      "Обучение модели № 58\n",
      "Обучение batch № 58 успешно завершено! Accuracy_val: 0.7935, Accuracy_train: 0.913\n",
      "Обучение модели № 59\n",
      "Обучение batch № 59 успешно завершено! Accuracy_val: 0.794, Accuracy_train: 0.9085\n",
      "Обучение модели № 60\n",
      "Обучение batch № 60 успешно завершено! Accuracy_val: 0.795, Accuracy_train: 0.904\n",
      "Обучение модели № 61\n",
      "Обучение batch № 61 успешно завершено! Accuracy_val: 0.793, Accuracy_train: 0.8955\n",
      "Обучение модели № 62\n",
      "Обучение batch № 62 успешно завершено! Accuracy_val: 0.7865, Accuracy_train: 0.914\n",
      "Обучение модели № 63\n",
      "Обучение batch № 63 успешно завершено! Accuracy_val: 0.8025, Accuracy_train: 0.896\n",
      "Обучение модели № 64\n",
      "Обучение batch № 64 успешно завершено! Accuracy_val: 0.7685, Accuracy_train: 0.8925\n",
      "Обучение модели № 65\n",
      "Обучение batch № 65 успешно завершено! Accuracy_val: 0.799, Accuracy_train: 0.8945\n",
      "CPU times: total: 12h 8min 49s\n",
      "Wall time: 9h 41min 44s\n"
     ]
    }
   ],
   "source": [
    "%%time\n",
    "#Для предобученной сети\n",
    "model_rn152v2 = ResNet152V2(\n",
    "                            weights = 'imagenet', \n",
    "                            include_top = False\n",
    "                            )\n",
    "\n",
    "folder_name = [\n",
    "               'trash',\n",
    "               'wf', \n",
    "               'prefin', \n",
    "               #'econ', \n",
    "               'stand', \n",
    "               #'imp', \n",
    "               'plan', \n",
    "               'street', \n",
    "               'balc', \n",
    "               'mop'\n",
    "              ]\n",
    "\n",
    "val_path = r'D:\\Стас\\Ученье - Свет\\Оценка\\Аспирантура\\Видео по NN, Data mining, ABC и т.д\\Распределение Гаусса, регрессия\\Python\\!Наработки\\Отделка_2\\NN\\split_NN_8\\train'\n",
    "val_names = os.listdir(val_path) \n",
    "\n",
    "class_weights = [0.08, 0.13, 0.16, 0.13, 0.14, 0.13, 0.10, 0.13] #веса для классов\n",
    "\n",
    "fotos = 2000 #количество фото на все классы в 1 batch\n",
    "h = 0        #шаг\n",
    "\n",
    "sgdc = SGDClassifier(\n",
    "                     loss = 'log_loss', \n",
    "                     alpha = 0.01,\n",
    "                     max_iter = 1000, \n",
    "                     random_state = 42\n",
    "                    )\n",
    "\n",
    "accuracy = []\n",
    "\n",
    "for j in tqdm(range(0, 65, 1), position = 0):  #до 66\n",
    "\n",
    "    data = []        #input array \n",
    "    target_arr = []  #output array \n",
    "\n",
    "    for n, name_folder in enumerate(val_names):\n",
    "        class_path = val_path + '\\\\' + name_folder  #путь к папке первого класса\n",
    "        img_names = os.listdir(class_path)          #имена фото в папке\n",
    "        \n",
    "        foto = int(fotos * class_weights[n])        #количесто фото на класс в зависимости от веса (баланса)\n",
    "        h = foto * j                                #шаг, который контролирует batchs\n",
    "        \n",
    "        #print(\"\\r\", end = \"\") #чистим вывод\n",
    "        #print(f'j = {j}, h = {h}, n = {n}')        #принтим шаги j и h\n",
    "\n",
    "        #for img_name in tqdm(img_names, 'Обработанно файлов', position = 0):\n",
    "        for i in range(0, foto, 1):\n",
    "        #for i in tqdm(range(0, foto, 1), position = 1): #<---\n",
    "            img = keras.utils.load_img(class_path + '\\\\' + img_names[i + h], target_size = (224, 224))\n",
    "            x = keras.utils.img_to_array(img)\n",
    "            #x = np.expand_dims(x, axis = 0) #отключил, чтобы не добавлять размерность и полностью передать data_arr в VGG19 для прогноза\n",
    "            x = pi_rnv2(x) #/ 255  #в некоторых случаях необходимо делить на 255, согласно док vgg19 не масштабируется\n",
    "            \n",
    "            data.append(x)\n",
    "            #data.append(model_vgg_19.predict(x, verbose = None).flatten()) #тут наши факторы вытянутые в массив\n",
    "            target_arr.append(n)                                            #тут наша метка по классу\n",
    "    \n",
    "    #print(f'Обучение модели № {j + 1}')\n",
    "    \n",
    "    arrays = model_rn152v2.predict(np.array(data), verbose = None) #делаем предсказания по всему массиву data\n",
    "\n",
    "    avg_pool = tensorflow.keras.layers.GlobalAveragePooling2D() #уменьшает размерность глобально\n",
    "    features = avg_pool(arrays)\n",
    "    data_arr = features.numpy()\n",
    "\n",
    "    df_1 = pd.DataFrame(target_arr, columns = ['Y'])\n",
    "    df_2 = pd.DataFrame(data_arr)\n",
    "    df = pd.concat([df_1, df_2], axis = 1)\n",
    "    df = df.sample(frac = 1).reset_index(drop = True)          #перемешиваем строки\n",
    "    Y = df['Y']\n",
    "    X = df.drop(['Y'], axis = 1)\n",
    "    \n",
    "    print(f'Обучение модели № {j + 1}')\n",
    "    sgdc = sgdc.partial_fit(X, Y, classes = np.unique(Y))\n",
    "    \n",
    "    pred_val = sgdc.predict(X_val)\n",
    "    acc_val = accuracy_score(pred_val, Y_val)\n",
    "        \n",
    "    pred_train = sgdc.predict(X)\n",
    "    acc_train = accuracy_score(pred_train, Y)\n",
    "    \n",
    "    acc_all = {'acc_val': acc_val, 'acc_train': acc_train}\n",
    "    accuracy.append(acc_all)\n",
    "    \n",
    "    pickle.dump(sgdc, open('sgd_rn152v2_gap.pkl', 'wb'))\n",
    "       \n",
    "    print(f'Обучение batch № {j + 1} успешно завершено! Accuracy_val: {acc_val}, Accuracy_train: {acc_train}')"
   ]
  },
  {
   "cell_type": "code",
   "execution_count": 25,
   "id": "c726e493",
   "metadata": {},
   "outputs": [
    {
     "name": "stderr",
     "output_type": "stream",
     "text": [
      "C:\\Users\\skapr\\AppData\\Local\\Temp\\ipykernel_4516\\1966282082.py:4: FutureWarning: save is not part of the public API, usage can give unexpected results and will be removed in a future version\n",
      "  writer.save()\n"
     ]
    }
   ],
   "source": [
    "#Сохраняем в Excel\n",
    "writer = pd.ExcelWriter('Accuracy_foto.xlsx')\n",
    "pd.DataFrame(accuracy).to_excel(writer, 'прогноз')\n",
    "writer.save()"
   ]
  },
  {
   "cell_type": "code",
   "execution_count": 27,
   "id": "c36bd4d7",
   "metadata": {},
   "outputs": [
    {
     "data": {
      "text/html": [
       "<div>\n",
       "<style scoped>\n",
       "    .dataframe tbody tr th:only-of-type {\n",
       "        vertical-align: middle;\n",
       "    }\n",
       "\n",
       "    .dataframe tbody tr th {\n",
       "        vertical-align: top;\n",
       "    }\n",
       "\n",
       "    .dataframe thead th {\n",
       "        text-align: right;\n",
       "    }\n",
       "</style>\n",
       "<table border=\"1\" class=\"dataframe\">\n",
       "  <thead>\n",
       "    <tr style=\"text-align: right;\">\n",
       "      <th></th>\n",
       "      <th>acc_val</th>\n",
       "      <th>acc_train</th>\n",
       "    </tr>\n",
       "  </thead>\n",
       "  <tbody>\n",
       "    <tr>\n",
       "      <th>0</th>\n",
       "      <td>0.7165</td>\n",
       "      <td>0.8315</td>\n",
       "    </tr>\n",
       "    <tr>\n",
       "      <th>1</th>\n",
       "      <td>0.7265</td>\n",
       "      <td>0.8420</td>\n",
       "    </tr>\n",
       "    <tr>\n",
       "      <th>2</th>\n",
       "      <td>0.7500</td>\n",
       "      <td>0.8620</td>\n",
       "    </tr>\n",
       "    <tr>\n",
       "      <th>3</th>\n",
       "      <td>0.7705</td>\n",
       "      <td>0.8945</td>\n",
       "    </tr>\n",
       "    <tr>\n",
       "      <th>4</th>\n",
       "      <td>0.7665</td>\n",
       "      <td>0.8965</td>\n",
       "    </tr>\n",
       "    <tr>\n",
       "      <th>...</th>\n",
       "      <td>...</td>\n",
       "      <td>...</td>\n",
       "    </tr>\n",
       "    <tr>\n",
       "      <th>60</th>\n",
       "      <td>0.7930</td>\n",
       "      <td>0.8955</td>\n",
       "    </tr>\n",
       "    <tr>\n",
       "      <th>61</th>\n",
       "      <td>0.7865</td>\n",
       "      <td>0.9140</td>\n",
       "    </tr>\n",
       "    <tr>\n",
       "      <th>62</th>\n",
       "      <td>0.8025</td>\n",
       "      <td>0.8960</td>\n",
       "    </tr>\n",
       "    <tr>\n",
       "      <th>63</th>\n",
       "      <td>0.7685</td>\n",
       "      <td>0.8925</td>\n",
       "    </tr>\n",
       "    <tr>\n",
       "      <th>64</th>\n",
       "      <td>0.7990</td>\n",
       "      <td>0.8945</td>\n",
       "    </tr>\n",
       "  </tbody>\n",
       "</table>\n",
       "<p>65 rows × 2 columns</p>\n",
       "</div>"
      ],
      "text/plain": [
       "    acc_val  acc_train\n",
       "0    0.7165     0.8315\n",
       "1    0.7265     0.8420\n",
       "2    0.7500     0.8620\n",
       "3    0.7705     0.8945\n",
       "4    0.7665     0.8965\n",
       "..      ...        ...\n",
       "60   0.7930     0.8955\n",
       "61   0.7865     0.9140\n",
       "62   0.8025     0.8960\n",
       "63   0.7685     0.8925\n",
       "64   0.7990     0.8945\n",
       "\n",
       "[65 rows x 2 columns]"
      ]
     },
     "execution_count": 27,
     "metadata": {},
     "output_type": "execute_result"
    }
   ],
   "source": [
    "df = pd.read_excel('D:\\Стас\\Ученье - Свет\\Оценка\\Аспирантура\\Видео по NN, Data mining, ABC и т.д\\Распределение Гаусса, регрессия\\Python\\!Наработки\\Отделка_2\\Результаты/Iter.xlsx', sheet_name = 8)\n",
    "df"
   ]
  },
  {
   "cell_type": "code",
   "execution_count": 28,
   "id": "d7b2ba11",
   "metadata": {},
   "outputs": [
    {
     "data": {
      "text/plain": [
       "<matplotlib.legend.Legend at 0x1aea5add5e0>"
      ]
     },
     "execution_count": 28,
     "metadata": {},
     "output_type": "execute_result"
    },
    {
     "data": {
      "image/png": "[encoded data removed]",
      "text/plain": [
       "<Figure size 1080x432 with 1 Axes>"
      ]
     },
     "metadata": {},
     "output_type": "display_data"
    }
   ],
   "source": [
    "df['acc_val'].plot(figsize = (15, 6), label = 'acc_val')\n",
    "df['acc_train'].plot(figsize = (15, 6), label = 'acc_train')\n",
    "#df['D_foto'].plot(figsize = (15, 6))\n",
    "plt.xlabel('Объем фотографий / 2000', fontsize = 15)\n",
    "plt.ylabel('Accuracy', fontsize = 15)\n",
    "plt.title('Динамика accuracy', fontweight = 'bold', fontsize = 18)\n",
    "plt.legend()"
   ]
  },
  {
   "cell_type": "code",
   "execution_count": 34,
   "id": "d553d6fe",
   "metadata": {},
   "outputs": [
    {
     "name": "stderr",
     "output_type": "stream",
     "text": [
      "C:\\Users\\skapr\\AppData\\Local\\Temp\\ipykernel_4516\\548601432.py:33: TqdmDeprecationWarning: This function will be removed in tqdm==5.0.0\n",
      "Please use `tqdm.notebook.tqdm` instead of `tqdm.tqdm_notebook`\n",
      "  for i, name in tqdm(enumerate(val_names), 'Обработано', position = 0):\n"
     ]
    },
    {
     "data": {
      "application/vnd.jupyter.widget-view+json": {
       "model_id": "f790b6b5c13148e49c5f17af35e85244",
       "version_major": 2,
       "version_minor": 0
      },
      "text/plain": [
       "Обработано: 0it [00:00, ?it/s]"
      ]
     },
     "metadata": {},
     "output_type": "display_data"
    },
    {
     "name": "stderr",
     "output_type": "stream",
     "text": [
      "C:\\Users\\skapr\\AppData\\Local\\Temp\\ipykernel_4516\\548601432.py:37: TqdmDeprecationWarning: This function will be removed in tqdm==5.0.0\n",
      "Please use `tqdm.notebook.tqdm` instead of `tqdm.tqdm_notebook`\n",
      "  for img_name in tqdm(img_names, 'Обработано', position = 0):\n"
     ]
    },
    {
     "data": {
      "application/vnd.jupyter.widget-view+json": {
       "model_id": "b79a0416d9764dbb9ebb6d692dd4721e",
       "version_major": 2,
       "version_minor": 0
      },
      "text/plain": [
       "Обработано:   0%|          | 0/553 [00:00<?, ?it/s]"
      ]
     },
     "metadata": {},
     "output_type": "display_data"
    },
    {
     "name": "stdout",
     "output_type": "stream",
     "text": [
      "WARNING:tensorflow:5 out of the last 4037 calls to <function TensorFlowTrainer.make_predict_function.<locals>.one_step_on_data_distributed at 0x000001AE513FB3A0> triggered tf.function retracing. Tracing is expensive and the excessive number of tracings could be due to (1) creating @tf.function repeatedly in a loop, (2) passing tensors with different shapes, (3) passing Python objects instead of tensors. For (1), please define your @tf.function outside of the loop. For (2), @tf.function has reduce_retracing=True option that can avoid unnecessary retracing. For (3), please refer to https://www.tensorflow.org/guide/function#controlling_retracing and https://www.tensorflow.org/api_docs/python/tf/function for  more details.\n"
     ]
    },
    {
     "name": "stderr",
     "output_type": "stream",
     "text": [
      "C:\\Users\\skapr\\AppData\\Local\\Temp\\ipykernel_4516\\548601432.py:37: TqdmDeprecationWarning: This function will be removed in tqdm==5.0.0\n",
      "Please use `tqdm.notebook.tqdm` instead of `tqdm.tqdm_notebook`\n",
      "  for img_name in tqdm(img_names, 'Обработано', position = 0):\n"
     ]
    },
    {
     "data": {
      "application/vnd.jupyter.widget-view+json": {
       "model_id": "5d2d55f0ad5e42cf8506d5105da7176c",
       "version_major": 2,
       "version_minor": 0
      },
      "text/plain": [
       "Обработано:   0%|          | 0/3689 [00:00<?, ?it/s]"
      ]
     },
     "metadata": {},
     "output_type": "display_data"
    },
    {
     "name": "stderr",
     "output_type": "stream",
     "text": [
      "C:\\Users\\skapr\\AppData\\Local\\Temp\\ipykernel_4516\\548601432.py:37: TqdmDeprecationWarning: This function will be removed in tqdm==5.0.0\n",
      "Please use `tqdm.notebook.tqdm` instead of `tqdm.tqdm_notebook`\n",
      "  for img_name in tqdm(img_names, 'Обработано', position = 0):\n"
     ]
    },
    {
     "data": {
      "application/vnd.jupyter.widget-view+json": {
       "model_id": "cbb6945e2dc449d4866f4e4fd71c6897",
       "version_major": 2,
       "version_minor": 0
      },
      "text/plain": [
       "Обработано:   0%|          | 0/4619 [00:00<?, ?it/s]"
      ]
     },
     "metadata": {},
     "output_type": "display_data"
    },
    {
     "name": "stderr",
     "output_type": "stream",
     "text": [
      "C:\\Users\\skapr\\AppData\\Local\\Temp\\ipykernel_4516\\548601432.py:37: TqdmDeprecationWarning: This function will be removed in tqdm==5.0.0\n",
      "Please use `tqdm.notebook.tqdm` instead of `tqdm.tqdm_notebook`\n",
      "  for img_name in tqdm(img_names, 'Обработано', position = 0):\n"
     ]
    },
    {
     "data": {
      "application/vnd.jupyter.widget-view+json": {
       "model_id": "1af362fa6b0e4822933fb48ebd759c0c",
       "version_major": 2,
       "version_minor": 0
      },
      "text/plain": [
       "Обработано:   0%|          | 0/3947 [00:00<?, ?it/s]"
      ]
     },
     "metadata": {},
     "output_type": "display_data"
    },
    {
     "name": "stderr",
     "output_type": "stream",
     "text": [
      "C:\\Users\\skapr\\AppData\\Local\\Temp\\ipykernel_4516\\548601432.py:37: TqdmDeprecationWarning: This function will be removed in tqdm==5.0.0\n",
      "Please use `tqdm.notebook.tqdm` instead of `tqdm.tqdm_notebook`\n",
      "  for img_name in tqdm(img_names, 'Обработано', position = 0):\n"
     ]
    },
    {
     "data": {
      "application/vnd.jupyter.widget-view+json": {
       "model_id": "b26e7fac8abf449cb4dca2d0317cddd0",
       "version_major": 2,
       "version_minor": 0
      },
      "text/plain": [
       "Обработано:   0%|          | 0/4250 [00:00<?, ?it/s]"
      ]
     },
     "metadata": {},
     "output_type": "display_data"
    },
    {
     "name": "stderr",
     "output_type": "stream",
     "text": [
      "C:\\Users\\skapr\\AppData\\Local\\Temp\\ipykernel_4516\\548601432.py:37: TqdmDeprecationWarning: This function will be removed in tqdm==5.0.0\n",
      "Please use `tqdm.notebook.tqdm` instead of `tqdm.tqdm_notebook`\n",
      "  for img_name in tqdm(img_names, 'Обработано', position = 0):\n"
     ]
    },
    {
     "data": {
      "application/vnd.jupyter.widget-view+json": {
       "model_id": "76d2252c891a40c0b35ff6492af3c6fc",
       "version_major": 2,
       "version_minor": 0
      },
      "text/plain": [
       "Обработано:   0%|          | 0/7564 [00:00<?, ?it/s]"
      ]
     },
     "metadata": {},
     "output_type": "display_data"
    },
    {
     "name": "stderr",
     "output_type": "stream",
     "text": [
      "C:\\Users\\skapr\\AppData\\Local\\Temp\\ipykernel_4516\\548601432.py:37: TqdmDeprecationWarning: This function will be removed in tqdm==5.0.0\n",
      "Please use `tqdm.notebook.tqdm` instead of `tqdm.tqdm_notebook`\n",
      "  for img_name in tqdm(img_names, 'Обработано', position = 0):\n"
     ]
    },
    {
     "data": {
      "application/vnd.jupyter.widget-view+json": {
       "model_id": "3ae44e10a58a47a7ad3faff9ed6fa86b",
       "version_major": 2,
       "version_minor": 0
      },
      "text/plain": [
       "Обработано:   0%|          | 0/1166 [00:00<?, ?it/s]"
      ]
     },
     "metadata": {},
     "output_type": "display_data"
    },
    {
     "name": "stderr",
     "output_type": "stream",
     "text": [
      "C:\\Users\\skapr\\AppData\\Local\\Temp\\ipykernel_4516\\548601432.py:37: TqdmDeprecationWarning: This function will be removed in tqdm==5.0.0\n",
      "Please use `tqdm.notebook.tqdm` instead of `tqdm.tqdm_notebook`\n",
      "  for img_name in tqdm(img_names, 'Обработано', position = 0):\n"
     ]
    },
    {
     "data": {
      "application/vnd.jupyter.widget-view+json": {
       "model_id": "7ff7f931febe4d73858bd7860cff7ee4",
       "version_major": 2,
       "version_minor": 0
      },
      "text/plain": [
       "Обработано:   0%|          | 0/2742 [00:00<?, ?it/s]"
      ]
     },
     "metadata": {},
     "output_type": "display_data"
    },
    {
     "name": "stdout",
     "output_type": "stream",
     "text": [
      "[[ 231   26   38   99   11   30   43   75]\n",
      " [  38 3200  325   30    2   15   38   41]\n",
      " [  36  468 3830   87    0    2   28  168]\n",
      " [ 104   60   85 3202    0   17   46  433]\n",
      " [  14    0    0    3 4206   20    0    7]\n",
      " [  61   22    6   13    9 7317   93   43]\n",
      " [  39  113   49   78    0   67  781   39]\n",
      " [  50  164  118  452    2   56   49 1851]]\n"
     ]
    }
   ],
   "source": [
    "model_rn152v2 = ResNet152V2(\n",
    "                            weights = 'imagenet', \n",
    "                            include_top = False\n",
    "                            )\n",
    "\n",
    "model = pickle.load(open('sgd_rn152v2_gap.pkl', 'rb'))\n",
    "\n",
    "classes = [\n",
    "           'мусор',\n",
    "           'без_отделки', \n",
    "           'предчистовая', \n",
    "           #'экономный', \n",
    "           'стандартный', \n",
    "           #'улучшенный', \n",
    "           'план', \n",
    "           'улица', \n",
    "           'балкон', \n",
    "           'моп'\n",
    "          ]\n",
    "\n",
    "img_trash_all = []\n",
    "img_wf_all = []\n",
    "img_prefin_all = []\n",
    "img_stand_all = []\n",
    "img_plan_all = []\n",
    "img_street_all = []\n",
    "img_balc_all = []\n",
    "img_mop_all = []\n",
    "\n",
    "val_path = \"D:\\\\Стас\\\\Ученье - Свет\\\\Оценка\\\\Аспирантура\\\\Видео по NN, Data mining, ABC и т.д\\\\Распределение Гаусса, регрессия\\\\Python\\\\!Наработки\\\\Отделка_2\\\\NN\\\\split_NN_8\\\\val\"\n",
    "val_names = os.listdir(val_path)\n",
    "\n",
    "for i, name in tqdm(enumerate(val_names), 'Обработано', position = 0):\n",
    "    class_path = val_path + '\\\\' + name\n",
    "    img_names = os.listdir(class_path)\n",
    "    \n",
    "    for img_name in tqdm(img_names, 'Обработано', position = 0):\n",
    "        img_i = image.load_img(class_path + '\\\\' + img_name, target_size = (224, 224))\n",
    "        x = image.img_to_array(img_i)\n",
    "        x = np.expand_dims(x, axis = 0)\n",
    "        x = pi_rnv2(x) #/ 255\n",
    "        \n",
    "        pr_rn152v2 = model_rn152v2.predict(x, verbose = None)       #делаем предсказание\n",
    "        avg_pool = tensorflow.keras.layers.GlobalAveragePooling2D() #уменьшает размерность глобально\n",
    "        feature = avg_pool(pr_rn152v2).numpy()\n",
    "        \n",
    "        preds = model.predict(feature)\n",
    "        pr = {'Predict': preds[0], 'Class_name': classes[i], 'True': i, 'Foto_name': img_name}\n",
    "        \n",
    "        if i == 0:\n",
    "            img_trash_all.append(pr)\n",
    "        elif i == 1:\n",
    "            img_wf_all.append(pr)\n",
    "        elif i == 2:\n",
    "            img_prefin_all.append(pr)\n",
    "        elif i == 3:\n",
    "            img_stand_all.append(pr)\n",
    "        elif i == 4:\n",
    "            img_plan_all.append(pr)\n",
    "        elif i == 5:\n",
    "            img_street_all.append(pr)\n",
    "        elif i == 6:\n",
    "            img_balc_all.append(pr)\n",
    "        else:\n",
    "            img_mop_all.append(pr)\n",
    "\n",
    "\n",
    "df_trash = pd.DataFrame(img_trash_all)\n",
    "df_wf = pd.DataFrame(img_wf_all)\n",
    "df_prefin = pd.DataFrame(img_prefin_all)\n",
    "df_stand = pd.DataFrame(img_stand_all)\n",
    "df_plan = pd.DataFrame(img_plan_all)\n",
    "df_street = pd.DataFrame(img_street_all)\n",
    "df_balc = pd.DataFrame(img_balc_all)\n",
    "df_mop = pd.DataFrame(img_mop_all)\n",
    "\n",
    "df_all = pd.concat([df_trash, df_wf, df_prefin, df_stand, df_plan, df_street, df_balc, df_mop])\n",
    "CM = confusion_matrix(df_all['True'], df_all['Predict'])\n",
    "print(CM)"
   ]
  },
  {
   "cell_type": "code",
   "execution_count": 35,
   "id": "f4dd9c4b",
   "metadata": {},
   "outputs": [
    {
     "name": "stdout",
     "output_type": "stream",
     "text": [
      "0.8628811777076761\n"
     ]
    }
   ],
   "source": [
    "from sklearn.metrics import accuracy_score\n",
    "\n",
    "print(accuracy_score(df_all['Predict'], df_all['True']))"
   ]
  },
  {
   "cell_type": "code",
   "execution_count": 36,
   "id": "600d85d9",
   "metadata": {},
   "outputs": [
    {
     "data": {
      "image/png": "[encoded data removed]",
      "text/plain": [
       "<Figure size 936x864 with 2 Axes>"
      ]
     },
     "metadata": {},
     "output_type": "display_data"
    }
   ],
   "source": [
    "#ConfusionMatrixDisplay\n",
    "disp = ConfusionMatrixDisplay(confusion_matrix = CM, display_labels = classes)\n",
    "\n",
    "fig, ax = plt.subplots(figsize = (13, 12))\n",
    "disp.plot(values_format = '.6g', ax = ax)\n",
    "plt.xticks(rotation = 70)\n",
    "plt.grid(False)\n",
    "plt.show();"
   ]
  },
  {
   "cell_type": "code",
   "execution_count": 37,
   "id": "e65fb8e6",
   "metadata": {},
   "outputs": [
    {
     "name": "stdout",
     "output_type": "stream",
     "text": [
      "\n",
      "Classification Report : \n",
      "              precision    recall  f1-score   support\n",
      "\n",
      "       мусор       0.40      0.42      0.41       553\n",
      " без_отделки       0.79      0.87      0.83      3689\n",
      "предчистовая       0.86      0.83      0.84      4619\n",
      " стандартный       0.81      0.81      0.81      3947\n",
      "        план       0.99      0.99      0.99      4250\n",
      "       улица       0.97      0.97      0.97      7564\n",
      "      балкон       0.72      0.67      0.70      1166\n",
      "         моп       0.70      0.68      0.69      2742\n",
      "\n",
      "    accuracy                           0.86     28530\n",
      "   macro avg       0.78      0.78      0.78     28530\n",
      "weighted avg       0.86      0.86      0.86     28530\n",
      "\n"
     ]
    }
   ],
   "source": [
    "#classification_report\n",
    "print(\"\\nClassification Report : \")\n",
    "print(classification_report(df_all['True'], df_all['Predict'], target_names = classes))"
   ]
  },
  {
   "cell_type": "code",
   "execution_count": 38,
   "id": "33551939",
   "metadata": {},
   "outputs": [
    {
     "name": "stderr",
     "output_type": "stream",
     "text": [
      "C:\\Users\\skapr\\AppData\\Local\\Temp\\ipykernel_4516\\2755980286.py:4: FutureWarning: save is not part of the public API, usage can give unexpected results and will be removed in a future version\n",
      "  writer.save()\n"
     ]
    }
   ],
   "source": [
    "#Сохраняем в Excel\n",
    "writer = pd.ExcelWriter('Классификация_фото.xlsx')\n",
    "df_all.to_excel(writer, 'прогноз')\n",
    "writer.save()"
   ]
  },
  {
   "cell_type": "code",
   "execution_count": null,
   "id": "822c3db5",
   "metadata": {},
   "outputs": [],
   "source": []
  },
  {
   "cell_type": "code",
   "execution_count": null,
   "id": "1416816e",
   "metadata": {},
   "outputs": [],
   "source": [
    "svm = SGDClassifier(loss = 'hinge', penalty = 'l2', alpha = 0.0001, max_iter = 1000, tol = 1e-3)\n",
    "\n",
    "progressive_validation_score = []\n",
    "train_score = []\n",
    "\n",
    "l = len(X)\n",
    "step = 500\n",
    "\n",
    "for datapoint in range(0, l, step):\n",
    "   \n",
    "    X_batch = X[datapoint : datapoint + step]\n",
    "    y_batch = y[datapoint : datapoint + step]\n",
    "    \n",
    "    if datapoint > 0:\n",
    "        progressive_validation_score.append(est.score(X_batch, y_batch))\n",
    "    \n",
    "    svm.partial_fit(X_batch, y_batch, classes=range(10))\n",
    "    \n",
    "    if datapoint > 0:\n",
    "        train_score.append(est.score(X_batch, y_batch))\n",
    "\n",
    "plt.plot(train_score, label = 'train score')\n",
    "plt.plot(progressive_validation_score, label='progressive validation score')\n",
    "plt.xlabel('Mini-batch')\n",
    "plt.ylabel('Score')\n",
    "plt.legend(loc='best')\n",
    "plt.show()"
   ]
  },
  {
   "cell_type": "code",
   "execution_count": null,
   "id": "9b24f86b",
   "metadata": {},
   "outputs": [],
   "source": []
  }
 ],
 "metadata": {
  "kernelspec": {
   "display_name": "Python 3 (ipykernel)",
   "language": "python",
   "name": "python3"
  },
  "language_info": {
   "codemirror_mode": {
    "name": "ipython",
    "version": 3
   },
   "file_extension": ".py",
   "mimetype": "text/x-python",
   "name": "python",
   "nbconvert_exporter": "python",
   "pygments_lexer": "ipython3",
   "version": "3.12.6"
  }
 },
 "nbformat": 4,
 "nbformat_minor": 5
}
