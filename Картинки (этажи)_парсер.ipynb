{
 "cells": [
  {
   "cell_type": "code",
   "execution_count": 1,
   "id": "d8cc25d1",
   "metadata": {},
   "outputs": [],
   "source": [
    "#Импортируем необходиимых библиотек для реализации парсинга\n",
    "from selenium import webdriver\n",
    "from selenium_stealth import stealth # делает похожим на настоящего пользователя\n",
    "from bs4 import BeautifulSoup\n",
    "from selenium.webdriver.common.keys import Keys\n",
    "from time import sleep\n",
    "from tqdm import tqdm\n",
    "import pandas as pd\n",
    "import numpy as np\n",
    "import winsound\n",
    "import requests\n",
    "\n",
    "from selenium.webdriver.chrome.service import Service\n",
    "from selenium.webdriver.common.by import By\n",
    "from selenium.webdriver.support.ui import Select\n",
    "\n",
    "import datetime\n",
    "year = datetime.date.today().year\n",
    "\n",
    "#https://chromedriver.chromium.org/downloads\n",
    "#https://googlechromelabs.github.io/chrome-for-testing/ - используем Stable, по ссылке скачиваем новую версию и вперед!"
   ]
  },
  {
   "cell_type": "code",
   "execution_count": 51,
   "id": "29d6f91b",
   "metadata": {},
   "outputs": [
    {
     "name": "stderr",
     "output_type": "stream",
     "text": [
      "Обработанно страниц: 100%|███████████████████████████████████████████████████████████████| 6/6 [01:41<00:00, 16.93s/it]\n"
     ]
    }
   ],
   "source": [
    "#Выгружаем данные (характеристики, адрес, текст объявления)\n",
    "service = Service(executable_path = 'C:\\Python\\chromedriver.exe')\n",
    "options = webdriver.ChromeOptions()\n",
    "\n",
    "options.add_argument(\"--disable-blink-features\")\n",
    "options.add_argument(\"--disable-blink-features=AutomationControlled\")\n",
    "options.add_experimental_option(\"excludeSwitches\", [\"enable-automation\"])\n",
    "options.add_experimental_option('useAutomationExtension', False)\n",
    "options.add_argument(\"start_maximized\")\n",
    "\n",
    "driver = webdriver.Chrome(service = service, options = options)\n",
    "\n",
    "stealth(driver,\n",
    "#        user_agent = 'Mozilla/5.0 (Windows NT 10.0; Win64; x64) AppleWebKit/537.36 (KHTML, like Gecko) Chrome/83.0.4103.53 Safari/537.36',\n",
    "        languages=[\"en-US\", \"en\"],\n",
    "        vendor = \"Google Inc.\",\n",
    "        platform=\"Win32\",\n",
    "        webgl_vendor=\"Intel Inc.\",\n",
    "        renderer=\"Intel Iris OpenGL Engine\",\n",
    "        fix_hairline=False, #True \n",
    "        run_on_insecure_origins=False\n",
    "        )\n",
    "\n",
    "link_all = []\n",
    "\n",
    "p = 7 #количество страниц + 1\n",
    "\n",
    "for page in tqdm(range(1, p, 1), 'Обработанно страниц'):\n",
    "    \n",
    "    url = f\"https://surgut.etagi.com/realty/?keep[]=design&page={page}\"\n",
    "    driver.get(url)\n",
    "    sleep(3)\n",
    "    \n",
    "    #while link_all <= 1:\n",
    "#     try:\n",
    "#         button = driver.find_element(By.XPATH, '/html/body/div[7]/div/div[1]/button') #закрываем выбор языка\n",
    "#         button.click() #нажимаем кнопку крестик\n",
    "#     except:\n",
    "#         #pass\n",
    "#         continue\n",
    "\n",
    "    #driver.execute_script(\"window.scrollBy(0,document.body.scrollHeight)\") #прокрутка страницы до самого конца\n",
    "    for i in range(0, 16500, 1500):\n",
    "        sleep(1)\n",
    "        driver.execute_script(\"window.scrollBy(0, 1500)\",\"\") #прокрутка страницы 10 раз по 1500 пикселей\n",
    "\n",
    "    blocks = driver.find_elements(By.CLASS_NAME, \"y8VEv\")\n",
    "    for block in blocks:\n",
    "        link = block.find_element(By.TAG_NAME, \"a\").get_attribute(\"href\")\n",
    "        link_all.append(link)"
   ]
  },
  {
   "cell_type": "code",
   "execution_count": 52,
   "id": "545da1e2",
   "metadata": {
    "scrolled": true
   },
   "outputs": [
    {
     "data": {
      "text/plain": [
       "['https://surgut.etagi.com/realty/11065800/',\n",
       " 'https://surgut.etagi.com/realty/9763860/',\n",
       " 'https://surgut.etagi.com/realty/8680775/',\n",
       " 'https://surgut.etagi.com/realty/10571243/',\n",
       " 'https://surgut.etagi.com/realty/11044823/',\n",
       " 'https://surgut.etagi.com/realty/10982953/',\n",
       " 'https://surgut.etagi.com/realty/10973790/',\n",
       " 'https://surgut.etagi.com/realty/10969557/',\n",
       " 'https://surgut.etagi.com/realty/10854297/',\n",
       " 'https://surgut.etagi.com/realty/10212781/',\n",
       " 'https://surgut.etagi.com/realty/10748691/',\n",
       " 'https://surgut.etagi.com/realty/10675924/',\n",
       " 'https://surgut.etagi.com/realty/10078902/',\n",
       " 'https://surgut.etagi.com/realty/10408944/',\n",
       " 'https://surgut.etagi.com/realty/10359654/',\n",
       " 'https://surgut.etagi.com/realty/10312338/',\n",
       " 'https://surgut.etagi.com/realty/10162300/',\n",
       " 'https://surgut.etagi.com/realty/10037774/',\n",
       " 'https://surgut.etagi.com/realty/9976198/',\n",
       " 'https://surgut.etagi.com/realty/9763646/',\n",
       " 'https://surgut.etagi.com/realty/9714593/',\n",
       " 'https://surgut.etagi.com/realty/8253219/',\n",
       " 'https://surgut.etagi.com/realty/8202802/',\n",
       " 'https://surgut.etagi.com/realty/5349026/',\n",
       " 'https://surgut.etagi.com/realty/2611274/',\n",
       " 'https://surgut.etagi.com/realty/11050426/',\n",
       " 'https://surgut.etagi.com/realty/10994194/',\n",
       " 'https://surgut.etagi.com/realty/10864131/',\n",
       " 'https://surgut.etagi.com/realty/10764577/',\n",
       " 'https://surgut.etagi.com/realty/10750060/',\n",
       " 'https://surgut.etagi.com/realty/9976480/',\n",
       " 'https://surgut.etagi.com/realty/9975373/',\n",
       " 'https://surgut.etagi.com/realty/11087976/',\n",
       " 'https://surgut.etagi.com/realty/11074901/',\n",
       " 'https://surgut.etagi.com/realty/11064149/',\n",
       " 'https://surgut.etagi.com/realty/10975728/',\n",
       " 'https://surgut.etagi.com/realty/10956042/',\n",
       " 'https://surgut.etagi.com/realty/10950576/',\n",
       " 'https://surgut.etagi.com/realty/10918256/',\n",
       " 'https://surgut.etagi.com/realty/10899189/',\n",
       " 'https://surgut.etagi.com/realty/10895002/',\n",
       " 'https://surgut.etagi.com/realty/10881163/',\n",
       " 'https://surgut.etagi.com/realty/10874074/',\n",
       " 'https://surgut.etagi.com/realty/10859823/',\n",
       " 'https://surgut.etagi.com/realty/8960206/',\n",
       " 'https://surgut.etagi.com/realty/10832234/',\n",
       " 'https://surgut.etagi.com/realty/10831741/',\n",
       " 'https://surgut.etagi.com/realty/10818989/',\n",
       " 'https://surgut.etagi.com/realty/10771254/',\n",
       " 'https://surgut.etagi.com/realty/9508264/',\n",
       " 'https://surgut.etagi.com/realty/10733792/',\n",
       " 'https://surgut.etagi.com/realty/10719968/',\n",
       " 'https://surgut.etagi.com/realty/10713378/',\n",
       " 'https://surgut.etagi.com/realty/10712070/',\n",
       " 'https://surgut.etagi.com/realty/10709874/',\n",
       " 'https://surgut.etagi.com/realty/10669308/',\n",
       " 'https://surgut.etagi.com/realty/10671784/',\n",
       " 'https://surgut.etagi.com/realty/10571890/',\n",
       " 'https://surgut.etagi.com/realty/10539857/',\n",
       " 'https://surgut.etagi.com/realty/10462404/',\n",
       " 'https://surgut.etagi.com/realty/10425437/',\n",
       " 'https://surgut.etagi.com/realty/10406302/',\n",
       " 'https://surgut.etagi.com/realty/10404368/',\n",
       " 'https://surgut.etagi.com/realty/10369014/',\n",
       " 'https://surgut.etagi.com/realty/10367648/',\n",
       " 'https://surgut.etagi.com/realty/10359982/',\n",
       " 'https://surgut.etagi.com/realty/10333723/',\n",
       " 'https://surgut.etagi.com/realty/10275870/',\n",
       " 'https://surgut.etagi.com/realty/10245250/',\n",
       " 'https://surgut.etagi.com/realty/10221204/',\n",
       " 'https://surgut.etagi.com/realty/10086163/',\n",
       " 'https://surgut.etagi.com/realty/10032628/',\n",
       " 'https://surgut.etagi.com/realty/10002988/',\n",
       " 'https://surgut.etagi.com/realty/9980553/',\n",
       " 'https://surgut.etagi.com/realty/9933264/',\n",
       " 'https://surgut.etagi.com/realty/9935401/',\n",
       " 'https://surgut.etagi.com/realty/9926212/',\n",
       " 'https://surgut.etagi.com/realty/9878125/',\n",
       " 'https://surgut.etagi.com/realty/9832090/',\n",
       " 'https://surgut.etagi.com/realty/9822266/',\n",
       " 'https://surgut.etagi.com/realty/9800762/',\n",
       " 'https://surgut.etagi.com/realty/9787275/',\n",
       " 'https://surgut.etagi.com/realty/9550977/',\n",
       " 'https://surgut.etagi.com/realty/9409475/',\n",
       " 'https://surgut.etagi.com/realty/9241417/',\n",
       " 'https://surgut.etagi.com/realty/9216325/',\n",
       " 'https://surgut.etagi.com/realty/9202499/',\n",
       " 'https://surgut.etagi.com/realty/9133742/',\n",
       " 'https://surgut.etagi.com/realty/8965088/',\n",
       " 'https://surgut.etagi.com/realty/8955847/',\n",
       " 'https://surgut.etagi.com/realty/7590920/',\n",
       " 'https://surgut.etagi.com/realty/8793830/',\n",
       " 'https://surgut.etagi.com/realty/8616793/',\n",
       " 'https://surgut.etagi.com/realty/8548038/',\n",
       " 'https://surgut.etagi.com/realty/8348285/',\n",
       " 'https://surgut.etagi.com/realty/8027446/',\n",
       " 'https://surgut.etagi.com/realty/8022062/',\n",
       " 'https://surgut.etagi.com/realty/7539979/',\n",
       " 'https://surgut.etagi.com/realty/7539677/',\n",
       " 'https://surgut.etagi.com/realty/7274311/',\n",
       " 'https://surgut.etagi.com/realty/6994598/',\n",
       " 'https://surgut.etagi.com/realty/6128316/',\n",
       " 'https://surgut.etagi.com/realty/2803196/',\n",
       " 'https://surgut.etagi.com/realty/11095134/',\n",
       " 'https://surgut.etagi.com/realty/11089444/',\n",
       " 'https://surgut.etagi.com/realty/11084391/',\n",
       " 'https://surgut.etagi.com/realty/11050628/',\n",
       " 'https://surgut.etagi.com/realty/11044376/',\n",
       " 'https://surgut.etagi.com/realty/11035963/',\n",
       " 'https://surgut.etagi.com/realty/11012777/',\n",
       " 'https://surgut.etagi.com/realty/10969734/',\n",
       " 'https://surgut.etagi.com/realty/10962456/',\n",
       " 'https://surgut.etagi.com/realty/10931187/',\n",
       " 'https://surgut.etagi.com/realty/10893986/',\n",
       " 'https://surgut.etagi.com/realty/10891179/',\n",
       " 'https://surgut.etagi.com/realty/10875717/',\n",
       " 'https://surgut.etagi.com/realty/10864376/',\n",
       " 'https://surgut.etagi.com/realty/10838974/',\n",
       " 'https://surgut.etagi.com/realty/10802886/',\n",
       " 'https://surgut.etagi.com/realty/10799860/',\n",
       " 'https://surgut.etagi.com/realty/10777278/',\n",
       " 'https://surgut.etagi.com/realty/10745965/',\n",
       " 'https://surgut.etagi.com/realty/10719212/',\n",
       " 'https://surgut.etagi.com/realty/10719672/',\n",
       " 'https://surgut.etagi.com/realty/10673774/',\n",
       " 'https://surgut.etagi.com/realty/10661444/',\n",
       " 'https://surgut.etagi.com/realty/10623365/',\n",
       " 'https://surgut.etagi.com/realty/10588164/',\n",
       " 'https://surgut.etagi.com/realty/6538655/',\n",
       " 'https://surgut.etagi.com/realty/10533921/',\n",
       " 'https://surgut.etagi.com/realty/10517780/',\n",
       " 'https://surgut.etagi.com/realty/10477637/',\n",
       " 'https://surgut.etagi.com/realty/10472070/',\n",
       " 'https://surgut.etagi.com/realty/10471043/',\n",
       " 'https://surgut.etagi.com/realty/10458818/',\n",
       " 'https://surgut.etagi.com/realty/10428913/',\n",
       " 'https://surgut.etagi.com/realty/10377396/',\n",
       " 'https://surgut.etagi.com/realty/10340900/',\n",
       " 'https://surgut.etagi.com/realty/10320748/',\n",
       " 'https://surgut.etagi.com/realty/10314201/',\n",
       " 'https://surgut.etagi.com/realty/10298230/',\n",
       " 'https://surgut.etagi.com/realty/10254115/',\n",
       " 'https://surgut.etagi.com/realty/10258153/',\n",
       " 'https://surgut.etagi.com/realty/10190506/',\n",
       " 'https://surgut.etagi.com/realty/10183733/',\n",
       " 'https://surgut.etagi.com/realty/10103036/',\n",
       " 'https://surgut.etagi.com/realty/10022074/',\n",
       " 'https://surgut.etagi.com/realty/10009554/',\n",
       " 'https://surgut.etagi.com/realty/9966797/',\n",
       " 'https://surgut.etagi.com/realty/9958527/',\n",
       " 'https://surgut.etagi.com/realty/9910940/',\n",
       " 'https://surgut.etagi.com/realty/9789192/',\n",
       " 'https://surgut.etagi.com/realty/9788578/',\n",
       " 'https://surgut.etagi.com/realty/9784268/',\n",
       " 'https://surgut.etagi.com/realty/9733041/',\n",
       " 'https://surgut.etagi.com/realty/9662341/',\n",
       " 'https://surgut.etagi.com/realty/9662233/',\n",
       " 'https://surgut.etagi.com/realty/9632791/',\n",
       " 'https://surgut.etagi.com/realty/9552167/',\n",
       " 'https://surgut.etagi.com/realty/9354372/',\n",
       " 'https://surgut.etagi.com/realty/9295996/',\n",
       " 'https://surgut.etagi.com/realty/9212436/',\n",
       " 'https://surgut.etagi.com/realty/8953451/',\n",
       " 'https://surgut.etagi.com/realty/8848145/',\n",
       " 'https://surgut.etagi.com/realty/8526184/',\n",
       " 'https://surgut.etagi.com/realty/8082743/',\n",
       " 'https://surgut.etagi.com/realty/7909013/',\n",
       " 'https://surgut.etagi.com/realty/7798346/',\n",
       " 'https://surgut.etagi.com/realty/7359295/',\n",
       " 'https://surgut.etagi.com/realty/6689921/',\n",
       " 'https://surgut.etagi.com/realty/6208695/',\n",
       " 'https://surgut.etagi.com/realty/5779625/',\n",
       " 'https://surgut.etagi.com/realty/5772681/',\n",
       " 'https://surgut.etagi.com/realty/4496816/',\n",
       " 'https://surgut.etagi.com/realty/4378993/',\n",
       " 'https://surgut.etagi.com/realty/1823799/',\n",
       " 'https://surgut.etagi.com/realty/2014061/',\n",
       " 'https://surgut.etagi.com/realty/11067523/',\n",
       " 'https://surgut.etagi.com/realty/11067517/']"
      ]
     },
     "execution_count": 52,
     "metadata": {},
     "output_type": "execute_result"
    }
   ],
   "source": [
    "link_all"
   ]
  },
  {
   "cell_type": "code",
   "execution_count": 53,
   "id": "e37f07c3",
   "metadata": {},
   "outputs": [
    {
     "name": "stderr",
     "output_type": "stream",
     "text": [
      "C:\\Users\\skapr\\AppData\\Local\\Temp\\ipykernel_15080\\3080554008.py:4: FutureWarning: save is not part of the public API, usage can give unexpected results and will be removed in a future version\n",
      "  writer.save()\n"
     ]
    }
   ],
   "source": [
    "#Сохраняем в Excel\n",
    "writer = pd.ExcelWriter('Ссылки_этажи.xlsx')\n",
    "pd.DataFrame(link_all).to_excel(writer, 'link_all')\n",
    "writer.save()"
   ]
  },
  {
   "cell_type": "code",
   "execution_count": 54,
   "id": "77b0f5b1",
   "metadata": {},
   "outputs": [
    {
     "data": {
      "text/plain": [
       "179"
      ]
     },
     "execution_count": 54,
     "metadata": {},
     "output_type": "execute_result"
    }
   ],
   "source": [
    "len(link_all)"
   ]
  },
  {
   "cell_type": "code",
   "execution_count": 55,
   "id": "8f968eab",
   "metadata": {},
   "outputs": [
    {
     "name": "stderr",
     "output_type": "stream",
     "text": [
      "Сбор данных: 100%|███████████████████████████████████████████████████████████████████| 179/179 [13:16<00:00,  4.45s/it]\n"
     ]
    }
   ],
   "source": [
    "#Выгружаем данные (характеристики, адрес, текст объявления)\n",
    "service = Service(executable_path = 'C:\\Python\\chromedriver.exe')\n",
    "options = webdriver.ChromeOptions()\n",
    "\n",
    "options.add_argument(\"--disable-blink-features\")\n",
    "options.add_argument(\"--disable-blink-features=AutomationControlled\")\n",
    "options.add_experimental_option(\"excludeSwitches\", [\"enable-automation\"])\n",
    "options.add_experimental_option('useAutomationExtension', False)\n",
    "options.add_argument(\"start_maximized\")\n",
    "\n",
    "driver = webdriver.Chrome(service = service, options = options)\n",
    "\n",
    "stealth(driver,\n",
    "#        user_agent = 'Mozilla/5.0 (Windows NT 10.0; Win64; x64) AppleWebKit/537.36 (KHTML, like Gecko) Chrome/83.0.4103.53 Safari/537.36',\n",
    "        languages=[\"en-US\", \"en\"],\n",
    "        vendor = \"Google Inc.\",\n",
    "        platform=\"Win32\",\n",
    "        webgl_vendor=\"Intel Inc.\",\n",
    "        renderer=\"Intel Iris OpenGL Engine\",\n",
    "        fix_hairline=False, #True \n",
    "        run_on_insecure_origins=False\n",
    "        )\n",
    "\n",
    "link_all_photo = []\n",
    "\n",
    "for lnk in tqdm(link_all, 'Сбор данных'):\n",
    "    \n",
    "    try:\n",
    "        driver.get(lnk) #открываем ссылку\n",
    "        sleep(3) #спим\n",
    "        \n",
    "        table_1 = driver.find_element(By.CLASS_NAME, \"zfKBQ\").find_elements(By.CLASS_NAME, \"msUAD\")\n",
    "        #table_1\n",
    "        for tab in table_1:\n",
    "            foto = tab.get_attribute(\"style\")\n",
    "            link_all_photo.append(foto)\n",
    "    \n",
    "    except:\n",
    "        continue"
   ]
  },
  {
   "cell_type": "code",
   "execution_count": 22,
   "id": "64621f62",
   "metadata": {},
   "outputs": [
    {
     "name": "stderr",
     "output_type": "stream",
     "text": [
      "C:\\Users\\skapr\\AppData\\Local\\Temp\\ipykernel_16472\\765212314.py:4: FutureWarning: save is not part of the public API, usage can give unexpected results and will be removed in a future version\n",
      "  writer.save()\n"
     ]
    }
   ],
   "source": [
    "#Сохраняем в Excel\n",
    "#writer = pd.ExcelWriter('Ссылки_этажи.xlsx')\n",
    "#pd.DataFrame(link_all_photo).to_excel(writer, 'link_all_photo')\n",
    "#writer.save()"
   ]
  },
  {
   "cell_type": "code",
   "execution_count": 56,
   "id": "8a77e5b7",
   "metadata": {},
   "outputs": [
    {
     "data": {
      "text/plain": [
       "5463"
      ]
     },
     "execution_count": 56,
     "metadata": {},
     "output_type": "execute_result"
    }
   ],
   "source": [
    "len(link_all_photo)"
   ]
  },
  {
   "cell_type": "code",
   "execution_count": 57,
   "id": "7dfc9712",
   "metadata": {},
   "outputs": [
    {
     "name": "stderr",
     "output_type": "stream",
     "text": [
      "C:\\Users\\skapr\\AppData\\Local\\Temp\\ipykernel_15080\\98246589.py:4: FutureWarning: save is not part of the public API, usage can give unexpected results and will be removed in a future version\n",
      "  writer.save()\n"
     ]
    }
   ],
   "source": [
    "#Сохраняем в Excel\n",
    "writer = pd.ExcelWriter('Ссылки_этажи_сургут_прем.xlsx')\n",
    "pd.DataFrame(link_all_photo).to_excel(writer, 'link_all_photo')\n",
    "writer.save()"
   ]
  },
  {
   "cell_type": "code",
   "execution_count": 79,
   "id": "bd7ee10a",
   "metadata": {},
   "outputs": [
    {
     "data": {
      "text/html": [
       "<div>\n",
       "<style scoped>\n",
       "    .dataframe tbody tr th:only-of-type {\n",
       "        vertical-align: middle;\n",
       "    }\n",
       "\n",
       "    .dataframe tbody tr th {\n",
       "        vertical-align: top;\n",
       "    }\n",
       "\n",
       "    .dataframe thead th {\n",
       "        text-align: right;\n",
       "    }\n",
       "</style>\n",
       "<table border=\"1\" class=\"dataframe\">\n",
       "  <thead>\n",
       "    <tr style=\"text-align: right;\">\n",
       "      <th></th>\n",
       "      <th>Unnamed: 0</th>\n",
       "      <th>Текст</th>\n",
       "      <th>Преобразование</th>\n",
       "      <th>Ссылка_1</th>\n",
       "      <th>Ссылка_2</th>\n",
       "      <th>Ссылка_3</th>\n",
       "    </tr>\n",
       "  </thead>\n",
       "  <tbody>\n",
       "    <tr>\n",
       "      <th>0</th>\n",
       "      <td>0</td>\n",
       "      <td>background-image: url(\"//cdn.esoft.digital/640...</td>\n",
       "      <td>http://cdn.esoft.digital/640480/cluster/layout...</td>\n",
       "      <td>http://cdn.esoft.digital/640480/cluster/layout...</td>\n",
       "      <td>http://cdn.esoft.digital/19201080/cluster/layo...</td>\n",
       "      <td>http://cdn.esoft.digital/19201080/cluster/layo...</td>\n",
       "    </tr>\n",
       "    <tr>\n",
       "      <th>1</th>\n",
       "      <td>1</td>\n",
       "      <td>background-image: url(\"//cdn.esoft.digital/320...</td>\n",
       "      <td>http://cdn.esoft.digital/320240/cluster/photos...</td>\n",
       "      <td>http://cdn.esoft.digital/320240/cluster/photos...</td>\n",
       "      <td>http://cdn.esoft.digital/19201080/cluster/phot...</td>\n",
       "      <td>http://cdn.esoft.digital/19201080/cluster/phot...</td>\n",
       "    </tr>\n",
       "    <tr>\n",
       "      <th>2</th>\n",
       "      <td>2</td>\n",
       "      <td>background-image: url(\"https://static.maps.2gi...</td>\n",
       "      <td>https://static.maps.2gis.com/1.0?s=450,450&amp;pt=...</td>\n",
       "      <td>https://static.maps.2gis.com/1.0?s=450,450&amp;pt=...</td>\n",
       "      <td>https://static.maps.2gis.com/1.0?s=450,450&amp;pt=...</td>\n",
       "      <td>https://static.maps.2gis.com/1.0?s=450,450&amp;pt=...</td>\n",
       "    </tr>\n",
       "    <tr>\n",
       "      <th>3</th>\n",
       "      <td>3</td>\n",
       "      <td>background-image: url(\"//cdn.esoft.digital/320...</td>\n",
       "      <td>http://cdn.esoft.digital/320240/cluster/layout...</td>\n",
       "      <td>http://cdn.esoft.digital/320240/cluster/layout...</td>\n",
       "      <td>http://cdn.esoft.digital/19201080/cluster/layo...</td>\n",
       "      <td>http://cdn.esoft.digital/19201080/cluster/layo...</td>\n",
       "    </tr>\n",
       "    <tr>\n",
       "      <th>4</th>\n",
       "      <td>4</td>\n",
       "      <td>background-image: url(\"//cdn.esoft.digital/320...</td>\n",
       "      <td>http://cdn.esoft.digital/320240/cluster/photos...</td>\n",
       "      <td>http://cdn.esoft.digital/320240/cluster/photos...</td>\n",
       "      <td>http://cdn.esoft.digital/19201080/cluster/phot...</td>\n",
       "      <td>http://cdn.esoft.digital/19201080/cluster/phot...</td>\n",
       "    </tr>\n",
       "    <tr>\n",
       "      <th>...</th>\n",
       "      <td>...</td>\n",
       "      <td>...</td>\n",
       "      <td>...</td>\n",
       "      <td>...</td>\n",
       "      <td>...</td>\n",
       "      <td>...</td>\n",
       "    </tr>\n",
       "    <tr>\n",
       "      <th>5458</th>\n",
       "      <td>5458</td>\n",
       "      <td>background-image: url(\"//cdn.esoft.digital/320...</td>\n",
       "      <td>http://cdn.esoft.digital/320240/cluster/photos...</td>\n",
       "      <td>http://cdn.esoft.digital/320240/cluster/photos...</td>\n",
       "      <td>http://cdn.esoft.digital/19201080/cluster/phot...</td>\n",
       "      <td>http://cdn.esoft.digital/19201080/cluster/phot...</td>\n",
       "    </tr>\n",
       "    <tr>\n",
       "      <th>5459</th>\n",
       "      <td>5459</td>\n",
       "      <td>background-image: url(\"//cdn.esoft.digital/320...</td>\n",
       "      <td>http://cdn.esoft.digital/320240/cluster/photos...</td>\n",
       "      <td>http://cdn.esoft.digital/320240/cluster/photos...</td>\n",
       "      <td>http://cdn.esoft.digital/19201080/cluster/phot...</td>\n",
       "      <td>http://cdn.esoft.digital/19201080/cluster/phot...</td>\n",
       "    </tr>\n",
       "    <tr>\n",
       "      <th>5460</th>\n",
       "      <td>5460</td>\n",
       "      <td>background-image: url(\"//cdn.esoft.digital/320...</td>\n",
       "      <td>http://cdn.esoft.digital/320240/cluster/photos...</td>\n",
       "      <td>http://cdn.esoft.digital/320240/cluster/photos...</td>\n",
       "      <td>http://cdn.esoft.digital/19201080/cluster/phot...</td>\n",
       "      <td>http://cdn.esoft.digital/19201080/cluster/phot...</td>\n",
       "    </tr>\n",
       "    <tr>\n",
       "      <th>5461</th>\n",
       "      <td>5461</td>\n",
       "      <td>background-image: url(\"//cdn.esoft.digital/320...</td>\n",
       "      <td>http://cdn.esoft.digital/320240/cluster/photos...</td>\n",
       "      <td>http://cdn.esoft.digital/320240/cluster/photos...</td>\n",
       "      <td>http://cdn.esoft.digital/19201080/cluster/phot...</td>\n",
       "      <td>http://cdn.esoft.digital/19201080/cluster/phot...</td>\n",
       "    </tr>\n",
       "    <tr>\n",
       "      <th>5462</th>\n",
       "      <td>5462</td>\n",
       "      <td>background-image: url(\"//cdn.esoft.digital/320...</td>\n",
       "      <td>http://cdn.esoft.digital/320240/cluster/photos...</td>\n",
       "      <td>http://cdn.esoft.digital/320240/cluster/photos...</td>\n",
       "      <td>http://cdn.esoft.digital/19201080/cluster/phot...</td>\n",
       "      <td>http://cdn.esoft.digital/19201080/cluster/phot...</td>\n",
       "    </tr>\n",
       "  </tbody>\n",
       "</table>\n",
       "<p>5463 rows × 6 columns</p>\n",
       "</div>"
      ],
      "text/plain": [
       "      Unnamed: 0                                              Текст  \\\n",
       "0              0  background-image: url(\"//cdn.esoft.digital/640...   \n",
       "1              1  background-image: url(\"//cdn.esoft.digital/320...   \n",
       "2              2  background-image: url(\"https://static.maps.2gi...   \n",
       "3              3  background-image: url(\"//cdn.esoft.digital/320...   \n",
       "4              4  background-image: url(\"//cdn.esoft.digital/320...   \n",
       "...          ...                                                ...   \n",
       "5458        5458  background-image: url(\"//cdn.esoft.digital/320...   \n",
       "5459        5459  background-image: url(\"//cdn.esoft.digital/320...   \n",
       "5460        5460  background-image: url(\"//cdn.esoft.digital/320...   \n",
       "5461        5461  background-image: url(\"//cdn.esoft.digital/320...   \n",
       "5462        5462  background-image: url(\"//cdn.esoft.digital/320...   \n",
       "\n",
       "                                         Преобразование  \\\n",
       "0     http://cdn.esoft.digital/640480/cluster/layout...   \n",
       "1     http://cdn.esoft.digital/320240/cluster/photos...   \n",
       "2     https://static.maps.2gis.com/1.0?s=450,450&pt=...   \n",
       "3     http://cdn.esoft.digital/320240/cluster/layout...   \n",
       "4     http://cdn.esoft.digital/320240/cluster/photos...   \n",
       "...                                                 ...   \n",
       "5458  http://cdn.esoft.digital/320240/cluster/photos...   \n",
       "5459  http://cdn.esoft.digital/320240/cluster/photos...   \n",
       "5460  http://cdn.esoft.digital/320240/cluster/photos...   \n",
       "5461  http://cdn.esoft.digital/320240/cluster/photos...   \n",
       "5462  http://cdn.esoft.digital/320240/cluster/photos...   \n",
       "\n",
       "                                               Ссылка_1  \\\n",
       "0     http://cdn.esoft.digital/640480/cluster/layout...   \n",
       "1     http://cdn.esoft.digital/320240/cluster/photos...   \n",
       "2     https://static.maps.2gis.com/1.0?s=450,450&pt=...   \n",
       "3     http://cdn.esoft.digital/320240/cluster/layout...   \n",
       "4     http://cdn.esoft.digital/320240/cluster/photos...   \n",
       "...                                                 ...   \n",
       "5458  http://cdn.esoft.digital/320240/cluster/photos...   \n",
       "5459  http://cdn.esoft.digital/320240/cluster/photos...   \n",
       "5460  http://cdn.esoft.digital/320240/cluster/photos...   \n",
       "5461  http://cdn.esoft.digital/320240/cluster/photos...   \n",
       "5462  http://cdn.esoft.digital/320240/cluster/photos...   \n",
       "\n",
       "                                               Ссылка_2  \\\n",
       "0     http://cdn.esoft.digital/19201080/cluster/layo...   \n",
       "1     http://cdn.esoft.digital/19201080/cluster/phot...   \n",
       "2     https://static.maps.2gis.com/1.0?s=450,450&pt=...   \n",
       "3     http://cdn.esoft.digital/19201080/cluster/layo...   \n",
       "4     http://cdn.esoft.digital/19201080/cluster/phot...   \n",
       "...                                                 ...   \n",
       "5458  http://cdn.esoft.digital/19201080/cluster/phot...   \n",
       "5459  http://cdn.esoft.digital/19201080/cluster/phot...   \n",
       "5460  http://cdn.esoft.digital/19201080/cluster/phot...   \n",
       "5461  http://cdn.esoft.digital/19201080/cluster/phot...   \n",
       "5462  http://cdn.esoft.digital/19201080/cluster/phot...   \n",
       "\n",
       "                                               Ссылка_3  \n",
       "0     http://cdn.esoft.digital/19201080/cluster/layo...  \n",
       "1     http://cdn.esoft.digital/19201080/cluster/phot...  \n",
       "2     https://static.maps.2gis.com/1.0?s=450,450&pt=...  \n",
       "3     http://cdn.esoft.digital/19201080/cluster/layo...  \n",
       "4     http://cdn.esoft.digital/19201080/cluster/phot...  \n",
       "...                                                 ...  \n",
       "5458  http://cdn.esoft.digital/19201080/cluster/phot...  \n",
       "5459  http://cdn.esoft.digital/19201080/cluster/phot...  \n",
       "5460  http://cdn.esoft.digital/19201080/cluster/phot...  \n",
       "5461  http://cdn.esoft.digital/19201080/cluster/phot...  \n",
       "5462  http://cdn.esoft.digital/19201080/cluster/phot...  \n",
       "\n",
       "[5463 rows x 6 columns]"
      ]
     },
     "execution_count": 79,
     "metadata": {},
     "output_type": "execute_result"
    }
   ],
   "source": [
    "df_lnk = pd.read_excel('D:\\Стас\\Ученье - Свет\\Оценка\\Аспирантура\\Видео по NN, Data mining, ABC и т.д\\Распределение Гаусса, регрессия\\Python\\!Наработки\\Отделка_2/Ссылки_этажи_сургут_прем.xlsx', sheet_name = 0)\n",
    "df_lnk\n",
    "\n",
    "# df_lnk = pd.read_excel('D:\\Стас\\Ученье - Свет\\Оценка\\Аспирантура\\Видео по NN, Data mining, ABC и т.д\\Распределение Гаусса, регрессия\\Python\\!Наработки\\Отделка_2\\Разбор_итог\\Предчистовая/Ссылки_этажи_волгоград_улучшчерновая.xlsx', sheet_name = 0)\n",
    "# df_lnk"
   ]
  },
  {
   "cell_type": "code",
   "execution_count": 80,
   "id": "25fc3440",
   "metadata": {
    "scrolled": true
   },
   "outputs": [
    {
     "data": {
      "text/plain": [
       "array(['http://cdn.esoft.digital/19201080/cluster/layouts/44/c885404ce18e8a6c2c93dcd8d7047c9e8ebe3e44.jpeg',\n",
       "       'http://cdn.esoft.digital/19201080/cluster/photos/14/d9/5251a57f493a9f96d3953a083d97b80724ead914.jpeg',\n",
       "       'https://static.maps.2gis.com/1.0?s=450,450&pt=61.283279,73.347259~b:iVBORw0KGgoAAAANSUhEUgAAACgAAAAoCAYAAACM%2FrhtAAAACXBIWXMAAAsTAAALEwEAmpwYAAAAAXNSR0IArs4c6QAAAARnQU1BAACxjwv8YQUAAANLSURBVHgBxZi%2Fb9NAFMe%2FttMfkFakC6ypGKnUdGJgSaF0Q3JYYIG2bAyoYmBuECOiLWKBiVawMGHWqjT%2BD2glGFHzHzSUFgSJfbyXH5Xt2M6dnYSP5MS5e%2Bf75s53773TkJAjs5gDMssGxKyAVqCiPF25dnWNrqpGlwP3E%2BDaU5ZdRQI0KHJkLhQNYE0ARZV21JFNYrenrL0txXaywooFA5kNVWEhXe67qJdkR1SXMToxb67qyFTSi2NEgZ51%2BNNcWJOx7jmC%2FCAXKGMA0OiUJ63dp3E2sQIHKa5DL5GRAnlaHYhNDAEahMdT1m5oX6ECaUHk%2BT3B8Ki5aMyFLZzQRWLA2MBwydEO8TasomsEeZ8j1RUkYGR%2Bsfldr%2BwgCTTV8zTVtrcsEzQiz7Ak1PdvjN29j7E795r3%2BsVL%2BPPhHVQhB7BKX7a3rGuKSdwyFBl%2F8PBMHOMVqwLvsy0XGiGQpxcKaNkszj16gtFbt7vqWOQ41SnC%2Fr2AKIFEAQriss9eYOT6YqTNKNVl11%2BT7QQUiBMo8pCA37GJ9TfQpy%2F3tDXIhkVyG6lnU3Tk%2F%2B0nBwlxPHKaZIedNuepja7Q5qwtFDFmZtH4egBxeiLdhm0dasNtVcko2qO%2Bt9O8JmfeA5Lvljg9xe9Xz6VsXeg%2FEC1Q26ePJSSARTvfDpr3xpXZ2MUTj6h6fwVHcB8J4WnveJBR2tCSC%2FRrCLyDDaoUNfxHgq5O91faNRFwNcNFbAVLwlzdSyR59K%2BYVS254l1o28Gy0Kjg2FzomX%2FwnpbxbBt%2F9%2FwRzMjVa01vwzQOv8OlKw7qz8pZuyXICGwFrMYXqu65cfcLClinpQNWNnQhYpOZftIK%2BcPT0EhPQgn2JjUcuEjuIyofYXpGphSClelfSOWwqrTFleNspELnQYiMy%2BS8KBx9cK4iKLHR8kiFoAxOKwU35CiUko%2F26q6kEEnnMo2SykmXUrjVWt3OHK1w5c2cN2ESN696DKeevrVReS9lFkMUiQUyMiLTiGNSCWTiRKYVx6QWyBybNz5SkGH6S8XWBevzClKinJOE4cBZ8ceRghdTX7xQXwRyHEnT6Q2VEh%2BaB%2BmLwDZ25yYsrkuKclYXjWNTulRt31fRJ%2F4ByR8t4MLSCgQAAAAASUVORK5CYII%3D',\n",
       "       ...,\n",
       "       'http://cdn.esoft.digital/19201080/cluster/photos/3f/62/e5b6d35511ae48301f163cb52acff0ab294d623f.jpeg',\n",
       "       'http://cdn.esoft.digital/19201080/cluster/photos/a1/51/df9957539d9a967d6a0553727a4eba014d6951a1.jpeg',\n",
       "       'http://cdn.esoft.digital/19201080/cluster/photos/bf/e0/17c04a17d72155334775abec903017e992ece0bf.jpeg'],\n",
       "      dtype=object)"
      ]
     },
     "execution_count": 80,
     "metadata": {},
     "output_type": "execute_result"
    }
   ],
   "source": [
    "n = len(df_lnk['Ссылка_3']) - 1\n",
    "link_all_photo = np.array(df_lnk['Ссылка_3'].loc[0:n])\n",
    "link_all_photo"
   ]
  },
  {
   "cell_type": "code",
   "execution_count": 81,
   "id": "7c22af5e",
   "metadata": {
    "scrolled": true
   },
   "outputs": [
    {
     "name": "stderr",
     "output_type": "stream",
     "text": [
      "Сбор данных: 100%|█████████████████████████████████████████████████████████████████| 5463/5463 [09:53<00:00,  9.20it/s]\n"
     ]
    }
   ],
   "source": [
    "path = \"D:\\\\Стас\\\\Ученье - Свет\\\\Оценка\\\\Аспирантура\\\\Видео по NN, Data mining, ABC и т.д\\\\Распределение Гаусса, регрессия\\\\Python\\\\!Наработки\\\\Отделка_2\\\\Разбор\\\\\"\n",
    "#path = \"D:\\\\Стас\\\\Ученье - Свет\\\\Оценка\\\\Аспирантура\\\\Видео по NN, Data mining, ABC и т.д\\\\Распределение Гаусса, регрессия\\\\Python\\\\!Наработки\\\\Отделка_2\\\\Разбор_итог\\\\Предчистовая\\\\Разбор\\\\\"\n",
    "a = 62910\n",
    "\n",
    "for lnk in tqdm(link_all_photo, 'Сбор данных'):\n",
    "    a = a + 1\n",
    "    try:\n",
    "        name = str(a) + \"_прем\"\n",
    "        p = requests.get(lnk, timeout = 20)\n",
    "        #print(p)\n",
    "        out = open(path + name + \".jpg\", \"wb\")\n",
    "        out.write(p.content)\n",
    "        #print(a)\n",
    "        out.close()\n",
    "    \n",
    "    except:\n",
    "        continue"
   ]
  },
  {
   "cell_type": "code",
   "execution_count": 18,
   "id": "1f918c14",
   "metadata": {},
   "outputs": [
    {
     "data": {
      "text/plain": [
       "<Response [200]>"
      ]
     },
     "execution_count": 18,
     "metadata": {},
     "output_type": "execute_result"
    }
   ],
   "source": [
    "requests.get('http://cdn.esoft.digital/640480/cluster/layouts/2f/fdc5446005bac2f5752d22ca56a3ab45d8d7a52f.jpeg')"
   ]
  },
  {
   "cell_type": "code",
   "execution_count": 1,
   "id": "b32191d0",
   "metadata": {},
   "outputs": [
    {
     "data": {
      "text/plain": [
       "18803"
      ]
     },
     "execution_count": 1,
     "metadata": {},
     "output_type": "execute_result"
    }
   ],
   "source": [
    "18495+113+195"
   ]
  },
  {
   "cell_type": "markdown",
   "id": "48fe69ff",
   "metadata": {},
   "source": [
    "# Перенос файлов с условием по имени файлов"
   ]
  },
  {
   "cell_type": "code",
   "execution_count": 27,
   "id": "cf4bd9be",
   "metadata": {},
   "outputs": [
    {
     "name": "stderr",
     "output_type": "stream",
     "text": [
      "Обработанно файлов: 100%|████████████████████████████████████████████████████████| 1128/1128 [00:00<00:00, 5762.37it/s]\n"
     ]
    }
   ],
   "source": [
    "import shutil\n",
    "import os\n",
    "\n",
    "#папка, где находятся файлы, по именам которых надо сделать перенос (папка сотрудника)\n",
    "path_m = r'D:/Стас/Ученье - Свет/Оценка/Аспирантура/Видео по NN, Data mining, ABC и т.д/Распределение Гаусса, регрессия/Python/!Наработки/Отделка_2/Марулин_Владивосток_пред_small/15. ХБЗ/'\n",
    "#папка, где находятся фотографии с большим разрешением (из нее надо копировать)\n",
    "path_big = r'D:/Стас/Ученье - Свет/Оценка/Аспирантура/Видео по NN, Data mining, ABC и т.д/Распределение Гаусса, регрессия/Python/!Наработки/Отделка_2/Разбор_итог/Предчистовая/3. Разбор_Владивосток_пред/' \n",
    "#папка, в которую копируем фото из папки path_big по именам из папки path_m\n",
    "path_i = r'D:/Стас/Ученье - Свет/Оценка/Аспирантура/Видео по NN, Data mining, ABC и т.д/Распределение Гаусса, регрессия/Python/!Наработки/Отделка_2/15. ХБЗ/' \n",
    "\n",
    "names = os.listdir(path_m) #получаем список имен из папки path_m\n",
    "\n",
    "for file in tqdm(os.listdir(path_big), 'Обработанно файлов'):\n",
    "    if file in names: #file.endswith(\".png\") or file.endswith(\".jpg\")\n",
    "        shutil.copyfile(path_big+file, path_i+file)"
   ]
  },
  {
   "cell_type": "code",
   "execution_count": null,
   "id": "40f5e421",
   "metadata": {},
   "outputs": [],
   "source": []
  },
  {
   "cell_type": "code",
   "execution_count": null,
   "id": "516fba0c",
   "metadata": {},
   "outputs": [],
   "source": [
    "def copy_files(folder1, folder2, extensions=()): # Создаём функцию. Получаем 1 и 2 папки; расширение, если требуется\n",
    "    import os # Модуль для работы с OC\n",
    "    import shutil # Модуль для копирования файлов\n",
    "    for file in os.listdir(folder1): #Получаем список файлов в 1 папке и их названия, как file\n",
    "        if extensions: # Если расширения указаны\n",
    "            for extention in extentions: # Присваиваем extention значения extentions поочерёдно\n",
    "                if '.' not in extencion: # Если в расширении нет точки\n",
    "                    extention = f'.{extention}' # Добавляем точку на всякий случай\n",
    "                if extention in file: # Если файл содержит это расширение\n",
    "                    cont = True\n",
    "                    break\n",
    "                else:\n",
    "                    cont = False\n",
    "            if cont: # Если cont равен True\n",
    "                shutil.copyfile(f'{folder1}/{file}', f'{folder2}/{file}')\n",
    "        else:\n",
    "            shutil.copyfile(f'{folder1}/{file}', f'{folder2}/{file}')\n",
    "\n",
    "way1 = 'D:\\ok\\files' # 1 путь\n",
    "way2 = 'C:\\Users\\romaz\\Desktop\\images' # 2 путь\n",
    "copy_files(way1, way2, ('.png', '.jpg'))"
   ]
  },
  {
   "cell_type": "markdown",
   "id": "e06d6bdb",
   "metadata": {},
   "source": [
    "# Получение информации о длине, ширине и имени фотографии"
   ]
  },
  {
   "cell_type": "code",
   "execution_count": null,
   "id": "4e9f703b",
   "metadata": {},
   "outputs": [],
   "source": [
    "import os\n",
    "from PIL import Image \n",
    "\n",
    "folder_images = \"/tmp/photos\"\n",
    "size_images = dict()\n",
    "\n",
    "for dirpath, _, filenames in os.walk(folder_images):\n",
    "    for path_image in filenames:\n",
    "        image = os.path.abspath(os.path.join(dirpath, path_image))\n",
    "        with Image.open(image) as img:\n",
    "            width, heigth = img.size\n",
    "            SIZE_IMAGES[path_image] = {'width': width, 'heigth': heigth}\n",
    "print(size_images)"
   ]
  },
  {
   "cell_type": "code",
   "execution_count": 107,
   "id": "11375cb9",
   "metadata": {},
   "outputs": [
    {
     "name": "stderr",
     "output_type": "stream",
     "text": [
      "Обработанно файлов: 100%|██████████████████████████████████████████████████████████████| 10/10 [00:00<00:00, 27.30it/s]"
     ]
    },
    {
     "name": "stdout",
     "output_type": "stream",
     "text": [
      "[{'image': '10_бо.jpg', 'width': 1280, 'height': 960}, {'image': '1_бо.jpg', 'width': 1393, 'height': 1393}, {'image': '2_бо.jpg', 'width': 600, 'height': 600}, {'image': '3_бо.jpg', 'width': 437, 'height': 437}, {'image': '4_бо.jpg', 'width': 1393, 'height': 1393}, {'image': '5_бо.jpg', 'width': 1280, 'height': 960}, {'image': '6_бо.jpg', 'width': 1280, 'height': 960}, {'image': '7_бо.jpg', 'width': 1280, 'height': 960}, {'image': '8_бо.jpg', 'width': 1280, 'height': 960}, {'image': '9_бо.jpg', 'width': 1280, 'height': 960}]\n"
     ]
    },
    {
     "name": "stderr",
     "output_type": "stream",
     "text": [
      "\n"
     ]
    }
   ],
   "source": [
    "import os\n",
    "import pandas as pd\n",
    "from PIL import Image \n",
    "\n",
    "folder_images = \"D:\\\\Стас\\\\Ученье - Свет\\\\Оценка\\\\Аспирантура\\\\Видео по NN, Data mining, ABC и т.д\\\\Распределение Гаусса, регрессия\\\\Python\\\\!Наработки\\\\Отделка_2\\\\Разбор_итог\\\\Предчистовая\\\\Пример\\\\\"\n",
    "size_images = []\n",
    "\n",
    "for dirpath, _, filenames in os.walk(folder_images):\n",
    "    for path_image in tqdm(filenames, 'Обработанно файлов'):\n",
    "        image = os.path.abspath(os.path.join(dirpath, path_image))\n",
    "        with Image.open(image) as img:\n",
    "            width, height = img.size\n",
    "            size_images.append(\n",
    "                {\n",
    "                    'image': path_image,\n",
    "                    'width': width,\n",
    "                    'height': height\n",
    "                }\n",
    "            )\n",
    "    pd.DataFrame(size_images)\n",
    "\n",
    "print(size_images)"
   ]
  },
  {
   "cell_type": "code",
   "execution_count": 144,
   "id": "65cfa9b8",
   "metadata": {},
   "outputs": [
    {
     "name": "stdout",
     "output_type": "stream",
     "text": [
      "{'image': '10_бо.jpg', 'width': 1280, 'height': 960}\n",
      "1280\n",
      "960\n"
     ]
    }
   ],
   "source": [
    "print(size_images[0])\n",
    "print(size_images[0]['width'])\n",
    "print(size_images[0]['height'])"
   ]
  },
  {
   "cell_type": "markdown",
   "id": "60e3f805",
   "metadata": {},
   "source": [
    "# Изменение имени файла в папке"
   ]
  },
  {
   "cell_type": "code",
   "execution_count": 122,
   "id": "0721feb6",
   "metadata": {},
   "outputs": [
    {
     "name": "stderr",
     "output_type": "stream",
     "text": [
      "Обработанно файлов: 100%|██████████████████████████████████████████████████████████| 475/475 [00:00<00:00, 2016.38it/s]\n"
     ]
    }
   ],
   "source": [
    "import os\n",
    "\n",
    "fileLocation = \"D:\\\\Стас\\\\Ученье - Свет\\\\Оценка\\\\Аспирантура\\\\Видео по NN, Data mining, ABC и т.д\\\\Распределение Гаусса, регрессия\\\\Python\\\\!Наработки\\\\Отделка_2\\\\Разбор_итог\\\\Предчистовая\\\\15. Разбор_Волгоград_пред\\\\\"\n",
    "fileList = os.listdir(fileLocation)\n",
    "#fileList\n",
    "for ii in tqdm(fileList, 'Обработанно файлов'):\n",
    "    newName = ii.replace('об','бо')\n",
    "    if newName != ii:\n",
    "        os.rename(fileLocation + ii, fileLocation + newName)"
   ]
  },
  {
   "cell_type": "code",
   "execution_count": 34,
   "id": "61e95b32",
   "metadata": {},
   "outputs": [
    {
     "name": "stderr",
     "output_type": "stream",
     "text": [
      "Обработанно файлов: 2413it [00:00, 2491.45it/s]\n"
     ]
    }
   ],
   "source": [
    "import os\n",
    "\n",
    "n = 19014 #имя с которого  необходимо начать переименование\n",
    "\n",
    "fileLocation = \"D:\\\\Стас\\\\Ученье - Свет\\\\Оценка\\\\Аспирантура\\\\Видео по NN, Data mining, ABC и т.д\\\\Распределение Гаусса, регрессия\\\\Python\\\\!Наработки\\\\Отделка_2\\\\Разбор_итог\\\\Предчистовая\\\\Rename\\\\\"\n",
    "fileList = os.listdir(fileLocation)\n",
    "#fileList\n",
    "\n",
    "#переименнуем в иные имена (чтобы имена не накладывались)\n",
    "# for i, name in tqdm(enumerate(fileList), 'Обработанно файлов'):\n",
    "#     newName = name.replace('бо','бо_1')\n",
    "#     if newName != name:\n",
    "#         os.rename(fileLocation + name, fileLocation + newName)\n",
    "\n",
    "for i, name in tqdm(enumerate(fileList), 'Обработанно файлов'):\n",
    "    #print(i, name)\n",
    "    i = i + n\n",
    "    #print(i, name)\n",
    "    newName = str(i) + '_бо' + \".jpg\"\n",
    "    #print(newName, name)\n",
    "    if newName != name:\n",
    "        os.rename(fileLocation + name, fileLocation + newName)"
   ]
  },
  {
   "cell_type": "markdown",
   "id": "04b48f10",
   "metadata": {},
   "source": [
    "# Количество фото в папках"
   ]
  },
  {
   "cell_type": "code",
   "execution_count": 58,
   "id": "83540343",
   "metadata": {},
   "outputs": [
    {
     "name": "stderr",
     "output_type": "stream",
     "text": [
      "Обработанно файлов: 15it [00:00, 133.24it/s]"
     ]
    },
    {
     "name": "stdout",
     "output_type": "stream",
     "text": [
      "1. Без отделки 3564\n",
      "10. План 8622\n",
      "11. Улица 15120\n",
      "12. Балкон 2661\n",
      "13. МОП 5578\n",
      "14. Мусор 618\n",
      "15. ХБЗ 0\n",
      "2. Предчистовая 19771\n",
      "3. Требует ремонта 105\n",
      "4. Устаревший 11\n",
      "5. Экономный 337\n",
      "6. Стандартный 135\n",
      "7. Улучшенный 499\n",
      "8. Премиальный 82\n",
      "9. Санузел 266\n"
     ]
    },
    {
     "name": "stderr",
     "output_type": "stream",
     "text": [
      "\n"
     ]
    }
   ],
   "source": [
    "fileLocation = \"D:\\\\Стас\\\\Ученье - Свет\\\\Оценка\\\\Аспирантура\\\\Видео по NN, Data mining, ABC и т.д\\\\Распределение Гаусса, регрессия\\\\Python\\\\!Наработки\\\\Отделка_2\\\\\"\n",
    "fileList = os.listdir(fileLocation)\n",
    "\n",
    "for i, name in tqdm(enumerate(fileList), 'Обработанно файлов'):\n",
    "    i = i + 1\n",
    "    if i == 16: break\n",
    "    print(name, len(next(os.walk(fileLocation + fileList[i - 1]))[2]))\n",
    "        \n",
    "#fileList"
   ]
  },
  {
   "cell_type": "code",
   "execution_count": null,
   "id": "1c0e56ab",
   "metadata": {},
   "outputs": [],
   "source": []
  }
 ],
 "metadata": {
  "kernelspec": {
   "display_name": "Python 3 (ipykernel)",
   "language": "python",
   "name": "python3"
  },
  "language_info": {
   "codemirror_mode": {
    "name": "ipython",
    "version": 3
   },
   "file_extension": ".py",
   "mimetype": "text/x-python",
   "name": "python",
   "nbconvert_exporter": "python",
   "pygments_lexer": "ipython3",
   "version": "3.9.12"
  }
 },
 "nbformat": 4,
 "nbformat_minor": 5
}
